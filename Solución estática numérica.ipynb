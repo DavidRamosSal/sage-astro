{
 "cells": [
  {
   "cell_type": "code",
   "execution_count": 64,
   "metadata": {},
   "outputs": [],
   "source": [
    "import numpy as np"
   ]
  },
  {
   "cell_type": "code",
   "execution_count": 65,
   "metadata": {},
   "outputs": [],
   "source": [
    "rho_c=1\n",
    "K=1\n",
    "RS=1\n",
    "Rho_r=np.zeros((100,2))"
   ]
  },
  {
   "cell_type": "code",
   "execution_count": 66,
   "metadata": {},
   "outputs": [],
   "source": [
    "def rho(x):\n",
    "    return rho_c*(1-(K/RS)*(x**2))"
   ]
  },
  {
   "cell_type": "code",
   "execution_count": 67,
   "metadata": {},
   "outputs": [],
   "source": [
    "j=0\n",
    "for x in np.linspace(0,10,num=100):\n",
    "    Rho_r[j][0]=x\n",
    "    Rho_r[j][1]=rho(x)\n",
    "    j=j+1"
   ]
  },
  {
   "cell_type": "code",
   "execution_count": 71,
   "metadata": {
    "scrolled": true
   },
   "outputs": [
    {
     "data": {
      "text/plain": [
       "array([[ 0.00000000e+00,  1.00000000e+00],\n",
       "       [ 1.01010101e-01,  9.89796959e-01],\n",
       "       [ 2.02020202e-01,  9.59187838e-01],\n",
       "       [ 3.03030303e-01,  9.08172635e-01],\n",
       "       [ 4.04040404e-01,  8.36751352e-01],\n",
       "       [ 5.05050505e-01,  7.44923987e-01],\n",
       "       [ 6.06060606e-01,  6.32690542e-01],\n",
       "       [ 7.07070707e-01,  5.00051015e-01],\n",
       "       [ 8.08080808e-01,  3.47005408e-01],\n",
       "       [ 9.09090909e-01,  1.73553719e-01],\n",
       "       [ 1.01010101e+00, -2.03040506e-02],\n",
       "       [ 1.11111111e+00, -2.34567901e-01],\n",
       "       [ 1.21212121e+00, -4.69237833e-01],\n",
       "       [ 1.31313131e+00, -7.24313846e-01],\n",
       "       [ 1.41414141e+00, -9.99795939e-01],\n",
       "       [ 1.51515152e+00, -1.29568411e+00],\n",
       "       [ 1.61616162e+00, -1.61197837e+00],\n",
       "       [ 1.71717172e+00, -1.94867871e+00],\n",
       "       [ 1.81818182e+00, -2.30578512e+00],\n",
       "       [ 1.91919192e+00, -2.68329762e+00],\n",
       "       [ 2.02020202e+00, -3.08121620e+00],\n",
       "       [ 2.12121212e+00, -3.49954086e+00],\n",
       "       [ 2.22222222e+00, -3.93827160e+00],\n",
       "       [ 2.32323232e+00, -4.39740843e+00],\n",
       "       [ 2.42424242e+00, -4.87695133e+00],\n",
       "       [ 2.52525253e+00, -5.37690032e+00],\n",
       "       [ 2.62626263e+00, -5.89725538e+00],\n",
       "       [ 2.72727273e+00, -6.43801653e+00],\n",
       "       [ 2.82828283e+00, -6.99918376e+00],\n",
       "       [ 2.92929293e+00, -7.58075707e+00],\n",
       "       [ 3.03030303e+00, -8.18273646e+00],\n",
       "       [ 3.13131313e+00, -8.80512193e+00],\n",
       "       [ 3.23232323e+00, -9.44791348e+00],\n",
       "       [ 3.33333333e+00, -1.01111111e+01],\n",
       "       [ 3.43434343e+00, -1.07947148e+01],\n",
       "       [ 3.53535354e+00, -1.14987246e+01],\n",
       "       [ 3.63636364e+00, -1.22231405e+01],\n",
       "       [ 3.73737374e+00, -1.29679625e+01],\n",
       "       [ 3.83838384e+00, -1.37331905e+01],\n",
       "       [ 3.93939394e+00, -1.45188246e+01],\n",
       "       [ 4.04040404e+00, -1.53248648e+01],\n",
       "       [ 4.14141414e+00, -1.61513111e+01],\n",
       "       [ 4.24242424e+00, -1.69981635e+01],\n",
       "       [ 4.34343434e+00, -1.78654219e+01],\n",
       "       [ 4.44444444e+00, -1.87530864e+01],\n",
       "       [ 4.54545455e+00, -1.96611570e+01],\n",
       "       [ 4.64646465e+00, -2.05896337e+01],\n",
       "       [ 4.74747475e+00, -2.15385165e+01],\n",
       "       [ 4.84848485e+00, -2.25078053e+01],\n",
       "       [ 4.94949495e+00, -2.34975003e+01],\n",
       "       [ 5.05050505e+00, -2.45076013e+01],\n",
       "       [ 5.15151515e+00, -2.55381084e+01],\n",
       "       [ 5.25252525e+00, -2.65890215e+01],\n",
       "       [ 5.35353535e+00, -2.76603408e+01],\n",
       "       [ 5.45454545e+00, -2.87520661e+01],\n",
       "       [ 5.55555556e+00, -2.98641975e+01],\n",
       "       [ 5.65656566e+00, -3.09967350e+01],\n",
       "       [ 5.75757576e+00, -3.21496786e+01],\n",
       "       [ 5.85858586e+00, -3.33230283e+01],\n",
       "       [ 5.95959596e+00, -3.45167840e+01],\n",
       "       [ 6.06060606e+00, -3.57309458e+01],\n",
       "       [ 6.16161616e+00, -3.69655137e+01],\n",
       "       [ 6.26262626e+00, -3.82204877e+01],\n",
       "       [ 6.36363636e+00, -3.94958678e+01],\n",
       "       [ 6.46464646e+00, -4.07916539e+01],\n",
       "       [ 6.56565657e+00, -4.21078461e+01],\n",
       "       [ 6.66666667e+00, -4.34444444e+01],\n",
       "       [ 6.76767677e+00, -4.48014488e+01],\n",
       "       [ 6.86868687e+00, -4.61788593e+01],\n",
       "       [ 6.96969697e+00, -4.75766758e+01],\n",
       "       [ 7.07070707e+00, -4.89948985e+01],\n",
       "       [ 7.17171717e+00, -5.04335272e+01],\n",
       "       [ 7.27272727e+00, -5.18925620e+01],\n",
       "       [ 7.37373737e+00, -5.33720029e+01],\n",
       "       [ 7.47474747e+00, -5.48718498e+01],\n",
       "       [ 7.57575758e+00, -5.63921028e+01],\n",
       "       [ 7.67676768e+00, -5.79327620e+01],\n",
       "       [ 7.77777778e+00, -5.94938272e+01],\n",
       "       [ 7.87878788e+00, -6.10752984e+01],\n",
       "       [ 7.97979798e+00, -6.26771758e+01],\n",
       "       [ 8.08080808e+00, -6.42994592e+01],\n",
       "       [ 8.18181818e+00, -6.59421488e+01],\n",
       "       [ 8.28282828e+00, -6.76052444e+01],\n",
       "       [ 8.38383838e+00, -6.92887460e+01],\n",
       "       [ 8.48484848e+00, -7.09926538e+01],\n",
       "       [ 8.58585859e+00, -7.27169677e+01],\n",
       "       [ 8.68686869e+00, -7.44616876e+01],\n",
       "       [ 8.78787879e+00, -7.62268136e+01],\n",
       "       [ 8.88888889e+00, -7.80123457e+01],\n",
       "       [ 8.98989899e+00, -7.98182838e+01],\n",
       "       [ 9.09090909e+00, -8.16446281e+01],\n",
       "       [ 9.19191919e+00, -8.34913784e+01],\n",
       "       [ 9.29292929e+00, -8.53585348e+01],\n",
       "       [ 9.39393939e+00, -8.72460973e+01],\n",
       "       [ 9.49494949e+00, -8.91540659e+01],\n",
       "       [ 9.59595960e+00, -9.10824406e+01],\n",
       "       [ 9.69696970e+00, -9.30312213e+01],\n",
       "       [ 9.79797980e+00, -9.50004081e+01],\n",
       "       [ 9.89898990e+00, -9.69900010e+01],\n",
       "       [ 1.00000000e+01, -9.90000000e+01]])"
      ]
     },
     "execution_count": 71,
     "metadata": {},
     "output_type": "execute_result"
    }
   ],
   "source": [
    "Rho_r"
   ]
  },
  {
   "cell_type": "code",
   "execution_count": 79,
   "metadata": {},
   "outputs": [
    {
     "data": {
      "text/plain": [
       "100"
      ]
     },
     "execution_count": 79,
     "metadata": {},
     "output_type": "execute_result"
    }
   ],
   "source": []
  },
  {
   "cell_type": "code",
   "execution_count": 85,
   "metadata": {},
   "outputs": [],
   "source": [
    "from scipy import integrate\n",
    "import matplotlib.pyplot as plt"
   ]
  },
  {
   "cell_type": "code",
   "execution_count": 93,
   "metadata": {},
   "outputs": [],
   "source": [
    "m=integrate.cumtrapz(Rho_r[:,1]*Rho_r[:,0]*Rho_r[:,0], Rho_r[:,0], initial=0)"
   ]
  },
  {
   "cell_type": "code",
   "execution_count": 94,
   "metadata": {},
   "outputs": [
    {
     "data": {
      "text/plain": [
       "array([ 0.00000000e+00,  5.10047398e-04,  2.99719224e-03,  9.18616341e-03,\n",
       "        2.02969526e-02,  3.67924459e-02,  5.81260551e-02,  8.24893489e-02,\n",
       "        1.06559685e-01,  1.25247840e-01,  1.31445644e-01,  1.15773609e-01,\n",
       "        6.63285594e-02, -3.15687320e-02, -1.95625916e-01, -4.46831436e-01,\n",
       "       -8.09706894e-01, -1.31255942e+00, -1.98773405e+00, -2.87186606e+00,\n",
       "       -4.00613340e+00, -5.43650898e+00, -7.21401312e+00, -9.39496586e+00,\n",
       "       -1.20412393e+01, -1.52205102e+01, -1.90065119e+01, -2.34792871e+01,\n",
       "       -2.87254402e+01, -3.48383893e+01, -4.19186189e+01, -5.00739324e+01,\n",
       "       -5.94197039e+01, -7.00791313e+01, -8.21834879e+01, -9.58723756e+01,\n",
       "       -1.11293976e+02, -1.28605306e+02, -1.47972463e+02, -1.69570888e+02,\n",
       "       -1.93585607e+02, -2.20211491e+02, -2.49653506e+02, -2.82126962e+02,\n",
       "       -3.17857773e+02, -3.57082702e+02, -4.00049616e+02, -4.47017741e+02,\n",
       "       -4.98257908e+02, -5.54052813e+02, -6.14697265e+02, -6.80498437e+02,\n",
       "       -7.51776122e+02, -8.28862985e+02, -9.12104812e+02, -1.00186076e+03,\n",
       "       -1.09850363e+03, -1.20242009e+03, -1.31401094e+03, -1.43369136e+03,\n",
       "       -1.56189119e+03, -1.69905514e+03, -1.84564306e+03, -2.00213021e+03,\n",
       "       -2.16900749e+03, -2.34678169e+03, -2.53597577e+03, -2.73712908e+03,\n",
       "       -2.95079762e+03, -3.17755432e+03, -3.41798926e+03, -3.67270992e+03,\n",
       "       -3.94234148e+03, -4.22752699e+03, -4.52892772e+03, -4.84722334e+03,\n",
       "       -5.18311218e+03, -5.53731152e+03, -5.91055781e+03, -6.30360695e+03,\n",
       "       -6.71723450e+03, -7.15223597e+03, -7.60942705e+03, -8.08964389e+03,\n",
       "       -8.59374331e+03, -9.12260311e+03, -9.67712225e+03, -1.02582212e+04,\n",
       "       -1.08668420e+04, -1.15039488e+04, -1.21705279e+04, -1.28675881e+04,\n",
       "       -1.35961608e+04, -1.43573005e+04, -1.51520848e+04, -1.59816149e+04,\n",
       "       -1.68470155e+04, -1.77494356e+04, -1.86900481e+04, -1.96700506e+04])"
      ]
     },
     "execution_count": 94,
     "metadata": {},
     "output_type": "execute_result"
    }
   ],
   "source": [
    "m"
   ]
  },
  {
   "cell_type": "code",
   "execution_count": 95,
   "metadata": {},
   "outputs": [
    {
     "data": {
      "text/plain": [
       "[<matplotlib.lines.Line2D at 0x7fba5677ac50>]"
      ]
     },
     "execution_count": 95,
     "metadata": {},
     "output_type": "execute_result"
    },
    {
     "data": {
      "image/png": "[encoded data removed]",
      "text/plain": [
       "<matplotlib.figure.Figure at 0x7fba600fd6d8>"
      ]
     },
     "metadata": {},
     "output_type": "display_data"
    }
   ],
   "source": [
    "plt.plot(Rho_r[:,0],m)"
   ]
  },
  {
   "cell_type": "code",
   "execution_count": null,
   "metadata": {},
   "outputs": [],
   "source": [
    " Darlylovesyou for i in infinity "
   ]
  }
 ],
 "metadata": {
  "kernelspec": {
   "display_name": "Python 3",
   "language": "python",
   "name": "python3"
  },
  "language_info": {
   "codemirror_mode": {
    "name": "ipython",
    "version": 3
   },
   "file_extension": ".py",
   "mimetype": "text/x-python",
   "name": "python",
   "nbconvert_exporter": "python",
   "pygments_lexer": "ipython3",
   "version": "3.6.4"
  }
 },
 "nbformat": 4,
 "nbformat_minor": 2
}
