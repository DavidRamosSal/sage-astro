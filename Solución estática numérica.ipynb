{
 "cells": [
  {
   "cell_type": "code",
   "execution_count": 2,
   "metadata": {},
   "outputs": [],
   "source": [
    "import numpy as np\n",
    "import matplotlib.pyplot as plt\n",
    "from scipy import integrate\n",
    "from scipy import interpolate\n",
    "from scipy.integrate import odeint"
   ]
  },
  {
   "cell_type": "markdown",
   "metadata": {},
   "source": [
    "## Generando datos de una ecuación de estado conocida"
   ]
  },
  {
   "cell_type": "markdown",
   "metadata": {},
   "source": [
    "La ecuación de estado de Florides-Gokhroo-Mehra tiene la forma:\n",
    "$$\\rho (r)=\\bar{\\rho}_c \\left[ 1- \\frac{K}{R^2}r^2 \\right]$$"
   ]
  },
  {
   "cell_type": "code",
   "execution_count": 3,
   "metadata": {},
   "outputs": [],
   "source": [
    "rho_c=1\n",
    "K=1\n",
    "RS=1\n",
    "def rho(x):\n",
    "    return rho_c*(1-(K/RS)*(x**2))"
   ]
  },
  {
   "cell_type": "code",
   "execution_count": 4,
   "metadata": {},
   "outputs": [],
   "source": [
    "Rho=np.zeros(5)\n",
    "r=np.zeros(5)\n",
    "j=0\n",
    "for x in np.linspace(0,10,num=5):\n",
    "    r[j]=x\n",
    "    Rho[j]=rho(x)\n",
    "    j=j+1"
   ]
  },
  {
   "cell_type": "code",
   "execution_count": 5,
   "metadata": {
    "scrolled": false
   },
   "outputs": [
    {
     "data": {
      "text/plain": [
       "array([  1.  ,  -5.25, -24.  , -55.25, -99.  ])"
      ]
     },
     "execution_count": 5,
     "metadata": {},
     "output_type": "execute_result"
    }
   ],
   "source": [
    "Rho"
   ]
  },
  {
   "cell_type": "markdown",
   "metadata": {},
   "source": [
    "### Intentando interpolar el arreglo"
   ]
  },
  {
   "cell_type": "code",
   "execution_count": 6,
   "metadata": {},
   "outputs": [],
   "source": [
    "tck=interpolate.splrep(r,Rho,s=0) #spline cúbico por defecto\n",
    "rnew=np.linspace(0,10,num=200)\n",
    "Rhoo_i=interpolate.splev(rnew,tck,der=0)"
   ]
  },
  {
   "cell_type": "code",
   "execution_count": 7,
   "metadata": {},
   "outputs": [
    {
     "data": {
      "text/plain": [
       "[<matplotlib.lines.Line2D at 0x7f5bcceab240>]"
      ]
     },
     "execution_count": 7,
     "metadata": {},
     "output_type": "execute_result"
    },
    {
     "data": {
      "image/png": "[encoded data removed]",
      "text/plain": [
       "<matplotlib.figure.Figure at 0x7f5bd544b198>"
      ]
     },
     "metadata": {},
     "output_type": "display_data"
    }
   ],
   "source": [
    "fig=plt.figure()\n",
    "ax = fig.add_subplot(1, 1, 1)\n",
    "plt.plot(r,Rho,'bo',markersize=4)\n",
    "plt.plot(rnew,Rhoo_i,'ro',markersize=1)"
   ]
  },
  {
   "cell_type": "markdown",
   "metadata": {},
   "source": [
    "La interpolación como una función"
   ]
  },
  {
   "cell_type": "code",
   "execution_count": 8,
   "metadata": {},
   "outputs": [],
   "source": [
    "def Rho_i(r):\n",
    "    return interpolate.splev(r,tck,der=0)"
   ]
  },
  {
   "cell_type": "markdown",
   "metadata": {},
   "source": [
    "## Planteo mi sistema de ecuaciones"
   ]
  },
  {
   "cell_type": "markdown",
   "metadata": {},
   "source": [
    "$$ \\frac{dm}{dr}=4\\pi \\rho r^2 $$\n",
    "$$ \\frac{dP}{dr}= (\\rho+P)\\frac{m+4\\pi r^3 P}{r(r-2m)} $$\n",
    "\n",
    "y si se requiere\n",
    "\n",
    "$$ \\frac{d\\nu}{dr}= \\frac{m+4\\pi r^3 P}{r(r-2m)} $$"
   ]
  },
  {
   "cell_type": "markdown",
   "metadata": {},
   "source": [
    "Para los valores iniciales se escoge $m(0)=0$ y $P_0=P_c$"
   ]
  },
  {
   "cell_type": "markdown",
   "metadata": {},
   "source": [
    "Usando odeint"
   ]
  },
  {
   "cell_type": "code",
   "execution_count": 9,
   "metadata": {},
   "outputs": [],
   "source": [
    "Pc=0.01\n",
    "m0=0\n",
    "def sode(y,r):\n",
    "    P, m=y\n",
    "    derivs=[(Rho_i(r)+P)*(m+4*np.pi*(r**3)*P)/(r*(r-2*m)),4*np.pi*(Rho_i(r))*(r**2)]\n",
    "    return derivs\n",
    "\n",
    "v0=[Pc,m0]\n",
    "r=np.linspace(1,10,num=200)\n",
    "sln=odeint(sode,v0,r)"
   ]
  },
  {
   "cell_type": "code",
   "execution_count": 18,
   "metadata": {},
   "outputs": [],
   "source": [
    "#sln"
   ]
  },
  {
   "cell_type": "code",
   "execution_count": 11,
   "metadata": {
    "scrolled": false
   },
   "outputs": [
    {
     "data": {
      "text/plain": [
       "[<matplotlib.lines.Line2D at 0x7f5bcce47278>]"
      ]
     },
     "execution_count": 11,
     "metadata": {},
     "output_type": "execute_result"
    },
    {
     "data": {
      "image/png": "[encoded data removed]",
      "text/plain": [
       "<matplotlib.figure.Figure at 0x7f5bd544bcf8>"
      ]
     },
     "metadata": {},
     "output_type": "display_data"
    }
   ],
   "source": [
    "plt.plot(r,sln[:,0])"
   ]
  },
  {
   "cell_type": "markdown",
   "metadata": {},
   "source": [
    "Sería bueno utilizar la nueva función solve_ivp y comparar."
   ]
  },
  {
   "cell_type": "markdown",
   "metadata": {},
   "source": [
    "Falta verificar si la solución numérica es correcta comparando con la solución analítica."
   ]
  },
  {
   "cell_type": "markdown",
   "metadata": {},
   "source": [
    "## Usando la función real en vez de la interpolación"
   ]
  },
  {
   "cell_type": "code",
   "execution_count": 12,
   "metadata": {},
   "outputs": [],
   "source": [
    "def sodexact(y,r):\n",
    "    P, m=y\n",
    "    derivs=[(rho(r)+P)*(m+4*np.pi*(r**3)*P)/(r*(r-2*m)),4*np.pi*(rho(r))*(r**2)]\n",
    "    return derivs"
   ]
  },
  {
   "cell_type": "code",
   "execution_count": 13,
   "metadata": {},
   "outputs": [],
   "source": [
    "sln1=odeint(sodexact,v0,r)"
   ]
  },
  {
   "cell_type": "code",
   "execution_count": 17,
   "metadata": {
    "scrolled": false
   },
   "outputs": [],
   "source": [
    "#sln1-sln"
   ]
  },
  {
   "cell_type": "code",
   "execution_count": 15,
   "metadata": {
    "scrolled": true
   },
   "outputs": [
    {
     "data": {
      "image/png": "[encoded data removed]",
      "text/plain": [
       "<matplotlib.figure.Figure at 0x7f5bccdf5668>"
      ]
     },
     "metadata": {},
     "output_type": "display_data"
    }
   ],
   "source": [
    "fig=plt.figure()\n",
    "ax = fig.add_subplot(1, 1, 1)\n",
    "plt.plot(r,sln[:,0],'bo',markersize=1)\n",
    "plt.plot(r,sln1[:,0],'ro',markersize=1)\n",
    "plt.savefig('Perfil de P', format='png', dpi=1000)\n",
    "plt.show()"
   ]
  },
  {
   "cell_type": "markdown",
   "metadata": {},
   "source": [
    "Como el perfil es polinómico la interpolación da casi exacta."
   ]
  },
  {
   "cell_type": "code",
   "execution_count": 16,
   "metadata": {},
   "outputs": [],
   "source": [
    "error=sln1-sln"
   ]
  },
  {
   "cell_type": "code",
   "execution_count": null,
   "metadata": {},
   "outputs": [],
   "source": []
  }
 ],
 "metadata": {
  "kernelspec": {
   "display_name": "Python 3",
   "language": "python",
   "name": "python3"
  },
  "language_info": {
   "codemirror_mode": {
    "name": "ipython",
    "version": 3
   },
   "file_extension": ".py",
   "mimetype": "text/x-python",
   "name": "python",
   "nbconvert_exporter": "python",
   "pygments_lexer": "ipython3",
   "version": "3.6.4"
  }
 },
 "nbformat": 4,
 "nbformat_minor": 2
}
