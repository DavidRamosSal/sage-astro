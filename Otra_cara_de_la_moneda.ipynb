{
 "cells": [
  {
   "cell_type": "code",
   "execution_count": 193,
   "metadata": {
    "collapsed": false,
    "deletable": true,
    "editable": true
   },
   "outputs": [],
   "source": [
    "reset ();"
   ]
  },
  {
   "cell_type": "code",
   "execution_count": 194,
   "metadata": {
    "collapsed": true,
    "deletable": true,
    "editable": true
   },
   "outputs": [],
   "source": [
    "%display latex"
   ]
  },
  {
   "cell_type": "code",
   "execution_count": 195,
   "metadata": {
    "collapsed": false,
    "deletable": true,
    "editable": true
   },
   "outputs": [],
   "source": [
    "Man = Manifold(4,'Man',r'\\mathcal{M}') ;"
   ]
  },
  {
   "cell_type": "code",
   "execution_count": 196,
   "metadata": {
    "collapsed": false,
    "deletable": true,
    "editable": true
   },
   "outputs": [],
   "source": [
    "M=var('M');"
   ]
  },
  {
   "cell_type": "code",
   "execution_count": 197,
   "metadata": {
    "collapsed": false,
    "deletable": true,
    "editable": true
   },
   "outputs": [],
   "source": [
    "SC.<t,r,th,ph>=Man.chart(r't r:(0,+oo) th:(0,pi):\\theta ph:(0,2*pi):\\phi');"
   ]
  },
  {
   "cell_type": "code",
   "execution_count": 198,
   "metadata": {
    "collapsed": false,
    "deletable": true,
    "editable": true
   },
   "outputs": [],
   "source": [
    "v=function('v', latex_name=r'\\nu')(t,r);\n",
    "Lambda=function('l', latex_name=r'\\lambda')(t,r);\n",
    "w=var('w');"
   ]
  },
  {
   "cell_type": "code",
   "execution_count": 199,
   "metadata": {
    "collapsed": false,
    "deletable": true,
    "editable": true
   },
   "outputs": [],
   "source": [
    "g=Man.lorentzian_metric('g');"
   ]
  },
  {
   "cell_type": "code",
   "execution_count": 200,
   "metadata": {
    "collapsed": false,
    "deletable": true,
    "editable": true
   },
   "outputs": [],
   "source": [
    "g[0,0]=exp(v);\n",
    "g[1,1]=-exp(Lambda);\n",
    "g[2,2]=-r^2;\n",
    "g[3,3]=-(r*sin(th))^2;"
   ]
  },
  {
   "cell_type": "code",
   "execution_count": 201,
   "metadata": {
    "collapsed": false,
    "deletable": true,
    "editable": true
   },
   "outputs": [
    {
     "data": {
      "text/html": [
       "<html><script type=\"math/tex; mode=display\">\\newcommand{\\Bold}[1]{\\mathbf{#1}}\\verb|Métrica|\\phantom{\\verb!x!}\\verb|con|\\phantom{\\verb!x!}\\verb|simetría|\\phantom{\\verb!x!}\\verb|esférica|</script></html>"
      ],
      "text/plain": [
       "'M\\xc3\\xa9trica con simetr\\xc3\\xada esf\\xc3\\xa9rica'"
      ]
     },
     "metadata": {},
     "output_type": "display_data"
    },
    {
     "data": {
      "text/html": [
       "<html><script type=\"math/tex; mode=display\">\\newcommand{\\Bold}[1]{\\mathbf{#1}}\\left(\\begin{array}{rrrr}\n",
       "e^{\\left(\\nu\\left({\\tau}, r\\right)\\right)} & 0 & 0 & 0 \\\\\n",
       "0 & -e^{\\left(\\lambda\\left({\\tau}, r\\right)\\right)} & 0 & 0 \\\\\n",
       "0 & 0 & -r^{2} & 0 \\\\\n",
       "0 & 0 & 0 & -r^{2} \\sin\\left({\\theta}\\right)^{2}\n",
       "\\end{array}\\right)</script></html>"
      ],
      "text/plain": [
       "[   e^(v(t, r))              0              0              0]\n",
       "[             0   -e^(l(t, r))              0              0]\n",
       "[             0              0           -r^2              0]\n",
       "[             0              0              0 -r^2*sin(th)^2]"
      ]
     },
     "metadata": {},
     "output_type": "display_data"
    }
   ],
   "source": [
    "show('Métrica con simetría esférica');\n",
    "show(g[:]);"
   ]
  },
  {
   "cell_type": "code",
   "execution_count": 202,
   "metadata": {
    "collapsed": false,
    "deletable": true,
    "editable": true
   },
   "outputs": [],
   "source": [
    "nab=g.connection();"
   ]
  },
  {
   "cell_type": "code",
   "execution_count": 203,
   "metadata": {
    "collapsed": false,
    "deletable": true,
    "editable": true
   },
   "outputs": [
    {
     "data": {
      "text/html": [
       "<html><script type=\"math/tex; mode=display\">\\newcommand{\\Bold}[1]{\\mathbf{#1}}\\verb|Símbolos|\\phantom{\\verb!x!}\\verb|de|\\phantom{\\verb!x!}\\verb|Christoffel|</script></html>"
      ],
      "text/plain": [
       "'S\\xc3\\xadmbolos de Christoffel'"
      ]
     },
     "metadata": {},
     "output_type": "display_data"
    },
    {
     "data": {
      "text/html": [
       "<html><script type=\"math/tex; mode=display\">\\newcommand{\\Bold}[1]{\\mathbf{#1}}\\begin{array}{lcl} \\Gamma_{ \\phantom{\\, {\\tau}} \\, {\\tau} \\, {\\tau} }^{ \\, {\\tau} \\phantom{\\, {\\tau}} \\phantom{\\, {\\tau}} } & = & \\frac{1}{2} \\, \\frac{\\partial\\,\\nu}{\\partial {\\tau}} \\\\ \\Gamma_{ \\phantom{\\, {\\tau}} \\, {\\tau} \\, r }^{ \\, {\\tau} \\phantom{\\, {\\tau}} \\phantom{\\, r} } & = & \\frac{1}{2} \\, \\frac{\\partial\\,\\nu}{\\partial r} \\\\ \\Gamma_{ \\phantom{\\, {\\tau}} \\, r \\, {\\tau} }^{ \\, {\\tau} \\phantom{\\, r} \\phantom{\\, {\\tau}} } & = & \\frac{1}{2} \\, \\frac{\\partial\\,\\nu}{\\partial r} \\\\ \\Gamma_{ \\phantom{\\, {\\tau}} \\, r \\, r }^{ \\, {\\tau} \\phantom{\\, r} \\phantom{\\, r} } & = & \\frac{1}{2} \\, e^{\\left(\\lambda\\left({\\tau}, r\\right) - \\nu\\left({\\tau}, r\\right)\\right)} \\frac{\\partial\\,\\lambda}{\\partial {\\tau}} \\\\ \\Gamma_{ \\phantom{\\, r} \\, {\\tau} \\, {\\tau} }^{ \\, r \\phantom{\\, {\\tau}} \\phantom{\\, {\\tau}} } & = & \\frac{1}{2} \\, e^{\\left(-\\lambda\\left({\\tau}, r\\right) + \\nu\\left({\\tau}, r\\right)\\right)} \\frac{\\partial\\,\\nu}{\\partial r} \\\\ \\Gamma_{ \\phantom{\\, r} \\, {\\tau} \\, r }^{ \\, r \\phantom{\\, {\\tau}} \\phantom{\\, r} } & = & \\frac{1}{2} \\, \\frac{\\partial\\,\\lambda}{\\partial {\\tau}} \\\\ \\Gamma_{ \\phantom{\\, r} \\, r \\, {\\tau} }^{ \\, r \\phantom{\\, r} \\phantom{\\, {\\tau}} } & = & \\frac{1}{2} \\, \\frac{\\partial\\,\\lambda}{\\partial {\\tau}} \\\\ \\Gamma_{ \\phantom{\\, r} \\, r \\, r }^{ \\, r \\phantom{\\, r} \\phantom{\\, r} } & = & \\frac{1}{2} \\, \\frac{\\partial\\,\\lambda}{\\partial r} \\\\ \\Gamma_{ \\phantom{\\, r} \\, {\\theta} \\, {\\theta} }^{ \\, r \\phantom{\\, {\\theta}} \\phantom{\\, {\\theta}} } & = & -r e^{\\left(-\\lambda\\left({\\tau}, r\\right)\\right)} \\\\ \\Gamma_{ \\phantom{\\, r} \\, {\\phi} \\, {\\phi} }^{ \\, r \\phantom{\\, {\\phi}} \\phantom{\\, {\\phi}} } & = & -r e^{\\left(-\\lambda\\left({\\tau}, r\\right)\\right)} \\sin\\left({\\theta}\\right)^{2} \\\\ \\Gamma_{ \\phantom{\\, {\\theta}} \\, r \\, {\\theta} }^{ \\, {\\theta} \\phantom{\\, r} \\phantom{\\, {\\theta}} } & = & \\frac{1}{r} \\\\ \\Gamma_{ \\phantom{\\, {\\theta}} \\, {\\theta} \\, r }^{ \\, {\\theta} \\phantom{\\, {\\theta}} \\phantom{\\, r} } & = & \\frac{1}{r} \\\\ \\Gamma_{ \\phantom{\\, {\\theta}} \\, {\\phi} \\, {\\phi} }^{ \\, {\\theta} \\phantom{\\, {\\phi}} \\phantom{\\, {\\phi}} } & = & -\\cos\\left({\\theta}\\right) \\sin\\left({\\theta}\\right) \\\\ \\Gamma_{ \\phantom{\\, {\\phi}} \\, r \\, {\\phi} }^{ \\, {\\phi} \\phantom{\\, r} \\phantom{\\, {\\phi}} } & = & \\frac{1}{r} \\\\ \\Gamma_{ \\phantom{\\, {\\phi}} \\, {\\theta} \\, {\\phi} }^{ \\, {\\phi} \\phantom{\\, {\\theta}} \\phantom{\\, {\\phi}} } & = & \\frac{\\cos\\left({\\theta}\\right)}{\\sin\\left({\\theta}\\right)} \\\\ \\Gamma_{ \\phantom{\\, {\\phi}} \\, {\\phi} \\, r }^{ \\, {\\phi} \\phantom{\\, {\\phi}} \\phantom{\\, r} } & = & \\frac{1}{r} \\\\ \\Gamma_{ \\phantom{\\, {\\phi}} \\, {\\phi} \\, {\\theta} }^{ \\, {\\phi} \\phantom{\\, {\\phi}} \\phantom{\\, {\\theta}} } & = & \\frac{\\cos\\left({\\theta}\\right)}{\\sin\\left({\\theta}\\right)} \\end{array}</script></html>"
      ],
      "text/plain": [
       "Gam^t_t,t = 1/2*d(v)/dt \n",
       "Gam^t_t,r = 1/2*d(v)/dr \n",
       "Gam^t_r,t = 1/2*d(v)/dr \n",
       "Gam^t_r,r = 1/2*e^(l(t, r) - v(t, r))*d(l)/dt \n",
       "Gam^r_t,t = 1/2*e^(-l(t, r) + v(t, r))*d(v)/dr \n",
       "Gam^r_t,r = 1/2*d(l)/dt \n",
       "Gam^r_r,t = 1/2*d(l)/dt \n",
       "Gam^r_r,r = 1/2*d(l)/dr \n",
       "Gam^r_th,th = -r*e^(-l(t, r)) \n",
       "Gam^r_ph,ph = -r*e^(-l(t, r))*sin(th)^2 \n",
       "Gam^th_r,th = 1/r \n",
       "Gam^th_th,r = 1/r \n",
       "Gam^th_ph,ph = -cos(th)*sin(th) \n",
       "Gam^ph_r,ph = 1/r \n",
       "Gam^ph_th,ph = cos(th)/sin(th) \n",
       "Gam^ph_ph,r = 1/r \n",
       "Gam^ph_ph,th = cos(th)/sin(th) "
      ]
     },
     "metadata": {},
     "output_type": "display_data"
    }
   ],
   "source": [
    "show('Símbolos de Christoffel');\n",
    "show(nab.display());"
   ]
  },
  {
   "cell_type": "code",
   "execution_count": 204,
   "metadata": {
    "collapsed": false,
    "deletable": true,
    "editable": true
   },
   "outputs": [],
   "source": [
    "Riem=g.riemann();\n",
    "Riem.set_name('R')\n",
    "Ric=g.ricci();\n",
    "Ric.set_name('R');\n",
    "Rs=g.ricci_scalar();"
   ]
  },
  {
   "cell_type": "code",
   "execution_count": 205,
   "metadata": {
    "collapsed": false,
    "deletable": true,
    "editable": true
   },
   "outputs": [
    {
     "data": {
      "text/html": [
       "<html><script type=\"math/tex; mode=display\">\\newcommand{\\Bold}[1]{\\mathbf{#1}}\\verb|Tensor|\\phantom{\\verb!x!}\\verb|de|\\phantom{\\verb!x!}\\verb|Riemann|</script></html>"
      ],
      "text/plain": [
       "'Tensor de Riemann'"
      ]
     },
     "metadata": {},
     "output_type": "display_data"
    },
    {
     "data": {
      "text/html": [
       "<html><script type=\"math/tex; mode=display\">\\newcommand{\\Bold}[1]{\\mathbf{#1}}\\begin{array}{lcl} R_{ \\phantom{\\, {\\tau}} \\, r \\, {\\tau} \\, r }^{ \\, {\\tau} \\phantom{\\, r} \\phantom{\\, {\\tau}} \\phantom{\\, r} } & = & \\frac{1}{4} \\, {\\left(e^{\\left(\\lambda\\left({\\tau}, r\\right)\\right)} \\left(\\frac{\\partial\\,\\lambda}{\\partial {\\tau}}\\right)^{2} - e^{\\left(\\lambda\\left({\\tau}, r\\right)\\right)} \\frac{\\partial\\,\\lambda}{\\partial {\\tau}} \\frac{\\partial\\,\\nu}{\\partial {\\tau}} + e^{\\left(\\nu\\left({\\tau}, r\\right)\\right)} \\frac{\\partial\\,\\lambda}{\\partial r} \\frac{\\partial\\,\\nu}{\\partial r} - e^{\\left(\\nu\\left({\\tau}, r\\right)\\right)} \\frac{\\partial\\,\\nu}{\\partial r}^{2} + 2 \\, e^{\\left(\\lambda\\left({\\tau}, r\\right)\\right)} \\frac{\\partial^2\\,\\lambda}{\\partial {\\tau} ^ 2} - 2 \\, e^{\\left(\\nu\\left({\\tau}, r\\right)\\right)} \\frac{\\partial^2\\,\\nu}{\\partial r ^ 2}\\right)} e^{\\left(-\\nu\\left({\\tau}, r\\right)\\right)} \\\\ R_{ \\phantom{\\, {\\tau}} \\, r \\, r \\, {\\tau} }^{ \\, {\\tau} \\phantom{\\, r} \\phantom{\\, r} \\phantom{\\, {\\tau}} } & = & -\\frac{1}{4} \\, {\\left(e^{\\left(\\lambda\\left({\\tau}, r\\right)\\right)} \\left(\\frac{\\partial\\,\\lambda}{\\partial {\\tau}}\\right)^{2} - e^{\\left(\\lambda\\left({\\tau}, r\\right)\\right)} \\frac{\\partial\\,\\lambda}{\\partial {\\tau}} \\frac{\\partial\\,\\nu}{\\partial {\\tau}} + e^{\\left(\\nu\\left({\\tau}, r\\right)\\right)} \\frac{\\partial\\,\\lambda}{\\partial r} \\frac{\\partial\\,\\nu}{\\partial r} - e^{\\left(\\nu\\left({\\tau}, r\\right)\\right)} \\frac{\\partial\\,\\nu}{\\partial r}^{2} + 2 \\, e^{\\left(\\lambda\\left({\\tau}, r\\right)\\right)} \\frac{\\partial^2\\,\\lambda}{\\partial {\\tau} ^ 2} - 2 \\, e^{\\left(\\nu\\left({\\tau}, r\\right)\\right)} \\frac{\\partial^2\\,\\nu}{\\partial r ^ 2}\\right)} e^{\\left(-\\nu\\left({\\tau}, r\\right)\\right)} \\\\ R_{ \\phantom{\\, {\\tau}} \\, {\\theta} \\, {\\tau} \\, {\\theta} }^{ \\, {\\tau} \\phantom{\\, {\\theta}} \\phantom{\\, {\\tau}} \\phantom{\\, {\\theta}} } & = & -\\frac{1}{2} \\, r e^{\\left(-\\lambda\\left({\\tau}, r\\right)\\right)} \\frac{\\partial\\,\\nu}{\\partial r} \\\\ R_{ \\phantom{\\, {\\tau}} \\, {\\theta} \\, r \\, {\\theta} }^{ \\, {\\tau} \\phantom{\\, {\\theta}} \\phantom{\\, r} \\phantom{\\, {\\theta}} } & = & -\\frac{1}{2} \\, r e^{\\left(-\\nu\\left({\\tau}, r\\right)\\right)} \\frac{\\partial\\,\\lambda}{\\partial {\\tau}} \\\\ R_{ \\phantom{\\, {\\tau}} \\, {\\theta} \\, {\\theta} \\, {\\tau} }^{ \\, {\\tau} \\phantom{\\, {\\theta}} \\phantom{\\, {\\theta}} \\phantom{\\, {\\tau}} } & = & \\frac{1}{2} \\, r e^{\\left(-\\lambda\\left({\\tau}, r\\right)\\right)} \\frac{\\partial\\,\\nu}{\\partial r} \\\\ R_{ \\phantom{\\, {\\tau}} \\, {\\theta} \\, {\\theta} \\, r }^{ \\, {\\tau} \\phantom{\\, {\\theta}} \\phantom{\\, {\\theta}} \\phantom{\\, r} } & = & \\frac{1}{2} \\, r e^{\\left(-\\nu\\left({\\tau}, r\\right)\\right)} \\frac{\\partial\\,\\lambda}{\\partial {\\tau}} \\\\ R_{ \\phantom{\\, {\\tau}} \\, {\\phi} \\, {\\tau} \\, {\\phi} }^{ \\, {\\tau} \\phantom{\\, {\\phi}} \\phantom{\\, {\\tau}} \\phantom{\\, {\\phi}} } & = & -\\frac{1}{2} \\, r e^{\\left(-\\lambda\\left({\\tau}, r\\right)\\right)} \\sin\\left({\\theta}\\right)^{2} \\frac{\\partial\\,\\nu}{\\partial r} \\\\ R_{ \\phantom{\\, {\\tau}} \\, {\\phi} \\, r \\, {\\phi} }^{ \\, {\\tau} \\phantom{\\, {\\phi}} \\phantom{\\, r} \\phantom{\\, {\\phi}} } & = & -\\frac{1}{2} \\, r e^{\\left(-\\nu\\left({\\tau}, r\\right)\\right)} \\sin\\left({\\theta}\\right)^{2} \\frac{\\partial\\,\\lambda}{\\partial {\\tau}} \\\\ R_{ \\phantom{\\, {\\tau}} \\, {\\phi} \\, {\\phi} \\, {\\tau} }^{ \\, {\\tau} \\phantom{\\, {\\phi}} \\phantom{\\, {\\phi}} \\phantom{\\, {\\tau}} } & = & \\frac{1}{2} \\, r e^{\\left(-\\lambda\\left({\\tau}, r\\right)\\right)} \\sin\\left({\\theta}\\right)^{2} \\frac{\\partial\\,\\nu}{\\partial r} \\\\ R_{ \\phantom{\\, {\\tau}} \\, {\\phi} \\, {\\phi} \\, r }^{ \\, {\\tau} \\phantom{\\, {\\phi}} \\phantom{\\, {\\phi}} \\phantom{\\, r} } & = & \\frac{1}{2} \\, r e^{\\left(-\\nu\\left({\\tau}, r\\right)\\right)} \\sin\\left({\\theta}\\right)^{2} \\frac{\\partial\\,\\lambda}{\\partial {\\tau}} \\\\ R_{ \\phantom{\\, r} \\, {\\tau} \\, {\\tau} \\, r }^{ \\, r \\phantom{\\, {\\tau}} \\phantom{\\, {\\tau}} \\phantom{\\, r} } & = & \\frac{1}{4} \\, {\\left(e^{\\left(\\lambda\\left({\\tau}, r\\right)\\right)} \\left(\\frac{\\partial\\,\\lambda}{\\partial {\\tau}}\\right)^{2} - e^{\\left(\\lambda\\left({\\tau}, r\\right)\\right)} \\frac{\\partial\\,\\lambda}{\\partial {\\tau}} \\frac{\\partial\\,\\nu}{\\partial {\\tau}} + e^{\\left(\\nu\\left({\\tau}, r\\right)\\right)} \\frac{\\partial\\,\\lambda}{\\partial r} \\frac{\\partial\\,\\nu}{\\partial r} - e^{\\left(\\nu\\left({\\tau}, r\\right)\\right)} \\frac{\\partial\\,\\nu}{\\partial r}^{2} + 2 \\, e^{\\left(\\lambda\\left({\\tau}, r\\right)\\right)} \\frac{\\partial^2\\,\\lambda}{\\partial {\\tau} ^ 2} - 2 \\, e^{\\left(\\nu\\left({\\tau}, r\\right)\\right)} \\frac{\\partial^2\\,\\nu}{\\partial r ^ 2}\\right)} e^{\\left(-\\lambda\\left({\\tau}, r\\right)\\right)} \\\\ R_{ \\phantom{\\, r} \\, {\\tau} \\, r \\, {\\tau} }^{ \\, r \\phantom{\\, {\\tau}} \\phantom{\\, r} \\phantom{\\, {\\tau}} } & = & -\\frac{1}{4} \\, {\\left(e^{\\left(\\lambda\\left({\\tau}, r\\right)\\right)} \\left(\\frac{\\partial\\,\\lambda}{\\partial {\\tau}}\\right)^{2} - e^{\\left(\\lambda\\left({\\tau}, r\\right)\\right)} \\frac{\\partial\\,\\lambda}{\\partial {\\tau}} \\frac{\\partial\\,\\nu}{\\partial {\\tau}} + e^{\\left(\\nu\\left({\\tau}, r\\right)\\right)} \\frac{\\partial\\,\\lambda}{\\partial r} \\frac{\\partial\\,\\nu}{\\partial r} - e^{\\left(\\nu\\left({\\tau}, r\\right)\\right)} \\frac{\\partial\\,\\nu}{\\partial r}^{2} + 2 \\, e^{\\left(\\lambda\\left({\\tau}, r\\right)\\right)} \\frac{\\partial^2\\,\\lambda}{\\partial {\\tau} ^ 2} - 2 \\, e^{\\left(\\nu\\left({\\tau}, r\\right)\\right)} \\frac{\\partial^2\\,\\nu}{\\partial r ^ 2}\\right)} e^{\\left(-\\lambda\\left({\\tau}, r\\right)\\right)} \\\\ R_{ \\phantom{\\, r} \\, {\\theta} \\, {\\tau} \\, {\\theta} }^{ \\, r \\phantom{\\, {\\theta}} \\phantom{\\, {\\tau}} \\phantom{\\, {\\theta}} } & = & \\frac{1}{2} \\, r e^{\\left(-\\lambda\\left({\\tau}, r\\right)\\right)} \\frac{\\partial\\,\\lambda}{\\partial {\\tau}} \\\\ R_{ \\phantom{\\, r} \\, {\\theta} \\, r \\, {\\theta} }^{ \\, r \\phantom{\\, {\\theta}} \\phantom{\\, r} \\phantom{\\, {\\theta}} } & = & \\frac{1}{2} \\, r e^{\\left(-\\lambda\\left({\\tau}, r\\right)\\right)} \\frac{\\partial\\,\\lambda}{\\partial r} \\\\ R_{ \\phantom{\\, r} \\, {\\theta} \\, {\\theta} \\, {\\tau} }^{ \\, r \\phantom{\\, {\\theta}} \\phantom{\\, {\\theta}} \\phantom{\\, {\\tau}} } & = & -\\frac{1}{2} \\, r e^{\\left(-\\lambda\\left({\\tau}, r\\right)\\right)} \\frac{\\partial\\,\\lambda}{\\partial {\\tau}} \\\\ R_{ \\phantom{\\, r} \\, {\\theta} \\, {\\theta} \\, r }^{ \\, r \\phantom{\\, {\\theta}} \\phantom{\\, {\\theta}} \\phantom{\\, r} } & = & -\\frac{1}{2} \\, r e^{\\left(-\\lambda\\left({\\tau}, r\\right)\\right)} \\frac{\\partial\\,\\lambda}{\\partial r} \\\\ R_{ \\phantom{\\, r} \\, {\\phi} \\, {\\tau} \\, {\\phi} }^{ \\, r \\phantom{\\, {\\phi}} \\phantom{\\, {\\tau}} \\phantom{\\, {\\phi}} } & = & \\frac{1}{2} \\, r e^{\\left(-\\lambda\\left({\\tau}, r\\right)\\right)} \\sin\\left({\\theta}\\right)^{2} \\frac{\\partial\\,\\lambda}{\\partial {\\tau}} \\\\ R_{ \\phantom{\\, r} \\, {\\phi} \\, r \\, {\\phi} }^{ \\, r \\phantom{\\, {\\phi}} \\phantom{\\, r} \\phantom{\\, {\\phi}} } & = & \\frac{1}{2} \\, r e^{\\left(-\\lambda\\left({\\tau}, r\\right)\\right)} \\sin\\left({\\theta}\\right)^{2} \\frac{\\partial\\,\\lambda}{\\partial r} \\\\ R_{ \\phantom{\\, r} \\, {\\phi} \\, {\\phi} \\, {\\tau} }^{ \\, r \\phantom{\\, {\\phi}} \\phantom{\\, {\\phi}} \\phantom{\\, {\\tau}} } & = & -\\frac{1}{2} \\, r e^{\\left(-\\lambda\\left({\\tau}, r\\right)\\right)} \\sin\\left({\\theta}\\right)^{2} \\frac{\\partial\\,\\lambda}{\\partial {\\tau}} \\\\ R_{ \\phantom{\\, r} \\, {\\phi} \\, {\\phi} \\, r }^{ \\, r \\phantom{\\, {\\phi}} \\phantom{\\, {\\phi}} \\phantom{\\, r} } & = & -\\frac{1}{2} \\, r e^{\\left(-\\lambda\\left({\\tau}, r\\right)\\right)} \\sin\\left({\\theta}\\right)^{2} \\frac{\\partial\\,\\lambda}{\\partial r} \\\\ R_{ \\phantom{\\, {\\theta}} \\, {\\tau} \\, {\\tau} \\, {\\theta} }^{ \\, {\\theta} \\phantom{\\, {\\tau}} \\phantom{\\, {\\tau}} \\phantom{\\, {\\theta}} } & = & -\\frac{e^{\\left(-\\lambda\\left({\\tau}, r\\right) + \\nu\\left({\\tau}, r\\right)\\right)} \\frac{\\partial\\,\\nu}{\\partial r}}{2 \\, r} \\\\ R_{ \\phantom{\\, {\\theta}} \\, {\\tau} \\, r \\, {\\theta} }^{ \\, {\\theta} \\phantom{\\, {\\tau}} \\phantom{\\, r} \\phantom{\\, {\\theta}} } & = & -\\frac{\\frac{\\partial\\,\\lambda}{\\partial {\\tau}}}{2 \\, r} \\\\ R_{ \\phantom{\\, {\\theta}} \\, {\\tau} \\, {\\theta} \\, {\\tau} }^{ \\, {\\theta} \\phantom{\\, {\\tau}} \\phantom{\\, {\\theta}} \\phantom{\\, {\\tau}} } & = & \\frac{e^{\\left(-\\lambda\\left({\\tau}, r\\right) + \\nu\\left({\\tau}, r\\right)\\right)} \\frac{\\partial\\,\\nu}{\\partial r}}{2 \\, r} \\\\ R_{ \\phantom{\\, {\\theta}} \\, {\\tau} \\, {\\theta} \\, r }^{ \\, {\\theta} \\phantom{\\, {\\tau}} \\phantom{\\, {\\theta}} \\phantom{\\, r} } & = & \\frac{\\frac{\\partial\\,\\lambda}{\\partial {\\tau}}}{2 \\, r} \\\\ R_{ \\phantom{\\, {\\theta}} \\, r \\, {\\tau} \\, {\\theta} }^{ \\, {\\theta} \\phantom{\\, r} \\phantom{\\, {\\tau}} \\phantom{\\, {\\theta}} } & = & -\\frac{\\frac{\\partial\\,\\lambda}{\\partial {\\tau}}}{2 \\, r} \\\\ R_{ \\phantom{\\, {\\theta}} \\, r \\, r \\, {\\theta} }^{ \\, {\\theta} \\phantom{\\, r} \\phantom{\\, r} \\phantom{\\, {\\theta}} } & = & -\\frac{\\frac{\\partial\\,\\lambda}{\\partial r}}{2 \\, r} \\\\ R_{ \\phantom{\\, {\\theta}} \\, r \\, {\\theta} \\, {\\tau} }^{ \\, {\\theta} \\phantom{\\, r} \\phantom{\\, {\\theta}} \\phantom{\\, {\\tau}} } & = & \\frac{\\frac{\\partial\\,\\lambda}{\\partial {\\tau}}}{2 \\, r} \\\\ R_{ \\phantom{\\, {\\theta}} \\, r \\, {\\theta} \\, r }^{ \\, {\\theta} \\phantom{\\, r} \\phantom{\\, {\\theta}} \\phantom{\\, r} } & = & \\frac{\\frac{\\partial\\,\\lambda}{\\partial r}}{2 \\, r} \\\\ R_{ \\phantom{\\, {\\theta}} \\, {\\phi} \\, {\\theta} \\, {\\phi} }^{ \\, {\\theta} \\phantom{\\, {\\phi}} \\phantom{\\, {\\theta}} \\phantom{\\, {\\phi}} } & = & {\\left(e^{\\left(\\lambda\\left({\\tau}, r\\right)\\right)} - 1\\right)} e^{\\left(-\\lambda\\left({\\tau}, r\\right)\\right)} \\sin\\left({\\theta}\\right)^{2} \\\\ R_{ \\phantom{\\, {\\theta}} \\, {\\phi} \\, {\\phi} \\, {\\theta} }^{ \\, {\\theta} \\phantom{\\, {\\phi}} \\phantom{\\, {\\phi}} \\phantom{\\, {\\theta}} } & = & -{\\left(e^{\\left(\\lambda\\left({\\tau}, r\\right)\\right)} - 1\\right)} e^{\\left(-\\lambda\\left({\\tau}, r\\right)\\right)} \\sin\\left({\\theta}\\right)^{2} \\\\ R_{ \\phantom{\\, {\\phi}} \\, {\\tau} \\, {\\tau} \\, {\\phi} }^{ \\, {\\phi} \\phantom{\\, {\\tau}} \\phantom{\\, {\\tau}} \\phantom{\\, {\\phi}} } & = & -\\frac{e^{\\left(-\\lambda\\left({\\tau}, r\\right) + \\nu\\left({\\tau}, r\\right)\\right)} \\frac{\\partial\\,\\nu}{\\partial r}}{2 \\, r} \\\\ R_{ \\phantom{\\, {\\phi}} \\, {\\tau} \\, r \\, {\\phi} }^{ \\, {\\phi} \\phantom{\\, {\\tau}} \\phantom{\\, r} \\phantom{\\, {\\phi}} } & = & -\\frac{\\frac{\\partial\\,\\lambda}{\\partial {\\tau}}}{2 \\, r} \\\\ R_{ \\phantom{\\, {\\phi}} \\, {\\tau} \\, {\\phi} \\, {\\tau} }^{ \\, {\\phi} \\phantom{\\, {\\tau}} \\phantom{\\, {\\phi}} \\phantom{\\, {\\tau}} } & = & \\frac{e^{\\left(-\\lambda\\left({\\tau}, r\\right) + \\nu\\left({\\tau}, r\\right)\\right)} \\frac{\\partial\\,\\nu}{\\partial r}}{2 \\, r} \\\\ R_{ \\phantom{\\, {\\phi}} \\, {\\tau} \\, {\\phi} \\, r }^{ \\, {\\phi} \\phantom{\\, {\\tau}} \\phantom{\\, {\\phi}} \\phantom{\\, r} } & = & \\frac{\\frac{\\partial\\,\\lambda}{\\partial {\\tau}}}{2 \\, r} \\\\ R_{ \\phantom{\\, {\\phi}} \\, r \\, {\\tau} \\, {\\phi} }^{ \\, {\\phi} \\phantom{\\, r} \\phantom{\\, {\\tau}} \\phantom{\\, {\\phi}} } & = & -\\frac{\\frac{\\partial\\,\\lambda}{\\partial {\\tau}}}{2 \\, r} \\\\ R_{ \\phantom{\\, {\\phi}} \\, r \\, r \\, {\\phi} }^{ \\, {\\phi} \\phantom{\\, r} \\phantom{\\, r} \\phantom{\\, {\\phi}} } & = & -\\frac{\\frac{\\partial\\,\\lambda}{\\partial r}}{2 \\, r} \\\\ R_{ \\phantom{\\, {\\phi}} \\, r \\, {\\phi} \\, {\\tau} }^{ \\, {\\phi} \\phantom{\\, r} \\phantom{\\, {\\phi}} \\phantom{\\, {\\tau}} } & = & \\frac{\\frac{\\partial\\,\\lambda}{\\partial {\\tau}}}{2 \\, r} \\\\ R_{ \\phantom{\\, {\\phi}} \\, r \\, {\\phi} \\, r }^{ \\, {\\phi} \\phantom{\\, r} \\phantom{\\, {\\phi}} \\phantom{\\, r} } & = & \\frac{\\frac{\\partial\\,\\lambda}{\\partial r}}{2 \\, r} \\\\ R_{ \\phantom{\\, {\\phi}} \\, {\\theta} \\, {\\theta} \\, {\\phi} }^{ \\, {\\phi} \\phantom{\\, {\\theta}} \\phantom{\\, {\\theta}} \\phantom{\\, {\\phi}} } & = & -{\\left(e^{\\left(\\lambda\\left({\\tau}, r\\right)\\right)} - 1\\right)} e^{\\left(-\\lambda\\left({\\tau}, r\\right)\\right)} \\\\ R_{ \\phantom{\\, {\\phi}} \\, {\\theta} \\, {\\phi} \\, {\\theta} }^{ \\, {\\phi} \\phantom{\\, {\\theta}} \\phantom{\\, {\\phi}} \\phantom{\\, {\\theta}} } & = & {\\left(e^{\\left(\\lambda\\left({\\tau}, r\\right)\\right)} - 1\\right)} e^{\\left(-\\lambda\\left({\\tau}, r\\right)\\right)} \\end{array}</script></html>"
      ],
      "text/plain": [
       "R^t_r,t,r = 1/4*(e^(l(t, r))*(d(l)/dt)^2 - e^(l(t, r))*d(l)/dt*d(v)/dt + e^(v(t, r))*d(l)/dr*d(v)/dr - e^(v(t, r))*d(v)/dr^2 + 2*e^(l(t, r))*d^2(l)/dt^2 - 2*e^(v(t, r))*d^2(v)/dr^2)*e^(-v(t, r)) \n",
       "R^t_r,r,t = -1/4*(e^(l(t, r))*(d(l)/dt)^2 - e^(l(t, r))*d(l)/dt*d(v)/dt + e^(v(t, r))*d(l)/dr*d(v)/dr - e^(v(t, r))*d(v)/dr^2 + 2*e^(l(t, r))*d^2(l)/dt^2 - 2*e^(v(t, r))*d^2(v)/dr^2)*e^(-v(t, r)) \n",
       "R^t_th,t,th = -1/2*r*e^(-l(t, r))*d(v)/dr \n",
       "R^t_th,r,th = -1/2*r*e^(-v(t, r))*d(l)/dt \n",
       "R^t_th,th,t = 1/2*r*e^(-l(t, r))*d(v)/dr \n",
       "R^t_th,th,r = 1/2*r*e^(-v(t, r))*d(l)/dt \n",
       "R^t_ph,t,ph = -1/2*r*e^(-l(t, r))*sin(th)^2*d(v)/dr \n",
       "R^t_ph,r,ph = -1/2*r*e^(-v(t, r))*sin(th)^2*d(l)/dt \n",
       "R^t_ph,ph,t = 1/2*r*e^(-l(t, r))*sin(th)^2*d(v)/dr \n",
       "R^t_ph,ph,r = 1/2*r*e^(-v(t, r))*sin(th)^2*d(l)/dt \n",
       "R^r_t,t,r = 1/4*(e^(l(t, r))*(d(l)/dt)^2 - e^(l(t, r))*d(l)/dt*d(v)/dt + e^(v(t, r))*d(l)/dr*d(v)/dr - e^(v(t, r))*d(v)/dr^2 + 2*e^(l(t, r))*d^2(l)/dt^2 - 2*e^(v(t, r))*d^2(v)/dr^2)*e^(-l(t, r)) \n",
       "R^r_t,r,t = -1/4*(e^(l(t, r))*(d(l)/dt)^2 - e^(l(t, r))*d(l)/dt*d(v)/dt + e^(v(t, r))*d(l)/dr*d(v)/dr - e^(v(t, r))*d(v)/dr^2 + 2*e^(l(t, r))*d^2(l)/dt^2 - 2*e^(v(t, r))*d^2(v)/dr^2)*e^(-l(t, r)) \n",
       "R^r_th,t,th = 1/2*r*e^(-l(t, r))*d(l)/dt \n",
       "R^r_th,r,th = 1/2*r*e^(-l(t, r))*d(l)/dr \n",
       "R^r_th,th,t = -1/2*r*e^(-l(t, r))*d(l)/dt \n",
       "R^r_th,th,r = -1/2*r*e^(-l(t, r))*d(l)/dr \n",
       "R^r_ph,t,ph = 1/2*r*e^(-l(t, r))*sin(th)^2*d(l)/dt \n",
       "R^r_ph,r,ph = 1/2*r*e^(-l(t, r))*sin(th)^2*d(l)/dr \n",
       "R^r_ph,ph,t = -1/2*r*e^(-l(t, r))*sin(th)^2*d(l)/dt \n",
       "R^r_ph,ph,r = -1/2*r*e^(-l(t, r))*sin(th)^2*d(l)/dr \n",
       "R^th_t,t,th = -1/2*e^(-l(t, r) + v(t, r))*d(v)/dr/r \n",
       "R^th_t,r,th = -1/2*d(l)/dt/r \n",
       "R^th_t,th,t = 1/2*e^(-l(t, r) + v(t, r))*d(v)/dr/r \n",
       "R^th_t,th,r = 1/2*d(l)/dt/r \n",
       "R^th_r,t,th = -1/2*d(l)/dt/r \n",
       "R^th_r,r,th = -1/2*d(l)/dr/r \n",
       "R^th_r,th,t = 1/2*d(l)/dt/r \n",
       "R^th_r,th,r = 1/2*d(l)/dr/r \n",
       "R^th_ph,th,ph = (e^(l(t, r)) - 1)*e^(-l(t, r))*sin(th)^2 \n",
       "R^th_ph,ph,th = -(e^(l(t, r)) - 1)*e^(-l(t, r))*sin(th)^2 \n",
       "R^ph_t,t,ph = -1/2*e^(-l(t, r) + v(t, r))*d(v)/dr/r \n",
       "R^ph_t,r,ph = -1/2*d(l)/dt/r \n",
       "R^ph_t,ph,t = 1/2*e^(-l(t, r) + v(t, r))*d(v)/dr/r \n",
       "R^ph_t,ph,r = 1/2*d(l)/dt/r \n",
       "R^ph_r,t,ph = -1/2*d(l)/dt/r \n",
       "R^ph_r,r,ph = -1/2*d(l)/dr/r \n",
       "R^ph_r,ph,t = 1/2*d(l)/dt/r \n",
       "R^ph_r,ph,r = 1/2*d(l)/dr/r \n",
       "R^ph_th,th,ph = -(e^(l(t, r)) - 1)*e^(-l(t, r)) \n",
       "R^ph_th,ph,th = (e^(l(t, r)) - 1)*e^(-l(t, r)) "
      ]
     },
     "metadata": {},
     "output_type": "display_data"
    }
   ],
   "source": [
    "show('Tensor de Riemann');\n",
    "show(Riem.display_comp());"
   ]
  },
  {
   "cell_type": "code",
   "execution_count": 206,
   "metadata": {
    "collapsed": false,
    "deletable": true,
    "editable": true
   },
   "outputs": [
    {
     "data": {
      "text/html": [
       "<html><script type=\"math/tex; mode=display\">\\newcommand{\\Bold}[1]{\\mathbf{#1}}\\verb|Tensor|\\phantom{\\verb!x!}\\verb|de|\\phantom{\\verb!x!}\\verb|Ricci|</script></html>"
      ],
      "text/plain": [
       "'Tensor de Ricci'"
      ]
     },
     "metadata": {},
     "output_type": "display_data"
    },
    {
     "data": {
      "text/html": [
       "<html><script type=\"math/tex; mode=display\">\\newcommand{\\Bold}[1]{\\mathbf{#1}}\\begin{array}{lcl} R_{ \\, {\\tau} \\, {\\tau} }^{ \\phantom{\\, {\\tau}}\\phantom{\\, {\\tau}} } & = & -\\frac{{\\left(r e^{\\left(\\lambda\\left({\\tau}, r\\right)\\right)} \\left(\\frac{\\partial\\,\\lambda}{\\partial {\\tau}}\\right)^{2} - r e^{\\left(\\lambda\\left({\\tau}, r\\right)\\right)} \\frac{\\partial\\,\\lambda}{\\partial {\\tau}} \\frac{\\partial\\,\\nu}{\\partial {\\tau}} - r e^{\\left(\\nu\\left({\\tau}, r\\right)\\right)} \\left(\\frac{\\partial\\,\\nu}{\\partial r}\\right)^{2} + 2 \\, r e^{\\left(\\lambda\\left({\\tau}, r\\right)\\right)} \\frac{\\partial^2\\,\\lambda}{\\partial {\\tau} ^ 2} - 2 \\, r e^{\\left(\\nu\\left({\\tau}, r\\right)\\right)} \\frac{\\partial^2\\,\\nu}{\\partial r ^ 2} + {\\left(r e^{\\left(\\nu\\left({\\tau}, r\\right)\\right)} \\frac{\\partial\\,\\lambda}{\\partial r} - 4 \\, e^{\\left(\\nu\\left({\\tau}, r\\right)\\right)}\\right)} \\frac{\\partial\\,\\nu}{\\partial r}\\right)} e^{\\left(-\\lambda\\left({\\tau}, r\\right)\\right)}}{4 \\, r} \\\\ R_{ \\, {\\tau} \\, r }^{ \\phantom{\\, {\\tau}}\\phantom{\\, r} } & = & \\frac{\\frac{\\partial\\,\\lambda}{\\partial {\\tau}}}{r} \\\\ R_{ \\, r \\, {\\tau} }^{ \\phantom{\\, r}\\phantom{\\, {\\tau}} } & = & \\frac{\\frac{\\partial\\,\\lambda}{\\partial {\\tau}}}{r} \\\\ R_{ \\, r \\, r }^{ \\phantom{\\, r}\\phantom{\\, r} } & = & \\frac{{\\left(r e^{\\left(\\lambda\\left({\\tau}, r\\right)\\right)} \\left(\\frac{\\partial\\,\\lambda}{\\partial {\\tau}}\\right)^{2} - r e^{\\left(\\lambda\\left({\\tau}, r\\right)\\right)} \\frac{\\partial\\,\\lambda}{\\partial {\\tau}} \\frac{\\partial\\,\\nu}{\\partial {\\tau}} + r e^{\\left(\\nu\\left({\\tau}, r\\right)\\right)} \\frac{\\partial\\,\\lambda}{\\partial r} \\frac{\\partial\\,\\nu}{\\partial r} - r e^{\\left(\\nu\\left({\\tau}, r\\right)\\right)} \\frac{\\partial\\,\\nu}{\\partial r}^{2} + 2 \\, r e^{\\left(\\lambda\\left({\\tau}, r\\right)\\right)} \\frac{\\partial^2\\,\\lambda}{\\partial {\\tau} ^ 2} - 2 \\, r e^{\\left(\\nu\\left({\\tau}, r\\right)\\right)} \\frac{\\partial^2\\,\\nu}{\\partial r ^ 2} + 4 \\, e^{\\left(\\nu\\left({\\tau}, r\\right)\\right)} \\frac{\\partial\\,\\lambda}{\\partial r}\\right)} e^{\\left(-\\nu\\left({\\tau}, r\\right)\\right)}}{4 \\, r} \\\\ R_{ \\, {\\theta} \\, {\\theta} }^{ \\phantom{\\, {\\theta}}\\phantom{\\, {\\theta}} } & = & \\frac{1}{2} \\, {\\left(r \\frac{\\partial\\,\\lambda}{\\partial r} - r \\frac{\\partial\\,\\nu}{\\partial r} + 2 \\, e^{\\left(\\lambda\\left({\\tau}, r\\right)\\right)} - 2\\right)} e^{\\left(-\\lambda\\left({\\tau}, r\\right)\\right)} \\\\ R_{ \\, {\\phi} \\, {\\phi} }^{ \\phantom{\\, {\\phi}}\\phantom{\\, {\\phi}} } & = & \\frac{1}{2} \\, {\\left(r \\frac{\\partial\\,\\lambda}{\\partial r} - r \\frac{\\partial\\,\\nu}{\\partial r} + 2 \\, e^{\\left(\\lambda\\left({\\tau}, r\\right)\\right)} - 2\\right)} e^{\\left(-\\lambda\\left({\\tau}, r\\right)\\right)} \\sin\\left({\\theta}\\right)^{2} \\end{array}</script></html>"
      ],
      "text/plain": [
       "R_t,t = -1/4*(r*e^(l(t, r))*(d(l)/dt)^2 - r*e^(l(t, r))*d(l)/dt*d(v)/dt - r*e^(v(t, r))*(d(v)/dr)^2 + 2*r*e^(l(t, r))*d^2(l)/dt^2 - 2*r*e^(v(t, r))*d^2(v)/dr^2 + (r*e^(v(t, r))*d(l)/dr - 4*e^(v(t, r)))*d(v)/dr)*e^(-l(t, r))/r \n",
       "R_t,r = d(l)/dt/r \n",
       "R_r,t = d(l)/dt/r \n",
       "R_r,r = 1/4*(r*e^(l(t, r))*(d(l)/dt)^2 - r*e^(l(t, r))*d(l)/dt*d(v)/dt + r*e^(v(t, r))*d(l)/dr*d(v)/dr - r*e^(v(t, r))*d(v)/dr^2 + 2*r*e^(l(t, r))*d^2(l)/dt^2 - 2*r*e^(v(t, r))*d^2(v)/dr^2 + 4*e^(v(t, r))*d(l)/dr)*e^(-v(t, r))/r \n",
       "R_th,th = 1/2*(r*d(l)/dr - r*d(v)/dr + 2*e^(l(t, r)) - 2)*e^(-l(t, r)) \n",
       "R_ph,ph = 1/2*(r*d(l)/dr - r*d(v)/dr + 2*e^(l(t, r)) - 2)*e^(-l(t, r))*sin(th)^2 "
      ]
     },
     "metadata": {},
     "output_type": "display_data"
    }
   ],
   "source": [
    "show('Tensor de Ricci');\n",
    "show(Ric.display_comp());"
   ]
  },
  {
   "cell_type": "code",
   "execution_count": 207,
   "metadata": {
    "collapsed": false,
    "deletable": true,
    "editable": true
   },
   "outputs": [
    {
     "data": {
      "text/html": [
       "<html><script type=\"math/tex; mode=display\">\\newcommand{\\Bold}[1]{\\mathbf{#1}}\\verb|Escalar|\\phantom{\\verb!x!}\\verb|de|\\phantom{\\verb!x!}\\verb|curvatura|</script></html>"
      ],
      "text/plain": [
       "'Escalar de curvatura'"
      ]
     },
     "metadata": {},
     "output_type": "display_data"
    },
    {
     "data": {
      "text/html": [
       "<html><script type=\"math/tex; mode=display\">\\newcommand{\\Bold}[1]{\\mathbf{#1}}\\begin{array}{llcl} \\mathrm{r}\\left(g\\right):& \\mathcal{M} & \\longrightarrow & \\mathbb{R} \\\\ & \\left({\\tau}, r, {\\theta}, {\\phi}\\right) & \\longmapsto & -\\frac{{\\left(r^{2} e^{\\left(\\lambda\\left({\\tau}, r\\right)\\right)} \\left(\\frac{\\partial\\,\\lambda}{\\partial {\\tau}}\\right)^{2} - r^{2} e^{\\left(\\lambda\\left({\\tau}, r\\right)\\right)} \\frac{\\partial\\,\\lambda}{\\partial {\\tau}} \\frac{\\partial\\,\\nu}{\\partial {\\tau}} - r^{2} e^{\\left(\\nu\\left({\\tau}, r\\right)\\right)} \\left(\\frac{\\partial\\,\\nu}{\\partial r}\\right)^{2} + 2 \\, r^{2} e^{\\left(\\lambda\\left({\\tau}, r\\right)\\right)} \\frac{\\partial^2\\,\\lambda}{\\partial {\\tau} ^ 2} - 2 \\, r^{2} e^{\\left(\\nu\\left({\\tau}, r\\right)\\right)} \\frac{\\partial^2\\,\\nu}{\\partial r ^ 2} + 4 \\, r e^{\\left(\\nu\\left({\\tau}, r\\right)\\right)} \\frac{\\partial\\,\\lambda}{\\partial r} + 4 \\, {\\left(e^{\\left(\\lambda\\left({\\tau}, r\\right)\\right)} - 1\\right)} e^{\\left(\\nu\\left({\\tau}, r\\right)\\right)} + {\\left(r^{2} e^{\\left(\\nu\\left({\\tau}, r\\right)\\right)} \\frac{\\partial\\,\\lambda}{\\partial r} - 4 \\, r e^{\\left(\\nu\\left({\\tau}, r\\right)\\right)}\\right)} \\frac{\\partial\\,\\nu}{\\partial r}\\right)} e^{\\left(-\\lambda\\left({\\tau}, r\\right) - \\nu\\left({\\tau}, r\\right)\\right)}}{2 \\, r^{2}} \\end{array}</script></html>"
      ],
      "text/plain": [
       "r(g): Man --> R\n",
       "   (t, r, th, ph) |--> -1/2*(r^2*e^(l(t, r))*(d(l)/dt)^2 - r^2*e^(l(t, r))*d(l)/dt*d(v)/dt - r^2*e^(v(t, r))*(d(v)/dr)^2 + 2*r^2*e^(l(t, r))*d^2(l)/dt^2 - 2*r^2*e^(v(t, r))*d^2(v)/dr^2 + 4*r*e^(v(t, r))*d(l)/dr + 4*(e^(l(t, r)) - 1)*e^(v(t, r)) + (r^2*e^(v(t, r))*d(l)/dr - 4*r*e^(v(t, r)))*d(v)/dr)*e^(-l(t, r) - v(t, r))/r^2"
      ]
     },
     "metadata": {},
     "output_type": "display_data"
    }
   ],
   "source": [
    "show('Escalar de curvatura');\n",
    "show(Rs.display());"
   ]
  },
  {
   "cell_type": "code",
   "execution_count": 208,
   "metadata": {
    "collapsed": false,
    "deletable": true,
    "editable": true
   },
   "outputs": [],
   "source": [
    "ET=Ric-(1/2)*g*g.ricci_scalar();\n",
    "ET.set_name('G')"
   ]
  },
  {
   "cell_type": "code",
   "execution_count": 209,
   "metadata": {
    "collapsed": false,
    "deletable": true,
    "editable": true
   },
   "outputs": [
    {
     "data": {
      "text/html": [
       "<html><script type=\"math/tex; mode=display\">\\newcommand{\\Bold}[1]{\\mathbf{#1}}\\verb|Tensor|\\phantom{\\verb!x!}\\verb|de|\\phantom{\\verb!x!}\\verb|Einstein|</script></html>"
      ],
      "text/plain": [
       "'Tensor de Einstein'"
      ]
     },
     "metadata": {},
     "output_type": "display_data"
    },
    {
     "data": {
      "text/html": [
       "<html><script type=\"math/tex; mode=display\">\\newcommand{\\Bold}[1]{\\mathbf{#1}}\\begin{array}{lcl} G_{ \\, {\\tau} \\, {\\tau} }^{ \\phantom{\\, {\\tau}}\\phantom{\\, {\\tau}} } & = & \\frac{{\\left(r e^{\\left(\\nu\\left({\\tau}, r\\right)\\right)} \\frac{\\partial\\,\\lambda}{\\partial r} + {\\left(e^{\\left(\\lambda\\left({\\tau}, r\\right)\\right)} - 1\\right)} e^{\\left(\\nu\\left({\\tau}, r\\right)\\right)}\\right)} e^{\\left(-\\lambda\\left({\\tau}, r\\right)\\right)}}{r^{2}} \\\\ G_{ \\, {\\tau} \\, r }^{ \\phantom{\\, {\\tau}}\\phantom{\\, r} } & = & \\frac{\\frac{\\partial\\,\\lambda}{\\partial {\\tau}}}{r} \\\\ G_{ \\, r \\, {\\tau} }^{ \\phantom{\\, r}\\phantom{\\, {\\tau}} } & = & \\frac{\\frac{\\partial\\,\\lambda}{\\partial {\\tau}}}{r} \\\\ G_{ \\, r \\, r }^{ \\phantom{\\, r}\\phantom{\\, r} } & = & \\frac{r \\frac{\\partial\\,\\nu}{\\partial r} - e^{\\left(\\lambda\\left({\\tau}, r\\right)\\right)} + 1}{r^{2}} \\\\ G_{ \\, {\\theta} \\, {\\theta} }^{ \\phantom{\\, {\\theta}}\\phantom{\\, {\\theta}} } & = & -\\frac{1}{4} \\, {\\left(r^{2} e^{\\left(\\lambda\\left({\\tau}, r\\right)\\right)} \\left(\\frac{\\partial\\,\\lambda}{\\partial {\\tau}}\\right)^{2} - r^{2} e^{\\left(\\lambda\\left({\\tau}, r\\right)\\right)} \\frac{\\partial\\,\\lambda}{\\partial {\\tau}} \\frac{\\partial\\,\\nu}{\\partial {\\tau}} - r^{2} e^{\\left(\\nu\\left({\\tau}, r\\right)\\right)} \\left(\\frac{\\partial\\,\\nu}{\\partial r}\\right)^{2} + 2 \\, r^{2} e^{\\left(\\lambda\\left({\\tau}, r\\right)\\right)} \\frac{\\partial^2\\,\\lambda}{\\partial {\\tau} ^ 2} - 2 \\, r^{2} e^{\\left(\\nu\\left({\\tau}, r\\right)\\right)} \\frac{\\partial^2\\,\\nu}{\\partial r ^ 2} + 2 \\, r e^{\\left(\\nu\\left({\\tau}, r\\right)\\right)} \\frac{\\partial\\,\\lambda}{\\partial r} + {\\left(r^{2} e^{\\left(\\nu\\left({\\tau}, r\\right)\\right)} \\frac{\\partial\\,\\lambda}{\\partial r} - 2 \\, r e^{\\left(\\nu\\left({\\tau}, r\\right)\\right)}\\right)} \\frac{\\partial\\,\\nu}{\\partial r}\\right)} e^{\\left(-\\lambda\\left({\\tau}, r\\right) - \\nu\\left({\\tau}, r\\right)\\right)} \\\\ G_{ \\, {\\phi} \\, {\\phi} }^{ \\phantom{\\, {\\phi}}\\phantom{\\, {\\phi}} } & = & -\\frac{1}{4} \\, {\\left(r^{2} e^{\\left(\\lambda\\left({\\tau}, r\\right)\\right)} \\left(\\frac{\\partial\\,\\lambda}{\\partial {\\tau}}\\right)^{2} - r^{2} e^{\\left(\\lambda\\left({\\tau}, r\\right)\\right)} \\frac{\\partial\\,\\lambda}{\\partial {\\tau}} \\frac{\\partial\\,\\nu}{\\partial {\\tau}} - r^{2} e^{\\left(\\nu\\left({\\tau}, r\\right)\\right)} \\left(\\frac{\\partial\\,\\nu}{\\partial r}\\right)^{2} + 2 \\, r^{2} e^{\\left(\\lambda\\left({\\tau}, r\\right)\\right)} \\frac{\\partial^2\\,\\lambda}{\\partial {\\tau} ^ 2} - 2 \\, r^{2} e^{\\left(\\nu\\left({\\tau}, r\\right)\\right)} \\frac{\\partial^2\\,\\nu}{\\partial r ^ 2} + 2 \\, r e^{\\left(\\nu\\left({\\tau}, r\\right)\\right)} \\frac{\\partial\\,\\lambda}{\\partial r} + {\\left(r^{2} e^{\\left(\\nu\\left({\\tau}, r\\right)\\right)} \\frac{\\partial\\,\\lambda}{\\partial r} - 2 \\, r e^{\\left(\\nu\\left({\\tau}, r\\right)\\right)}\\right)} \\frac{\\partial\\,\\nu}{\\partial r}\\right)} e^{\\left(-\\lambda\\left({\\tau}, r\\right) - \\nu\\left({\\tau}, r\\right)\\right)} \\sin\\left({\\theta}\\right)^{2} \\end{array}</script></html>"
      ],
      "text/plain": [
       "G_t,t = (r*e^(v(t, r))*d(l)/dr + (e^(l(t, r)) - 1)*e^(v(t, r)))*e^(-l(t, r))/r^2 \n",
       "G_t,r = d(l)/dt/r \n",
       "G_r,t = d(l)/dt/r \n",
       "G_r,r = (r*d(v)/dr - e^(l(t, r)) + 1)/r^2 \n",
       "G_th,th = -1/4*(r^2*e^(l(t, r))*(d(l)/dt)^2 - r^2*e^(l(t, r))*d(l)/dt*d(v)/dt - r^2*e^(v(t, r))*(d(v)/dr)^2 + 2*r^2*e^(l(t, r))*d^2(l)/dt^2 - 2*r^2*e^(v(t, r))*d^2(v)/dr^2 + 2*r*e^(v(t, r))*d(l)/dr + (r^2*e^(v(t, r))*d(l)/dr - 2*r*e^(v(t, r)))*d(v)/dr)*e^(-l(t, r) - v(t, r)) \n",
       "G_ph,ph = -1/4*(r^2*e^(l(t, r))*(d(l)/dt)^2 - r^2*e^(l(t, r))*d(l)/dt*d(v)/dt - r^2*e^(v(t, r))*(d(v)/dr)^2 + 2*r^2*e^(l(t, r))*d^2(l)/dt^2 - 2*r^2*e^(v(t, r))*d^2(v)/dr^2 + 2*r*e^(v(t, r))*d(l)/dr + (r^2*e^(v(t, r))*d(l)/dr - 2*r*e^(v(t, r)))*d(v)/dr)*e^(-l(t, r) - v(t, r))*sin(th)^2 "
      ]
     },
     "metadata": {},
     "output_type": "display_data"
    }
   ],
   "source": [
    "#show(ET.display());\n",
    "#show(ET[:]);\n",
    "show('Tensor de Einstein');\n",
    "show(ET.display_comp());"
   ]
  },
  {
   "cell_type": "code",
   "execution_count": 210,
   "metadata": {
    "collapsed": false,
    "deletable": true,
    "editable": true
   },
   "outputs": [
    {
     "data": {
      "text/html": [
       "<html><script type=\"math/tex; mode=display\">\\newcommand{\\Bold}[1]{\\mathbf{#1}}\\verb|Componentes|\\phantom{\\verb!x!}\\verb|mixtas|\\phantom{\\verb!x!}\\verb|tensor|\\phantom{\\verb!x!}\\verb|de|\\phantom{\\verb!x!}\\verb|Einstein|</script></html>"
      ],
      "text/plain": [
       "'Componentes mixtas tensor de Einstein'"
      ]
     },
     "metadata": {},
     "output_type": "display_data"
    },
    {
     "data": {
      "text/html": [
       "<html><script type=\"math/tex; mode=display\">\\newcommand{\\Bold}[1]{\\mathbf{#1}}\\begin{array}{lcl} G_{ \\phantom{\\, {\\tau}} \\, {\\tau} }^{ \\, {\\tau} \\phantom{\\, {\\tau}} } & = & \\frac{{\\left(r \\frac{\\partial\\,\\lambda}{\\partial r} + e^{\\left(\\lambda\\left({\\tau}, r\\right)\\right)} - 1\\right)} e^{\\left(-\\lambda\\left({\\tau}, r\\right)\\right)}}{r^{2}} \\\\ G_{ \\phantom{\\, {\\tau}} \\, r }^{ \\, {\\tau} \\phantom{\\, r} } & = & \\frac{e^{\\left(-\\nu\\left({\\tau}, r\\right)\\right)} \\frac{\\partial\\,\\lambda}{\\partial {\\tau}}}{r} \\\\ G_{ \\phantom{\\, r} \\, {\\tau} }^{ \\, r \\phantom{\\, {\\tau}} } & = & -\\frac{e^{\\left(-\\lambda\\left({\\tau}, r\\right)\\right)} \\frac{\\partial\\,\\lambda}{\\partial {\\tau}}}{r} \\\\ G_{ \\phantom{\\, r} \\, r }^{ \\, r \\phantom{\\, r} } & = & -\\frac{{\\left(r \\frac{\\partial\\,\\nu}{\\partial r} - e^{\\left(\\lambda\\left({\\tau}, r\\right)\\right)} + 1\\right)} e^{\\left(-\\lambda\\left({\\tau}, r\\right)\\right)}}{r^{2}} \\\\ G_{ \\phantom{\\, {\\theta}} \\, {\\theta} }^{ \\, {\\theta} \\phantom{\\, {\\theta}} } & = & \\frac{{\\left(r e^{\\left(\\lambda\\left({\\tau}, r\\right)\\right)} \\left(\\frac{\\partial\\,\\lambda}{\\partial {\\tau}}\\right)^{2} - r e^{\\left(\\lambda\\left({\\tau}, r\\right)\\right)} \\frac{\\partial\\,\\lambda}{\\partial {\\tau}} \\frac{\\partial\\,\\nu}{\\partial {\\tau}} - r e^{\\left(\\nu\\left({\\tau}, r\\right)\\right)} \\left(\\frac{\\partial\\,\\nu}{\\partial r}\\right)^{2} + 2 \\, r e^{\\left(\\lambda\\left({\\tau}, r\\right)\\right)} \\frac{\\partial^2\\,\\lambda}{\\partial {\\tau} ^ 2} - 2 \\, r e^{\\left(\\nu\\left({\\tau}, r\\right)\\right)} \\frac{\\partial^2\\,\\nu}{\\partial r ^ 2} + 2 \\, e^{\\left(\\nu\\left({\\tau}, r\\right)\\right)} \\frac{\\partial\\,\\lambda}{\\partial r} + {\\left(r e^{\\left(\\nu\\left({\\tau}, r\\right)\\right)} \\frac{\\partial\\,\\lambda}{\\partial r} - 2 \\, e^{\\left(\\nu\\left({\\tau}, r\\right)\\right)}\\right)} \\frac{\\partial\\,\\nu}{\\partial r}\\right)} e^{\\left(-\\lambda\\left({\\tau}, r\\right) - \\nu\\left({\\tau}, r\\right)\\right)}}{4 \\, r} \\\\ G_{ \\phantom{\\, {\\phi}} \\, {\\phi} }^{ \\, {\\phi} \\phantom{\\, {\\phi}} } & = & \\frac{{\\left(r e^{\\left(\\lambda\\left({\\tau}, r\\right)\\right)} \\left(\\frac{\\partial\\,\\lambda}{\\partial {\\tau}}\\right)^{2} - r e^{\\left(\\lambda\\left({\\tau}, r\\right)\\right)} \\frac{\\partial\\,\\lambda}{\\partial {\\tau}} \\frac{\\partial\\,\\nu}{\\partial {\\tau}} - r e^{\\left(\\nu\\left({\\tau}, r\\right)\\right)} \\left(\\frac{\\partial\\,\\nu}{\\partial r}\\right)^{2} + 2 \\, r e^{\\left(\\lambda\\left({\\tau}, r\\right)\\right)} \\frac{\\partial^2\\,\\lambda}{\\partial {\\tau} ^ 2} - 2 \\, r e^{\\left(\\nu\\left({\\tau}, r\\right)\\right)} \\frac{\\partial^2\\,\\nu}{\\partial r ^ 2} + 2 \\, e^{\\left(\\nu\\left({\\tau}, r\\right)\\right)} \\frac{\\partial\\,\\lambda}{\\partial r} + {\\left(r e^{\\left(\\nu\\left({\\tau}, r\\right)\\right)} \\frac{\\partial\\,\\lambda}{\\partial r} - 2 \\, e^{\\left(\\nu\\left({\\tau}, r\\right)\\right)}\\right)} \\frac{\\partial\\,\\nu}{\\partial r}\\right)} e^{\\left(-\\lambda\\left({\\tau}, r\\right) - \\nu\\left({\\tau}, r\\right)\\right)}}{4 \\, r} \\end{array}</script></html>"
      ],
      "text/plain": [
       "G^t_t = (r*d(l)/dr + e^(l(t, r)) - 1)*e^(-l(t, r))/r^2 \n",
       "G^t_r = e^(-v(t, r))*d(l)/dt/r \n",
       "G^r_t = -e^(-l(t, r))*d(l)/dt/r \n",
       "G^r_r = -(r*d(v)/dr - e^(l(t, r)) + 1)*e^(-l(t, r))/r^2 \n",
       "G^th_th = 1/4*(r*e^(l(t, r))*(d(l)/dt)^2 - r*e^(l(t, r))*d(l)/dt*d(v)/dt - r*e^(v(t, r))*(d(v)/dr)^2 + 2*r*e^(l(t, r))*d^2(l)/dt^2 - 2*r*e^(v(t, r))*d^2(v)/dr^2 + 2*e^(v(t, r))*d(l)/dr + (r*e^(v(t, r))*d(l)/dr - 2*e^(v(t, r)))*d(v)/dr)*e^(-l(t, r) - v(t, r))/r \n",
       "G^ph_ph = 1/4*(r*e^(l(t, r))*(d(l)/dt)^2 - r*e^(l(t, r))*d(l)/dt*d(v)/dt - r*e^(v(t, r))*(d(v)/dr)^2 + 2*r*e^(l(t, r))*d^2(l)/dt^2 - 2*r*e^(v(t, r))*d^2(v)/dr^2 + 2*e^(v(t, r))*d(l)/dr + (r*e^(v(t, r))*d(l)/dr - 2*e^(v(t, r)))*d(v)/dr)*e^(-l(t, r) - v(t, r))/r "
      ]
     },
     "metadata": {},
     "output_type": "display_data"
    }
   ],
   "source": [
    "gu=g.up(g)\n",
    "ETm=gu['^am']*ET['_mb'];\n",
    "ETm.set_name('G');\n",
    "show('Componentes mixtas tensor de Einstein')\n",
    "show(ETm.display_comp());"
   ]
  },
  {
   "cell_type": "markdown",
   "metadata": {
    "deletable": true,
    "editable": true
   },
   "source": [
    "<h1>Tensor energía-momentum</h1>"
   ]
  },
  {
   "cell_type": "code",
   "execution_count": 211,
   "metadata": {
    "collapsed": false,
    "deletable": true,
    "editable": true,
    "scrolled": true
   },
   "outputs": [
    {
     "data": {
      "text/html": [
       "<html><script type=\"math/tex; mode=display\">\\newcommand{\\Bold}[1]{\\mathbf{#1}}T</script></html>"
      ],
      "text/plain": [
       "Tensor field Tdd of type (0,2) on the 4-dimensional differentiable manifold Man"
      ]
     },
     "execution_count": 211,
     "metadata": {},
     "output_type": "execute_result"
    }
   ],
   "source": [
    "Tdd=Man.tensor_field(0,2, name='Tdd', latex_name=r'T'); Tdd"
   ]
  },
  {
   "cell_type": "markdown",
   "metadata": {},
   "source": [
    "El contenido de materia se define en un marco local que se mueve con la materia"
   ]
  },
  {
   "cell_type": "markdown",
   "metadata": {},
   "source": [
    "Introducimos primero el marco local "
   ]
  },
  {
   "cell_type": "code",
   "execution_count": 226,
   "metadata": {
    "collapsed": false
   },
   "outputs": [],
   "source": [
    "LL.<ta,x,y,z> = Man.chart(r't:\\tau x y z')"
   ]
  },
  {
   "cell_type": "markdown",
   "metadata": {},
   "source": [
    "(lo ideal sería introducir el cambio de coordenadas de SC a LL descrito por Bondi pero no he podido)"
   ]
  },
  {
   "cell_type": "markdown",
   "metadata": {},
   "source": [
    "En este marco se tiene una métrica de Minkowski en cada punto del espacio"
   ]
  },
  {
   "cell_type": "code",
   "execution_count": 213,
   "metadata": {
    "collapsed": false,
    "scrolled": true
   },
   "outputs": [
    {
     "data": {
      "text/html": [
       "<html><script type=\"math/tex; mode=display\">\\newcommand{\\Bold}[1]{\\mathbf{#1}}\\verb|Métrica|\\phantom{\\verb!x!}\\verb|local|</script></html>"
      ],
      "text/plain": [
       "'M\\xc3\\xa9trica local'"
      ]
     },
     "metadata": {},
     "output_type": "display_data"
    },
    {
     "data": {
      "text/html": [
       "<html><script type=\"math/tex; mode=display\">\\newcommand{\\Bold}[1]{\\mathbf{#1}}\\left(\\begin{array}{rrrr}\n",
       "1 & 0 & 0 & 0 \\\\\n",
       "0 & -1 & 0 & 0 \\\\\n",
       "0 & 0 & -1 & 0 \\\\\n",
       "0 & 0 & 0 & -1\n",
       "\\end{array}\\right)</script></html>"
      ],
      "text/plain": [
       "[ 1  0  0  0]\n",
       "[ 0 -1  0  0]\n",
       "[ 0  0 -1  0]\n",
       "[ 0  0  0 -1]"
      ]
     },
     "metadata": {},
     "output_type": "display_data"
    }
   ],
   "source": [
    "et=Man.lorentzian_metric('eta');\n",
    "et[0,0]=1;\n",
    "et[1,1]=-1;\n",
    "et[2,2]=-1;\n",
    "et[3,3]=-1;\n",
    "show('Métrica local');\n",
    "show(et[:]);"
   ]
  },
  {
   "cell_type": "markdown",
   "metadata": {},
   "source": [
    "Ahora otro chart que se usará como el marco comóvil con la materia obtenido mediante un boost de Lorentz radial }"
   ]
  },
  {
   "cell_type": "code",
   "execution_count": 227,
   "metadata": {
    "collapsed": false
   },
   "outputs": [],
   "source": [
    "LLC.<TA,X,Y,Z> = Man.chart(r'TA:\\tilde{\\tau} X:\\tilde{x} Y:\\tilde{y} Z:\\tilde{z}')"
   ]
  },
  {
   "cell_type": "markdown",
   "metadata": {},
   "source": [
    "el boost"
   ]
  },
  {
   "cell_type": "code",
   "execution_count": 221,
   "metadata": {
    "collapsed": true
   },
   "outputs": [],
   "source": [
    "gam=1/sqrt(1-w^2)"
   ]
  },
  {
   "cell_type": "code",
   "execution_count": 222,
   "metadata": {
    "collapsed": false
   },
   "outputs": [
    {
     "data": {
      "text/html": [
       "<html><script type=\"math/tex; mode=display\">\\newcommand{\\Bold}[1]{\\mathbf{#1}}\\left\\{\\begin{array}{lcl} {\\tilde{\\tau}} & = & -\\frac{w x - {\\tau}}{\\sqrt{-w^{2} + 1}} \\\\ {\\tilde{x}} & = & -\\frac{{\\tau} w - x}{\\sqrt{-w^{2} + 1}} \\\\ {\\tilde{y}} & = & y \\\\ {\\tilde{z}} & = & z \\end{array}\\right.</script></html>"
      ],
      "text/plain": [
       "TA = -(w*x - t)/sqrt(-w^2 + 1)\n",
       "X = -(t*w - x)/sqrt(-w^2 + 1)\n",
       "Y = y\n",
       "Z = z"
      ]
     },
     "execution_count": 222,
     "metadata": {},
     "output_type": "execute_result"
    }
   ],
   "source": [
    "LLtoLLC = LL.transition_map(LLC, [gam*(ta-w*x), gam*(x-w*t), y, z])\n",
    "LLtoLLC.display()"
   ]
  },
  {
   "cell_type": "code",
   "execution_count": 223,
   "metadata": {
    "collapsed": false
   },
   "outputs": [
    {
     "data": {
      "text/html": [
       "<html><script type=\"math/tex; mode=display\">\\newcommand{\\Bold}[1]{\\mathbf{#1}}\\left\\{\\begin{array}{lcl} {\\tau} & = & -\\frac{\\sqrt{-w^{2} + 1} {\\tilde{x}} w + \\sqrt{-w^{2} + 1} {\\tilde{\\tau}}}{w^{2} - 1} \\\\ x & = & -\\frac{\\sqrt{-w^{2} + 1} {\\tilde{\\tau}} w + \\sqrt{-w^{2} + 1} {\\tilde{x}}}{w^{2} - 1} \\\\ y & = & {\\tilde{y}} \\\\ z & = & {\\tilde{z}} \\end{array}\\right.</script></html>"
      ],
      "text/plain": [
       "t = -(sqrt(-w^2 + 1)*X*w + sqrt(-w^2 + 1)*TA)/(w^2 - 1)\n",
       "x = -(sqrt(-w^2 + 1)*TA*w + sqrt(-w^2 + 1)*X)/(w^2 - 1)\n",
       "y = Y\n",
       "z = Z"
      ]
     },
     "execution_count": 223,
     "metadata": {},
     "output_type": "execute_result"
    }
   ],
   "source": [
    "LLCtoLL=LLtoLLC.inverse()\n",
    "LLCtoLL.display()"
   ]
  },
  {
   "cell_type": "markdown",
   "metadata": {},
   "source": [
    "El siguiente paso es definir las componentes del tensor energía momentum en el comovil (No encuentro cuál es la forma correcta, hay instrucciones sobre cómo definir tensores en diferentes marcos vectoriales, pero no en diferentes charts!)"
   ]
  },
  {
   "cell_type": "code",
   "execution_count": 229,
   "metadata": {
    "collapsed": false,
    "deletable": true,
    "editable": true
   },
   "outputs": [],
   "source": [
    "p1=function('p1',latex_name=r'P_{r}')(t,r);\n",
    "p2=function('p2',latex_name=r'P_{\\perp}')(t,r);\n",
    "rho=function('rho')(t,r);\n",
    "q=function('q',latex_name=r'\\hat{q}')(t,r);"
   ]
  },
  {
   "cell_type": "code",
   "execution_count": 228,
   "metadata": {
    "collapsed": false,
    "deletable": true,
    "editable": true
   },
   "outputs": [
    {
     "ename": "ValueError",
     "evalue": "the Chart (Man, (TA, X, Y, Z)) has not been defined on the Free module X(Man) of vector fields on the 4-dimensional differentiable manifold Man",
     "output_type": "error",
     "traceback": [
      "\u001b[0;31m---------------------------------------------------------------------------\u001b[0m",
      "\u001b[0;31mValueError\u001b[0m                                Traceback (most recent call last)",
      "\u001b[0;32m/home/dave/Documents/SageMath/local/lib/python2.7/site-packages/sage/all_cmdline.pyc\u001b[0m in \u001b[0;36m<module>\u001b[0;34m()\u001b[0m\n\u001b[0;32m----> 1\u001b[0;31m \u001b[0mTdd\u001b[0m\u001b[0;34m[\u001b[0m\u001b[0mLLC\u001b[0m\u001b[0;34m,\u001b[0m\u001b[0mInteger\u001b[0m\u001b[0;34m(\u001b[0m\u001b[0;36m0\u001b[0m\u001b[0;34m)\u001b[0m\u001b[0;34m,\u001b[0m\u001b[0mInteger\u001b[0m\u001b[0;34m(\u001b[0m\u001b[0;36m0\u001b[0m\u001b[0;34m)\u001b[0m\u001b[0;34m]\u001b[0m\u001b[0;34m=\u001b[0m\u001b[0mrho\u001b[0m\u001b[0;34m;\u001b[0m\u001b[0;34m\u001b[0m\u001b[0m\n\u001b[0m\u001b[1;32m      2\u001b[0m \u001b[0mTdd\u001b[0m\u001b[0;34m[\u001b[0m\u001b[0mLLC\u001b[0m\u001b[0;34m,\u001b[0m\u001b[0mInteger\u001b[0m\u001b[0;34m(\u001b[0m\u001b[0;36m1\u001b[0m\u001b[0;34m)\u001b[0m\u001b[0;34m,\u001b[0m\u001b[0mInteger\u001b[0m\u001b[0;34m(\u001b[0m\u001b[0;36m1\u001b[0m\u001b[0;34m)\u001b[0m\u001b[0;34m]\u001b[0m\u001b[0;34m=\u001b[0m\u001b[0mp1\u001b[0m\u001b[0;34m;\u001b[0m\u001b[0;34m\u001b[0m\u001b[0m\n\u001b[1;32m      3\u001b[0m \u001b[0mTdd\u001b[0m\u001b[0;34m[\u001b[0m\u001b[0mLLC\u001b[0m\u001b[0;34m,\u001b[0m\u001b[0mInteger\u001b[0m\u001b[0;34m(\u001b[0m\u001b[0;36m2\u001b[0m\u001b[0;34m)\u001b[0m\u001b[0;34m,\u001b[0m\u001b[0mInteger\u001b[0m\u001b[0;34m(\u001b[0m\u001b[0;36m2\u001b[0m\u001b[0;34m)\u001b[0m\u001b[0;34m]\u001b[0m\u001b[0;34m=\u001b[0m\u001b[0mp2\u001b[0m\u001b[0;34m;\u001b[0m\u001b[0;34m\u001b[0m\u001b[0m\n\u001b[1;32m      4\u001b[0m \u001b[0mTdd\u001b[0m\u001b[0;34m[\u001b[0m\u001b[0mLLC\u001b[0m\u001b[0;34m,\u001b[0m\u001b[0mInteger\u001b[0m\u001b[0;34m(\u001b[0m\u001b[0;36m3\u001b[0m\u001b[0;34m)\u001b[0m\u001b[0;34m,\u001b[0m\u001b[0mInteger\u001b[0m\u001b[0;34m(\u001b[0m\u001b[0;36m3\u001b[0m\u001b[0;34m)\u001b[0m\u001b[0;34m]\u001b[0m\u001b[0;34m=\u001b[0m\u001b[0mp2\u001b[0m\u001b[0;34m;\u001b[0m\u001b[0;34m\u001b[0m\u001b[0m\n\u001b[1;32m      5\u001b[0m \u001b[0mTdd\u001b[0m\u001b[0;34m[\u001b[0m\u001b[0mLLC\u001b[0m\u001b[0;34m,\u001b[0m\u001b[0mInteger\u001b[0m\u001b[0;34m(\u001b[0m\u001b[0;36m0\u001b[0m\u001b[0;34m)\u001b[0m\u001b[0;34m,\u001b[0m\u001b[0mInteger\u001b[0m\u001b[0;34m(\u001b[0m\u001b[0;36m1\u001b[0m\u001b[0;34m)\u001b[0m\u001b[0;34m]\u001b[0m\u001b[0;34m=\u001b[0m\u001b[0;34m-\u001b[0m\u001b[0mq\u001b[0m\u001b[0;34m;\u001b[0m\u001b[0;34m\u001b[0m\u001b[0m\n",
      "\u001b[0;32m/home/dave/Documents/SageMath/local/lib/python2.7/site-packages/sage/tensor/modules/free_module_tensor.pyc\u001b[0m in \u001b[0;36m__setitem__\u001b[0;34m(self, args, value)\u001b[0m\n\u001b[1;32m   1414\u001b[0m             \u001b[0;32melse\u001b[0m\u001b[0;34m:\u001b[0m\u001b[0;34m\u001b[0m\u001b[0m\n\u001b[1;32m   1415\u001b[0m                 \u001b[0mbasis\u001b[0m \u001b[0;34m=\u001b[0m \u001b[0mself\u001b[0m\u001b[0;34m.\u001b[0m\u001b[0m_fmodule\u001b[0m\u001b[0;34m.\u001b[0m\u001b[0m_def_basis\u001b[0m\u001b[0;34m\u001b[0m\u001b[0m\n\u001b[0;32m-> 1416\u001b[0;31m         \u001b[0mself\u001b[0m\u001b[0;34m.\u001b[0m\u001b[0mset_comp\u001b[0m\u001b[0;34m(\u001b[0m\u001b[0mbasis\u001b[0m\u001b[0;34m)\u001b[0m\u001b[0;34m[\u001b[0m\u001b[0margs\u001b[0m\u001b[0;34m]\u001b[0m \u001b[0;34m=\u001b[0m \u001b[0mvalue\u001b[0m\u001b[0;34m\u001b[0m\u001b[0m\n\u001b[0m\u001b[1;32m   1417\u001b[0m \u001b[0;34m\u001b[0m\u001b[0m\n\u001b[1;32m   1418\u001b[0m \u001b[0;34m\u001b[0m\u001b[0m\n",
      "\u001b[0;32m/home/dave/Documents/SageMath/local/lib/python2.7/site-packages/sage/manifolds/differentiable/tensorfield_paral.pyc\u001b[0m in \u001b[0;36mset_comp\u001b[0;34m(self, basis)\u001b[0m\n\u001b[1;32m    769\u001b[0m         \u001b[0;32mif\u001b[0m \u001b[0mbasis\u001b[0m\u001b[0;34m.\u001b[0m\u001b[0m_domain\u001b[0m \u001b[0;34m==\u001b[0m \u001b[0mself\u001b[0m\u001b[0;34m.\u001b[0m\u001b[0m_domain\u001b[0m\u001b[0;34m:\u001b[0m\u001b[0;34m\u001b[0m\u001b[0m\n\u001b[1;32m    770\u001b[0m             \u001b[0;31m# Setting components on the tensor field domain:\u001b[0m\u001b[0;34m\u001b[0m\u001b[0;34m\u001b[0m\u001b[0m\n\u001b[0;32m--> 771\u001b[0;31m             \u001b[0;32mreturn\u001b[0m \u001b[0mFreeModuleTensor\u001b[0m\u001b[0;34m.\u001b[0m\u001b[0mset_comp\u001b[0m\u001b[0;34m(\u001b[0m\u001b[0mself\u001b[0m\u001b[0;34m,\u001b[0m \u001b[0mbasis\u001b[0m\u001b[0;34m=\u001b[0m\u001b[0mbasis\u001b[0m\u001b[0;34m)\u001b[0m\u001b[0;34m\u001b[0m\u001b[0m\n\u001b[0m\u001b[1;32m    772\u001b[0m \u001b[0;34m\u001b[0m\u001b[0m\n\u001b[1;32m    773\u001b[0m         \u001b[0;31m# Setting components on a subdomain:\u001b[0m\u001b[0;34m\u001b[0m\u001b[0;34m\u001b[0m\u001b[0m\n",
      "\u001b[0;32m/home/dave/Documents/SageMath/local/lib/python2.7/site-packages/sage/tensor/modules/free_module_tensor.pyc\u001b[0m in \u001b[0;36mset_comp\u001b[0;34m(self, basis)\u001b[0m\n\u001b[1;32m   1182\u001b[0m             \u001b[0;32mif\u001b[0m \u001b[0mbasis\u001b[0m \u001b[0;32mnot\u001b[0m \u001b[0;32min\u001b[0m \u001b[0mself\u001b[0m\u001b[0;34m.\u001b[0m\u001b[0m_fmodule\u001b[0m\u001b[0;34m.\u001b[0m\u001b[0m_known_bases\u001b[0m\u001b[0;34m:\u001b[0m\u001b[0;34m\u001b[0m\u001b[0m\n\u001b[1;32m   1183\u001b[0m                 raise ValueError(\"the {} has not been \".format(basis) +\n\u001b[0;32m-> 1184\u001b[0;31m                                  \"defined on the {}\".format(self._fmodule))\n\u001b[0m\u001b[1;32m   1185\u001b[0m             \u001b[0mself\u001b[0m\u001b[0;34m.\u001b[0m\u001b[0m_components\u001b[0m\u001b[0;34m[\u001b[0m\u001b[0mbasis\u001b[0m\u001b[0;34m]\u001b[0m \u001b[0;34m=\u001b[0m \u001b[0mself\u001b[0m\u001b[0;34m.\u001b[0m\u001b[0m_new_comp\u001b[0m\u001b[0;34m(\u001b[0m\u001b[0mbasis\u001b[0m\u001b[0;34m)\u001b[0m\u001b[0;34m\u001b[0m\u001b[0m\n\u001b[1;32m   1186\u001b[0m         \u001b[0mself\u001b[0m\u001b[0;34m.\u001b[0m\u001b[0m_del_derived\u001b[0m\u001b[0;34m(\u001b[0m\u001b[0;34m)\u001b[0m \u001b[0;31m# deletes the derived quantities\u001b[0m\u001b[0;34m\u001b[0m\u001b[0m\n",
      "\u001b[0;31mValueError\u001b[0m: the Chart (Man, (TA, X, Y, Z)) has not been defined on the Free module X(Man) of vector fields on the 4-dimensional differentiable manifold Man"
     ]
    }
   ],
   "source": [
    "Tdd[LLC,0,0]=rho;\n",
    "Tdd[LLC,1,1]=p1;\n",
    "Tdd[LLC,2,2]=p2;\n",
    "Tdd[LLC,3,3]=p2;\n",
    "Tdd[LLC,0,1]=-q;\n",
    "Tdd[LLC,1,0]=-q;"
   ]
  },
  {
   "cell_type": "code",
   "execution_count": 185,
   "metadata": {
    "collapsed": false,
    "deletable": true,
    "editable": true
   },
   "outputs": [
    {
     "data": {
      "text/html": [
       "<html><script type=\"math/tex; mode=display\">\\newcommand{\\Bold}[1]{\\mathbf{#1}}\\verb|Tensor|\\phantom{\\verb!x!}\\verb|de|\\phantom{\\verb!x!}\\verb|Energía-Momentum|\\phantom{\\verb!x!}\\verb|dd|\\phantom{\\verb!x!}\\verb|en|\\phantom{\\verb!x!}\\verb|el|\\phantom{\\verb!x!}\\verb|comóvil|</script></html>"
      ],
      "text/plain": [
       "'Tensor de Energ\\xc3\\xada-Momentum dd en el com\\xc3\\xb3vil'"
      ]
     },
     "metadata": {},
     "output_type": "display_data"
    },
    {
     "data": {
      "text/html": [
       "<html><script type=\"math/tex; mode=display\">\\newcommand{\\Bold}[1]{\\mathbf{#1}}\\left(\\begin{array}{rrrr}\n",
       "\\rho\\left({\\tau}, r\\right) & -\\hat{q}\\left({\\tau}, r\\right) & 0 & 0 \\\\\n",
       "-\\hat{q}\\left({\\tau}, r\\right) & P_{r}\\left({\\tau}, r\\right) & 0 & 0 \\\\\n",
       "0 & 0 & P_{\\perp}\\left({\\tau}, r\\right) & 0 \\\\\n",
       "0 & 0 & 0 & P_{\\perp}\\left({\\tau}, r\\right)\n",
       "\\end{array}\\right)</script></html>"
      ],
      "text/plain": [
       "[rho(t, r)  -q(t, r)         0         0]\n",
       "[ -q(t, r)  p1(t, r)         0         0]\n",
       "[        0         0  p2(t, r)         0]\n",
       "[        0         0         0  p2(t, r)]"
      ]
     },
     "metadata": {},
     "output_type": "display_data"
    }
   ],
   "source": [
    "show('Tensor de Energía-Momentum dd en el comóvil');\n",
    "show(Tdd[:,LLC]);"
   ]
  },
  {
   "cell_type": "code",
   "execution_count": 230,
   "metadata": {
    "collapsed": false
   },
   "outputs": [
    {
     "data": {
      "text/html": [
       "<html><script type=\"math/tex; mode=display\">\\newcommand{\\Bold}[1]{\\mathbf{#1}}\\left(\\mathcal{M},({\\tau}, r, {\\theta}, {\\phi})\\right)</script></html>"
      ],
      "text/plain": [
       "Chart (Man, (t, r, th, ph))"
      ]
     },
     "execution_count": 230,
     "metadata": {},
     "output_type": "execute_result"
    }
   ],
   "source": [
    "Man.default_chart()"
   ]
  },
  {
   "cell_type": "code",
   "execution_count": null,
   "metadata": {
    "collapsed": true
   },
   "outputs": [],
   "source": []
  }
 ],
 "metadata": {
  "kernelspec": {
   "display_name": "SageMath 8.1",
   "language": "",
   "name": "sagemath"
  },
  "language": "python",
  "language_info": {
   "codemirror_mode": {
    "name": "ipython",
    "version": 2
   },
   "file_extension": ".py",
   "mimetype": "text/x-python",
   "name": "python",
   "nbconvert_exporter": "python",
   "pygments_lexer": "ipython2",
   "version": "2.7.14"
  }
 },
 "nbformat": 4,
 "nbformat_minor": 2
}
