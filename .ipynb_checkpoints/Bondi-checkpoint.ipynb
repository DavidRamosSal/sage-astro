{
 "cells": [
  {
   "cell_type": "code",
   "execution_count": 46,
   "metadata": {
    "collapsed": false,
    "deletable": true,
    "editable": true
   },
   "outputs": [],
   "source": [
    "reset ();"
   ]
  },
  {
   "cell_type": "code",
   "execution_count": 47,
   "metadata": {
    "collapsed": true,
    "deletable": true,
    "editable": true
   },
   "outputs": [],
   "source": [
    "%display latex"
   ]
  },
  {
   "cell_type": "code",
   "execution_count": 48,
   "metadata": {
    "collapsed": false,
    "deletable": true,
    "editable": true
   },
   "outputs": [],
   "source": [
    "Man = Manifold(4,'Man',r'\\mathcal{M}') ;"
   ]
  },
  {
   "cell_type": "code",
   "execution_count": 49,
   "metadata": {
    "collapsed": false,
    "deletable": true,
    "editable": true
   },
   "outputs": [],
   "source": [
    "M=var('M');"
   ]
  },
  {
   "cell_type": "code",
   "execution_count": 50,
   "metadata": {
    "collapsed": false,
    "deletable": true,
    "editable": true
   },
   "outputs": [],
   "source": [
    "SC.<t,r,th,ph>=Man.chart(r't r:(0,+oo) th:(0,pi):\\theta ph:(0,2*pi):\\phi');"
   ]
  },
  {
   "cell_type": "code",
   "execution_count": 51,
   "metadata": {
    "collapsed": false,
    "deletable": true,
    "editable": true
   },
   "outputs": [],
   "source": [
    "v=function('v', latex_name=r'\\nu')(t,r);\n",
    "Lambda=function('l', latex_name=r'\\lambda')(t,r);\n",
    "v1=var('v1', latex_name=r'\\nu_{1}');\n",
    "Lambda1=var('l1', latex_name=r'\\lambda_{1}')"
   ]
  },
  {
   "cell_type": "code",
   "execution_count": 52,
   "metadata": {
    "collapsed": false,
    "deletable": true,
    "editable": true
   },
   "outputs": [],
   "source": [
    "g=Man.lorentzian_metric('g');"
   ]
  },
  {
   "cell_type": "code",
   "execution_count": 53,
   "metadata": {
    "collapsed": false,
    "deletable": true,
    "editable": true
   },
   "outputs": [],
   "source": [
    "g[0,0]=exp(v);\n",
    "g[1,1]=-exp(Lambda);\n",
    "g[2,2]=-r^2;\n",
    "g[3,3]=-(r*sin(th))^2;"
   ]
  },
  {
   "cell_type": "code",
   "execution_count": 54,
   "metadata": {
    "collapsed": false,
    "deletable": true,
    "editable": true
   },
   "outputs": [],
   "source": [
    "nab=g.connection();"
   ]
  },
  {
   "cell_type": "code",
   "execution_count": 55,
   "metadata": {
    "collapsed": false,
    "deletable": true,
    "editable": true
   },
   "outputs": [],
   "source": [
    "Riem=g.riemann();\n",
    "Riem.set_name('R')\n",
    "Ric=g.ricci();\n",
    "Ric.set_name('R');\n",
    "Rs=g.ricci_scalar();"
   ]
  },
  {
   "cell_type": "code",
   "execution_count": 56,
   "metadata": {
    "collapsed": false,
    "deletable": true,
    "editable": true
   },
   "outputs": [],
   "source": [
    "ET=Ric-(1/2)*g*g.ricci_scalar();\n",
    "ET.set_name('G')"
   ]
  },
  {
   "cell_type": "code",
   "execution_count": 57,
   "metadata": {
    "collapsed": false,
    "deletable": true,
    "editable": true
   },
   "outputs": [
    {
     "data": {
      "text/html": [
       "<html><script type=\"math/tex; mode=display\">\\newcommand{\\Bold}[1]{\\mathbf{#1}}\\verb|Componentes|\\phantom{\\verb!x!}\\verb|mixtas|\\phantom{\\verb!x!}\\verb|tensor|\\phantom{\\verb!x!}\\verb|de|\\phantom{\\verb!x!}\\verb|Einstein|</script></html>"
      ],
      "text/plain": [
       "'Componentes mixtas tensor de Einstein'"
      ]
     },
     "metadata": {},
     "output_type": "display_data"
    },
    {
     "data": {
      "text/html": [
       "<html><script type=\"math/tex; mode=display\">\\newcommand{\\Bold}[1]{\\mathbf{#1}}\\begin{array}{lcl} G_{ \\phantom{\\, t} \\, t }^{ \\, t \\phantom{\\, t} } & = & \\frac{{\\left(r \\frac{\\partial\\,\\lambda}{\\partial r} + e^{\\left(\\lambda\\left(t, r\\right)\\right)} - 1\\right)} e^{\\left(-\\lambda\\left(t, r\\right)\\right)}}{r^{2}} \\\\ G_{ \\phantom{\\, t} \\, r }^{ \\, t \\phantom{\\, r} } & = & \\frac{e^{\\left(-\\nu\\left(t, r\\right)\\right)} \\frac{\\partial\\,\\lambda}{\\partial t}}{r} \\\\ G_{ \\phantom{\\, r} \\, t }^{ \\, r \\phantom{\\, t} } & = & -\\frac{e^{\\left(-\\lambda\\left(t, r\\right)\\right)} \\frac{\\partial\\,\\lambda}{\\partial t}}{r} \\\\ G_{ \\phantom{\\, r} \\, r }^{ \\, r \\phantom{\\, r} } & = & -\\frac{{\\left(r \\frac{\\partial\\,\\nu}{\\partial r} - e^{\\left(\\lambda\\left(t, r\\right)\\right)} + 1\\right)} e^{\\left(-\\lambda\\left(t, r\\right)\\right)}}{r^{2}} \\\\ G_{ \\phantom{\\, {\\theta}} \\, {\\theta} }^{ \\, {\\theta} \\phantom{\\, {\\theta}} } & = & \\frac{{\\left(r e^{\\left(\\lambda\\left(t, r\\right)\\right)} \\left(\\frac{\\partial\\,\\lambda}{\\partial t}\\right)^{2} - r e^{\\left(\\lambda\\left(t, r\\right)\\right)} \\frac{\\partial\\,\\lambda}{\\partial t} \\frac{\\partial\\,\\nu}{\\partial t} - r e^{\\left(\\nu\\left(t, r\\right)\\right)} \\left(\\frac{\\partial\\,\\nu}{\\partial r}\\right)^{2} + 2 \\, r e^{\\left(\\lambda\\left(t, r\\right)\\right)} \\frac{\\partial^2\\,\\lambda}{\\partial t ^ 2} - 2 \\, r e^{\\left(\\nu\\left(t, r\\right)\\right)} \\frac{\\partial^2\\,\\nu}{\\partial r ^ 2} + 2 \\, e^{\\left(\\nu\\left(t, r\\right)\\right)} \\frac{\\partial\\,\\lambda}{\\partial r} + {\\left(r e^{\\left(\\nu\\left(t, r\\right)\\right)} \\frac{\\partial\\,\\lambda}{\\partial r} - 2 \\, e^{\\left(\\nu\\left(t, r\\right)\\right)}\\right)} \\frac{\\partial\\,\\nu}{\\partial r}\\right)} e^{\\left(-\\lambda\\left(t, r\\right) - \\nu\\left(t, r\\right)\\right)}}{4 \\, r} \\\\ G_{ \\phantom{\\, {\\phi}} \\, {\\phi} }^{ \\, {\\phi} \\phantom{\\, {\\phi}} } & = & \\frac{{\\left(r e^{\\left(\\lambda\\left(t, r\\right)\\right)} \\left(\\frac{\\partial\\,\\lambda}{\\partial t}\\right)^{2} - r e^{\\left(\\lambda\\left(t, r\\right)\\right)} \\frac{\\partial\\,\\lambda}{\\partial t} \\frac{\\partial\\,\\nu}{\\partial t} - r e^{\\left(\\nu\\left(t, r\\right)\\right)} \\left(\\frac{\\partial\\,\\nu}{\\partial r}\\right)^{2} + 2 \\, r e^{\\left(\\lambda\\left(t, r\\right)\\right)} \\frac{\\partial^2\\,\\lambda}{\\partial t ^ 2} - 2 \\, r e^{\\left(\\nu\\left(t, r\\right)\\right)} \\frac{\\partial^2\\,\\nu}{\\partial r ^ 2} + 2 \\, e^{\\left(\\nu\\left(t, r\\right)\\right)} \\frac{\\partial\\,\\lambda}{\\partial r} + {\\left(r e^{\\left(\\nu\\left(t, r\\right)\\right)} \\frac{\\partial\\,\\lambda}{\\partial r} - 2 \\, e^{\\left(\\nu\\left(t, r\\right)\\right)}\\right)} \\frac{\\partial\\,\\nu}{\\partial r}\\right)} e^{\\left(-\\lambda\\left(t, r\\right) - \\nu\\left(t, r\\right)\\right)}}{4 \\, r} \\end{array}</script></html>"
      ],
      "text/plain": [
       "G^t_t = (r*d(l)/dr + e^(l(t, r)) - 1)*e^(-l(t, r))/r^2 \n",
       "G^t_r = e^(-v(t, r))*d(l)/dt/r \n",
       "G^r_t = -e^(-l(t, r))*d(l)/dt/r \n",
       "G^r_r = -(r*d(v)/dr - e^(l(t, r)) + 1)*e^(-l(t, r))/r^2 \n",
       "G^th_th = 1/4*(r*e^(l(t, r))*(d(l)/dt)^2 - r*e^(l(t, r))*d(l)/dt*d(v)/dt - r*e^(v(t, r))*(d(v)/dr)^2 + 2*r*e^(l(t, r))*d^2(l)/dt^2 - 2*r*e^(v(t, r))*d^2(v)/dr^2 + 2*e^(v(t, r))*d(l)/dr + (r*e^(v(t, r))*d(l)/dr - 2*e^(v(t, r)))*d(v)/dr)*e^(-l(t, r) - v(t, r))/r \n",
       "G^ph_ph = 1/4*(r*e^(l(t, r))*(d(l)/dt)^2 - r*e^(l(t, r))*d(l)/dt*d(v)/dt - r*e^(v(t, r))*(d(v)/dr)^2 + 2*r*e^(l(t, r))*d^2(l)/dt^2 - 2*r*e^(v(t, r))*d^2(v)/dr^2 + 2*e^(v(t, r))*d(l)/dr + (r*e^(v(t, r))*d(l)/dr - 2*e^(v(t, r)))*d(v)/dr)*e^(-l(t, r) - v(t, r))/r "
      ]
     },
     "metadata": {},
     "output_type": "display_data"
    }
   ],
   "source": [
    "gu=g.up(g)\n",
    "ETm=gu['^am']*ET['_mb'];\n",
    "ETm.set_name('G');"
   ]
  },
  {
   "cell_type": "markdown",
   "metadata": {
    "deletable": true,
    "editable": true
   },
   "source": [
    "<h1>Tensor energía-momentum</h1>"
   ]
  },
  {
   "cell_type": "code",
   "execution_count": 58,
   "metadata": {
    "collapsed": false,
    "deletable": true,
    "editable": true
   },
   "outputs": [
    {
     "data": {
      "text/html": [
       "<html><script type=\"math/tex; mode=display\">\\newcommand{\\Bold}[1]{\\mathbf{#1}}T</script></html>"
      ],
      "text/plain": [
       "Tensor field Tdd of type (0,2) on the 4-dimensional differentiable manifold Man"
      ]
     },
     "execution_count": 58,
     "metadata": {},
     "output_type": "execute_result"
    }
   ],
   "source": [
    "Tdd=Man.tensor_field(0,2, name='Tdd', latex_name=r'T'); Tdd"
   ]
  },
  {
   "cell_type": "code",
   "execution_count": 59,
   "metadata": {
    "collapsed": false,
    "deletable": true,
    "editable": true
   },
   "outputs": [],
   "source": [
    "p1=function('p1',latex_name=r'P_{r}')(t,r);\n",
    "p2=function('p2',latex_name=r'P_{\\perp}')(t,r);\n",
    "rho=function('rho')(t,r);\n",
    "q=function('q',latex_name=r'\\hat{q}')(t,r);"
   ]
  },
  {
   "cell_type": "code",
   "execution_count": 60,
   "metadata": {
    "collapsed": false,
    "deletable": true,
    "editable": true
   },
   "outputs": [],
   "source": [
    "Tdd[0,0]=rho;\n",
    "Tdd[1,1]=p1;\n",
    "Tdd[2,2]=p2;\n",
    "Tdd[3,3]=p2;\n",
    "Tdd[0,1]=-q;\n",
    "Tdd[1,0]=-q;"
   ]
  },
  {
   "cell_type": "markdown",
   "metadata": {
    "deletable": true,
    "editable": true
   },
   "source": [
    "# Intentando implementar el esquema de Bondi (Tengo problemas definiendo el cambio de coordenadas) "
   ]
  },
  {
   "cell_type": "markdown",
   "metadata": {
    "deletable": true,
    "editable": true
   },
   "source": [
    "Lo primero sería introducir las coordenadas locales, entonces creamos un chart:"
   ]
  },
  {
   "cell_type": "code",
   "execution_count": 61,
   "metadata": {
    "collapsed": false,
    "deletable": true,
    "editable": true
   },
   "outputs": [],
   "source": [
    "LL.<ta,x,y,z>=Man.chart(r'ta:\\tau x y z');"
   ]
  },
  {
   "cell_type": "markdown",
   "metadata": {
    "deletable": true,
    "editable": true
   },
   "source": [
    "Ahora definimos el cambio de coordenadas de las coordenadas tipo Schwarzchild a las locales (No sé qué restricciones meterle para que me deje hacer la transfromación) :"
   ]
  },
  {
   "cell_type": "code",
   "execution_count": 62,
   "metadata": {
    "collapsed": false,
    "deletable": true,
    "editable": true
   },
   "outputs": [],
   "source": [
    "StoL = SC.transition_map(LL, [exp(v/2)*t , exp(Lambda/2)*r, r*th, r*sin(th)*ph])"
   ]
  },
  {
   "cell_type": "code",
   "execution_count": 63,
   "metadata": {
    "collapsed": false,
    "deletable": true,
    "editable": true
   },
   "outputs": [
    {
     "name": "stdout",
     "output_type": "stream",
     "text": [
      "Change of coordinates from Chart (Man, (t, r, th, ph)) to Chart (Man, (ta, x, y, z))\n"
     ]
    },
    {
     "data": {
      "text/html": [
       "<html><script type=\"math/tex; mode=display\">\\newcommand{\\Bold}[1]{\\mathbf{#1}}\\left\\{\\begin{array}{lcl} {\\tau} & = & t e^{\\left(\\frac{1}{2} \\, \\nu\\left(t, r\\right)\\right)} \\\\ x & = & r e^{\\left(\\frac{1}{2} \\, \\lambda\\left(t, r\\right)\\right)} \\\\ y & = & r {\\theta} \\\\ z & = & {\\phi} r \\sin\\left({\\theta}\\right) \\end{array}\\right.</script></html>"
      ],
      "text/plain": [
       "ta = t*e^(1/2*v(t, r))\n",
       "x = r*e^(1/2*l(t, r))\n",
       "y = r*th\n",
       "z = ph*r*sin(th)"
      ]
     },
     "execution_count": 63,
     "metadata": {},
     "output_type": "execute_result"
    }
   ],
   "source": [
    "print(StoL); StoL.display()"
   ]
  },
  {
   "cell_type": "markdown",
   "metadata": {
    "deletable": true,
    "editable": true
   },
   "source": [
    "Ahora la inversa"
   ]
  },
  {
   "cell_type": "code",
   "execution_count": 38,
   "metadata": {
    "collapsed": false,
    "deletable": true,
    "editable": true
   },
   "outputs": [
    {
     "ename": "KeyError",
     "evalue": "t",
     "output_type": "error",
     "traceback": [
      "\u001b[0;31m---------------------------------------------------------------------------\u001b[0m",
      "\u001b[0;31mKeyError\u001b[0m                                  Traceback (most recent call last)",
      "\u001b[0;32m/home/dave/Documents/SageMath/local/lib/python2.7/site-packages/sage/all_cmdline.pyc\u001b[0m in \u001b[0;36m<module>\u001b[0;34m()\u001b[0m\n\u001b[0;32m----> 1\u001b[0;31m \u001b[0mLtoS\u001b[0m\u001b[0;34m=\u001b[0m\u001b[0mStoL\u001b[0m\u001b[0;34m.\u001b[0m\u001b[0minverse\u001b[0m\u001b[0;34m(\u001b[0m\u001b[0;34m)\u001b[0m\u001b[0;34m;\u001b[0m \u001b[0mLtoS\u001b[0m\u001b[0;34m.\u001b[0m\u001b[0mdisplay\u001b[0m\u001b[0;34m(\u001b[0m\u001b[0;34m)\u001b[0m\u001b[0;34m\u001b[0m\u001b[0m\n\u001b[0m",
      "\u001b[0;32m/home/dave/Documents/SageMath/local/lib/python2.7/site-packages/sage/manifolds/chart.pyc\u001b[0m in \u001b[0;36minverse\u001b[0;34m(self)\u001b[0m\n\u001b[1;32m   2839\u001b[0m                                      \u001b[0;34m\"set_inverse() to set the inverse \"\u001b[0m \u001b[0;34m+\u001b[0m\u001b[0;34m\u001b[0m\u001b[0m\n\u001b[1;32m   2840\u001b[0m                                      \"manually\")\n\u001b[0;32m-> 2841\u001b[0;31m                 \u001b[0mx2_to_x1\u001b[0m \u001b[0;34m=\u001b[0m \u001b[0;34m[\u001b[0m\u001b[0msol\u001b[0m\u001b[0;34m[\u001b[0m\u001b[0mx1\u001b[0m\u001b[0;34m[\u001b[0m\u001b[0mi\u001b[0m\u001b[0;34m]\u001b[0m\u001b[0;34m]\u001b[0m\u001b[0;34m.\u001b[0m\u001b[0msubs\u001b[0m\u001b[0;34m(\u001b[0m\u001b[0msubstitutions\u001b[0m\u001b[0;34m)\u001b[0m \u001b[0;32mfor\u001b[0m \u001b[0mi\u001b[0m \u001b[0;32min\u001b[0m \u001b[0mrange\u001b[0m\u001b[0;34m(\u001b[0m\u001b[0mn1\u001b[0m\u001b[0;34m)\u001b[0m\u001b[0;34m]\u001b[0m\u001b[0;34m\u001b[0m\u001b[0m\n\u001b[0m\u001b[1;32m   2842\u001b[0m                 \u001b[0;32mfor\u001b[0m \u001b[0mtransf\u001b[0m \u001b[0;32min\u001b[0m \u001b[0mx2_to_x1\u001b[0m\u001b[0;34m:\u001b[0m\u001b[0;34m\u001b[0m\u001b[0m\n\u001b[1;32m   2843\u001b[0m                     \u001b[0;32mtry\u001b[0m\u001b[0;34m:\u001b[0m\u001b[0;34m\u001b[0m\u001b[0m\n",
      "\u001b[0;31mKeyError\u001b[0m: t"
     ]
    }
   ],
   "source": [
    "LtoS=StoL.inverse(); LtoS.display()"
   ]
  },
  {
   "cell_type": "code",
   "execution_count": 64,
   "metadata": {
    "collapsed": false,
    "deletable": true,
    "editable": true
   },
   "outputs": [
    {
     "data": {
      "text/html": [
       "<html><script type=\"math/tex; mode=display\">\\newcommand{\\Bold}[1]{\\mathbf{#1}}\\left\\{\\left(\\left(\\mathcal{M},(t, r, {\\theta}, {\\phi})\\right), \\left(\\mathcal{M},({\\tau}, x, y, z)\\right)\\right) : \\left(\\mathcal{M},(t, r, {\\theta}, {\\phi})\\right) \\rightarrow \\left(\\mathcal{M},({\\tau}, x, y, z)\\right)\\right\\}</script></html>"
      ],
      "text/plain": [
       "{(Chart (Man, (t, r, th, ph)),\n",
       "  Chart (Man, (ta, x, y, z))): Change of coordinates from Chart (Man, (t, r, th, ph)) to Chart (Man, (ta, x, y, z))}"
      ]
     },
     "execution_count": 64,
     "metadata": {},
     "output_type": "execute_result"
    }
   ],
   "source": [
    " Man.coord_changes()"
   ]
  },
  {
   "cell_type": "code",
   "execution_count": 65,
   "metadata": {
    "collapsed": false,
    "deletable": true,
    "editable": true
   },
   "outputs": [
    {
     "data": {
      "text/html": [
       "<html><script type=\"math/tex; mode=display\">\\newcommand{\\Bold}[1]{\\mathbf{#1}}\\left[\\left(\\mathcal{M},(t, r, {\\theta}, {\\phi})\\right), \\left(\\mathcal{M},({\\tau}, x, y, z)\\right)\\right]</script></html>"
      ],
      "text/plain": [
       "[Chart (Man, (t, r, th, ph)), Chart (Man, (ta, x, y, z))]"
      ]
     },
     "execution_count": 65,
     "metadata": {},
     "output_type": "execute_result"
    }
   ],
   "source": [
    "Man.atlas()"
   ]
  },
  {
   "cell_type": "markdown",
   "metadata": {
    "collapsed": true,
    "deletable": true,
    "editable": true
   },
   "source": [
    "Expresanto la métrica en este marco"
   ]
  },
  {
   "cell_type": "code",
   "execution_count": 66,
   "metadata": {
    "collapsed": false,
    "deletable": true,
    "editable": true
   },
   "outputs": [
    {
     "data": {
      "text/html": [
       "<html><script type=\"math/tex; mode=display\">\\newcommand{\\Bold}[1]{\\mathbf{#1}}\\left(\\mathcal{M}, \\left(\\frac{\\partial}{\\partial {\\tau} },\\frac{\\partial}{\\partial x },\\frac{\\partial}{\\partial y },\\frac{\\partial}{\\partial z }\\right)\\right)</script></html>"
      ],
      "text/plain": [
       "Coordinate frame (Man, (d/dta,d/dx,d/dy,d/dz))"
      ]
     },
     "execution_count": 66,
     "metadata": {},
     "output_type": "execute_result"
    }
   ],
   "source": [
    "LL.frame()"
   ]
  },
  {
   "cell_type": "code",
   "execution_count": 67,
   "metadata": {
    "collapsed": false,
    "deletable": true,
    "editable": true,
    "scrolled": true
   },
   "outputs": [
    {
     "ename": "ValueError",
     "evalue": "no starting chart could be found to compute the expression in the Chart (Man, (ta, x, y, z))",
     "output_type": "error",
     "traceback": [
      "\u001b[0;31m---------------------------------------------------------------------------\u001b[0m",
      "\u001b[0;31mValueError\u001b[0m                                Traceback (most recent call last)",
      "\u001b[0;32m/home/dave/Documents/SageMath/local/lib/python2.7/site-packages/sage/all_cmdline.pyc\u001b[0m in \u001b[0;36m<module>\u001b[0;34m()\u001b[0m\n\u001b[0;32m----> 1\u001b[0;31m \u001b[0mg\u001b[0m\u001b[0;34m.\u001b[0m\u001b[0mdisplay\u001b[0m\u001b[0;34m(\u001b[0m\u001b[0mLL\u001b[0m\u001b[0;34m.\u001b[0m\u001b[0mframe\u001b[0m\u001b[0;34m(\u001b[0m\u001b[0;34m)\u001b[0m\u001b[0;34m,\u001b[0m \u001b[0mLL\u001b[0m\u001b[0;34m)\u001b[0m\u001b[0;34m\u001b[0m\u001b[0m\n\u001b[0m",
      "\u001b[0;32m/home/dave/Documents/SageMath/local/lib/python2.7/site-packages/sage/tensor/modules/free_module_tensor.pyc\u001b[0m in \u001b[0;36mdisplay\u001b[0;34m(self, basis, format_spec)\u001b[0m\n\u001b[1;32m    665\u001b[0m         \u001b[0;32mfor\u001b[0m \u001b[0mind\u001b[0m \u001b[0;32min\u001b[0m \u001b[0mcomp\u001b[0m\u001b[0;34m.\u001b[0m\u001b[0mindex_generator\u001b[0m\u001b[0;34m(\u001b[0m\u001b[0;34m)\u001b[0m\u001b[0;34m:\u001b[0m\u001b[0;34m\u001b[0m\u001b[0m\n\u001b[1;32m    666\u001b[0m             \u001b[0mind_arg\u001b[0m \u001b[0;34m=\u001b[0m \u001b[0mind\u001b[0m \u001b[0;34m+\u001b[0m \u001b[0;34m(\u001b[0m\u001b[0mformat_spec\u001b[0m\u001b[0;34m,\u001b[0m\u001b[0;34m)\u001b[0m\u001b[0;34m\u001b[0m\u001b[0m\n\u001b[0;32m--> 667\u001b[0;31m             \u001b[0mcoef\u001b[0m \u001b[0;34m=\u001b[0m \u001b[0mcomp\u001b[0m\u001b[0;34m[\u001b[0m\u001b[0mind_arg\u001b[0m\u001b[0;34m]\u001b[0m\u001b[0;34m\u001b[0m\u001b[0m\n\u001b[0m\u001b[1;32m    668\u001b[0m             \u001b[0;31m# Check whether the coefficient is zero, preferably via\u001b[0m\u001b[0;34m\u001b[0m\u001b[0;34m\u001b[0m\u001b[0m\n\u001b[1;32m    669\u001b[0m             \u001b[0;31m# the fast method is_trivial_zero():\u001b[0m\u001b[0;34m\u001b[0m\u001b[0;34m\u001b[0m\u001b[0m\n",
      "\u001b[0;32m/home/dave/Documents/SageMath/local/lib/python2.7/site-packages/sage/tensor/modules/comp.pyc\u001b[0m in \u001b[0;36m__getitem__\u001b[0;34m(self, args)\u001b[0m\n\u001b[1;32m   4762\u001b[0m                 \u001b[0;32mreturn\u001b[0m \u001b[0mself\u001b[0m\u001b[0;34m.\u001b[0m\u001b[0m_output_formatter\u001b[0m\u001b[0;34m(\u001b[0m\u001b[0mself\u001b[0m\u001b[0;34m.\u001b[0m\u001b[0m_comp\u001b[0m\u001b[0;34m[\u001b[0m\u001b[0mind\u001b[0m\u001b[0;34m]\u001b[0m\u001b[0;34m)\u001b[0m\u001b[0;34m\u001b[0m\u001b[0m\n\u001b[1;32m   4763\u001b[0m             \u001b[0;32melse\u001b[0m\u001b[0;34m:\u001b[0m\u001b[0;34m\u001b[0m\u001b[0m\n\u001b[0;32m-> 4764\u001b[0;31m                 \u001b[0;32mreturn\u001b[0m \u001b[0mself\u001b[0m\u001b[0;34m.\u001b[0m\u001b[0m_output_formatter\u001b[0m\u001b[0;34m(\u001b[0m\u001b[0mself\u001b[0m\u001b[0;34m.\u001b[0m\u001b[0m_comp\u001b[0m\u001b[0;34m[\u001b[0m\u001b[0mind\u001b[0m\u001b[0;34m]\u001b[0m\u001b[0;34m,\u001b[0m \u001b[0mformat_type\u001b[0m\u001b[0;34m)\u001b[0m\u001b[0;34m\u001b[0m\u001b[0m\n\u001b[0m\u001b[1;32m   4765\u001b[0m \u001b[0;34m\u001b[0m\u001b[0m\n\u001b[1;32m   4766\u001b[0m         \u001b[0;31m# the value is zero\u001b[0m\u001b[0;34m\u001b[0m\u001b[0;34m\u001b[0m\u001b[0m\n",
      "\u001b[0;32m/home/dave/Documents/SageMath/local/lib/python2.7/site-packages/sage/manifolds/scalarfield.pyc\u001b[0m in \u001b[0;36mcoord_function\u001b[0;34m(self, chart, from_chart)\u001b[0m\n\u001b[1;32m   1123\u001b[0m                 \u001b[0;32mif\u001b[0m \u001b[0;32mnot\u001b[0m \u001b[0mfound\u001b[0m\u001b[0;34m:\u001b[0m\u001b[0;34m\u001b[0m\u001b[0m\n\u001b[1;32m   1124\u001b[0m                     raise ValueError(\"no starting chart could be found to \" +\n\u001b[0;32m-> 1125\u001b[0;31m                                      \"compute the expression in the {}\".format(chart))\n\u001b[0m\u001b[1;32m   1126\u001b[0m             \u001b[0mchange\u001b[0m \u001b[0;34m=\u001b[0m \u001b[0mself\u001b[0m\u001b[0;34m.\u001b[0m\u001b[0m_domain\u001b[0m\u001b[0;34m.\u001b[0m\u001b[0m_coord_changes\u001b[0m\u001b[0;34m[\u001b[0m\u001b[0;34m(\u001b[0m\u001b[0mchart\u001b[0m\u001b[0;34m,\u001b[0m \u001b[0mfrom_chart\u001b[0m\u001b[0;34m)\u001b[0m\u001b[0;34m]\u001b[0m\u001b[0;34m\u001b[0m\u001b[0m\n\u001b[1;32m   1127\u001b[0m             \u001b[0;31m# old coordinates expressed in terms of the new ones:\u001b[0m\u001b[0;34m\u001b[0m\u001b[0;34m\u001b[0m\u001b[0m\n",
      "\u001b[0;31mValueError\u001b[0m: no starting chart could be found to compute the expression in the Chart (Man, (ta, x, y, z))"
     ]
    }
   ],
   "source": [
    "g.display(LL.frame(), LL)"
   ]
  },
  {
   "cell_type": "markdown",
   "metadata": {
    "deletable": true,
    "editable": true
   },
   "source": [
    "### Quizás no se pueda implementar formalmente con Sage debido a que $\\nu$ y $\\lambda$ deben ser considerados constantes en el nuevo marco "
   ]
  },
  {
   "cell_type": "markdown",
   "metadata": {
    "deletable": true,
    "editable": true
   },
   "source": [
    "La única opción es realizar las transformaciones con la mano /: por ahora"
   ]
  },
  {
   "cell_type": "code",
   "execution_count": null,
   "metadata": {
    "collapsed": true,
    "deletable": true,
    "editable": true
   },
   "outputs": [],
   "source": []
  }
 ],
 "metadata": {
  "kernelspec": {
   "display_name": "SageMath 8.1",
   "language": "",
   "name": "sagemath"
  },
  "language": "python",
  "language_info": {
   "codemirror_mode": {
    "name": "ipython",
    "version": 2
   },
   "file_extension": ".py",
   "mimetype": "text/x-python",
   "name": "python",
   "nbconvert_exporter": "python",
   "pygments_lexer": "ipython2",
   "version": "2.7.14"
  }
 },
 "nbformat": 4,
 "nbformat_minor": 2
}
