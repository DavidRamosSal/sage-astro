{
 "cells": [
  {
   "cell_type": "code",
   "execution_count": 55,
   "metadata": {},
   "outputs": [],
   "source": [
    "import numpy as np\n",
    "import matplotlib.pyplot as plt\n",
    "from scipy import integrate\n",
    "from scipy import interpolate\n",
    "from scipy.integrate import odeint"
   ]
  },
  {
   "cell_type": "markdown",
   "metadata": {},
   "source": [
    "## Generando datos de una ecuación de estado conocida"
   ]
  },
  {
   "cell_type": "markdown",
   "metadata": {},
   "source": [
    "La ecuación de estado de Florides-Gokhroo-Mehra tiene la forma:\n",
    "$$\\rho (r)=\\bar{\\rho}_c \\left[ 1- \\frac{K}{R^2}r^2 \\right]$$"
   ]
  },
  {
   "cell_type": "code",
   "execution_count": 3,
   "metadata": {},
   "outputs": [],
   "source": [
    "rho_c=1\n",
    "K=1\n",
    "RS=1\n",
    "def rho(x):\n",
    "    return rho_c*(1-(K/RS)*(x**2))"
   ]
  },
  {
   "cell_type": "code",
   "execution_count": 39,
   "metadata": {},
   "outputs": [],
   "source": [
    "Rho=np.zeros(10)\n",
    "r=np.zeros(10)\n",
    "j=0\n",
    "for x in np.linspace(0,10,num=10):\n",
    "    r[j]=x\n",
    "    Rho[j]=rho(x)\n",
    "    j=j+1"
   ]
  },
  {
   "cell_type": "code",
   "execution_count": 40,
   "metadata": {
    "scrolled": false
   },
   "outputs": [
    {
     "data": {
      "text/plain": [
       "array([  1.        ,  -0.2345679 ,  -3.9382716 , -10.11111111,\n",
       "       -18.75308642, -29.86419753, -43.44444444, -59.49382716,\n",
       "       -78.01234568, -99.        ])"
      ]
     },
     "execution_count": 40,
     "metadata": {},
     "output_type": "execute_result"
    }
   ],
   "source": [
    "Rho"
   ]
  },
  {
   "cell_type": "markdown",
   "metadata": {},
   "source": [
    "### Intentando interpolar el arreglo"
   ]
  },
  {
   "cell_type": "code",
   "execution_count": 49,
   "metadata": {},
   "outputs": [],
   "source": [
    "tck=interpolate.splrep(r,Rho,s=0)\n",
    "rnew=np.linspace(0,10,num=200)\n",
    "Rhoo_i=interpolate.splev(rnew,tck,der=0)"
   ]
  },
  {
   "cell_type": "code",
   "execution_count": 50,
   "metadata": {},
   "outputs": [
    {
     "data": {
      "text/plain": [
       "[<matplotlib.lines.Line2D at 0x7f4a81543ba8>]"
      ]
     },
     "execution_count": 50,
     "metadata": {},
     "output_type": "execute_result"
    },
    {
     "data": {
      "image/png": "[encoded data removed]",
      "text/plain": [
       "<matplotlib.figure.Figure at 0x7f4a81575cc0>"
      ]
     },
     "metadata": {},
     "output_type": "display_data"
    }
   ],
   "source": [
    "fig=plt.figure()\n",
    "ax = fig.add_subplot(1, 1, 1)\n",
    "plt.plot(r,Rho,'bo',markersize=4)\n",
    "plt.plot(rnew,Rhoo_i,'ro',markersize=1)"
   ]
  },
  {
   "cell_type": "markdown",
   "metadata": {},
   "source": [
    "La interpolación como una función"
   ]
  },
  {
   "cell_type": "code",
   "execution_count": 76,
   "metadata": {},
   "outputs": [],
   "source": [
    "def Rho_i(r):\n",
    "    return interpolate.splev(r,tck,der=0)"
   ]
  },
  {
   "cell_type": "markdown",
   "metadata": {},
   "source": [
    "## Planteo mi sistema de ecuaciones"
   ]
  },
  {
   "cell_type": "markdown",
   "metadata": {},
   "source": [
    "$$ \\frac{dm}{dr}=4\\pi \\rho r^2 $$\n",
    "$$ \\frac{dP}{dr}= (\\rho+P)\\frac{m+4\\pi r^3 P}{r(r-2m)} $$\n",
    "\n",
    "y si se requiere\n",
    "\n",
    "$$ \\frac{d\\nu}{dr}= \\frac{m+4\\pi r^3 P}{r(r-2m)} $$"
   ]
  },
  {
   "cell_type": "markdown",
   "metadata": {},
   "source": [
    "Para los valores iniciales se escoge $m(0)=0$ y $P_0=P_c$"
   ]
  },
  {
   "cell_type": "markdown",
   "metadata": {},
   "source": [
    "Usando odeint"
   ]
  },
  {
   "cell_type": "code",
   "execution_count": 95,
   "metadata": {},
   "outputs": [],
   "source": [
    "Pc=0.01\n",
    "m0=0\n",
    "def sode(y,r):\n",
    "    P, m=y\n",
    "    derivs=[(Rho_i(r)+P)*(m+4*np.pi*(r**3)*P)/(r*(r-2*m)),4*np.pi*(Rho_i(r))*(r**2)]\n",
    "    return derivs\n",
    "\n",
    "v0=[Pc,m0]\n",
    "r=np.linspace(2,10,num=200)\n",
    "sln=odeint(sode,v0,r)"
   ]
  },
  {
   "cell_type": "code",
   "execution_count": 96,
   "metadata": {
    "collapsed": true
   },
   "outputs": [
    {
     "data": {
      "text/plain": [
       "array([[ 1.00000000e-02,  0.00000000e+00],\n",
       "       [ 1.98766642e-02, -6.35281679e+00],\n",
       "       [ 3.88435134e-02, -1.33127621e+01],\n",
       "       [ 5.90182822e-02, -2.09197945e+01],\n",
       "       [ 7.98179425e-02, -2.92155114e+01],\n",
       "       [ 1.01076845e-01, -3.82431807e+01],\n",
       "       [ 1.22726099e-01, -4.80477724e+01],\n",
       "       [ 1.44730559e-01, -5.86759900e+01],\n",
       "       [ 1.67069847e-01, -7.01763029e+01],\n",
       "       [ 1.89731059e-01, -8.25989770e+01],\n",
       "       [ 2.12705523e-01, -9.59961076e+01],\n",
       "       [ 2.35987171e-01, -1.10421650e+02],\n",
       "       [ 2.59571638e-01, -1.25931452e+02],\n",
       "       [ 2.83455739e-01, -1.42583284e+02],\n",
       "       [ 3.07637142e-01, -1.60436873e+02],\n",
       "       [ 3.32114159e-01, -1.79553934e+02],\n",
       "       [ 3.56885589e-01, -1.99998198e+02],\n",
       "       [ 3.81950624e-01, -2.21835450e+02],\n",
       "       [ 4.07308759e-01, -2.45133552e+02],\n",
       "       [ 4.32959747e-01, -2.69962486e+02],\n",
       "       [ 4.58903541e-01, -2.96394375e+02],\n",
       "       [ 4.85140270e-01, -3.24503520e+02],\n",
       "       [ 5.11670203e-01, -3.54366431e+02],\n",
       "       [ 5.38493725e-01, -3.86061860e+02],\n",
       "       [ 5.65611319e-01, -4.19670829e+02],\n",
       "       [ 5.93023551e-01, -4.55276664e+02],\n",
       "       [ 6.20731053e-01, -4.92965028e+02],\n",
       "       [ 6.48734511e-01, -5.32823949e+02],\n",
       "       [ 6.77034655e-01, -5.74943855e+02],\n",
       "       [ 7.05632255e-01, -6.19417604e+02],\n",
       "       [ 7.34528106e-01, -6.66340517e+02],\n",
       "       [ 7.63723029e-01, -7.15810408e+02],\n",
       "       [ 7.93217855e-01, -7.67927615e+02],\n",
       "       [ 8.23013435e-01, -8.22795037e+02],\n",
       "       [ 8.53110619e-01, -8.80518158e+02],\n",
       "       [ 8.83510267e-01, -9.41205085e+02],\n",
       "       [ 9.14213235e-01, -1.00496657e+03],\n",
       "       [ 9.45220379e-01, -1.07191607e+03],\n",
       "       [ 9.76532549e-01, -1.14216972e+03],\n",
       "       [ 1.00815059e+00, -1.21584645e+03],\n",
       "       [ 1.04007534e+00, -1.29306792e+03],\n",
       "       [ 1.07230761e+00, -1.37395863e+03],\n",
       "       [ 1.10484823e+00, -1.45864592e+03],\n",
       "       [ 1.13769800e+00, -1.54726000e+03],\n",
       "       [ 1.17085770e+00, -1.63993399e+03],\n",
       "       [ 1.20432811e+00, -1.73680392e+03],\n",
       "       [ 1.23810999e+00, -1.83800883e+03],\n",
       "       [ 1.27220409e+00, -1.94369074e+03],\n",
       "       [ 1.30661113e+00, -2.05399470e+03],\n",
       "       [ 1.34133183e+00, -2.16906882e+03],\n",
       "       [ 1.37636689e+00, -2.28906432e+03],\n",
       "       [ 1.41171699e+00, -2.41413554e+03],\n",
       "       [ 1.44738280e+00, -2.54443997e+03],\n",
       "       [ 1.48336497e+00, -2.68013831e+03],\n",
       "       [ 1.51966413e+00, -2.82139447e+03],\n",
       "       [ 1.55628092e+00, -2.96837561e+03],\n",
       "       [ 1.59321593e+00, -3.12125217e+03],\n",
       "       [ 1.63046975e+00, -3.28019794e+03],\n",
       "       [ 1.66804296e+00, -3.44539002e+03],\n",
       "       [ 1.70593612e+00, -3.61700891e+03],\n",
       "       [ 1.74414977e+00, -3.79523852e+03],\n",
       "       [ 1.78268444e+00, -3.98026619e+03],\n",
       "       [ 1.82154066e+00, -4.17228277e+03],\n",
       "       [ 1.86071891e+00, -4.37148258e+03],\n",
       "       [ 1.90021970e+00, -4.57806350e+03],\n",
       "       [ 1.94004350e+00, -4.79222697e+03],\n",
       "       [ 1.98019077e+00, -5.01417803e+03],\n",
       "       [ 2.02066196e+00, -5.24412538e+03],\n",
       "       [ 2.06145751e+00, -5.48228134e+03],\n",
       "       [ 2.10257786e+00, -5.72886197e+03],\n",
       "       [ 2.14402340e+00, -5.98408704e+03],\n",
       "       [ 2.18579455e+00, -6.24818007e+03],\n",
       "       [ 2.22789170e+00, -6.52136840e+03],\n",
       "       [ 2.27031522e+00, -6.80388316e+03],\n",
       "       [ 2.31306550e+00, -7.09595937e+03],\n",
       "       [ 2.35614289e+00, -7.39783591e+03],\n",
       "       [ 2.39954773e+00, -7.70975560e+03],\n",
       "       [ 2.44328038e+00, -8.03196518e+03],\n",
       "       [ 2.48734116e+00, -8.36471541e+03],\n",
       "       [ 2.53173040e+00, -8.70826103e+03],\n",
       "       [ 2.57644840e+00, -9.06286085e+03],\n",
       "       [ 2.62149548e+00, -9.42877775e+03],\n",
       "       [ 2.66687192e+00, -9.80627871e+03],\n",
       "       [ 2.71257802e+00, -1.01956349e+04],\n",
       "       [ 2.75861405e+00, -1.05971215e+04],\n",
       "       [ 2.80498030e+00, -1.10110181e+04],\n",
       "       [ 2.85167701e+00, -1.14376085e+04],\n",
       "       [ 2.89870446e+00, -1.18771806e+04],\n",
       "       [ 2.94606288e+00, -1.23300267e+04],\n",
       "       [ 2.99375253e+00, -1.27964436e+04],\n",
       "       [ 3.04177363e+00, -1.32767320e+04],\n",
       "       [ 3.09012643e+00, -1.37711976e+04],\n",
       "       [ 3.13881115e+00, -1.42801500e+04],\n",
       "       [ 3.18782800e+00, -1.48039036e+04],\n",
       "       [ 3.23717719e+00, -1.53427771e+04],\n",
       "       [ 3.28685894e+00, -1.58970938e+04],\n",
       "       [ 3.33687343e+00, -1.64671815e+04],\n",
       "       [ 3.38722088e+00, -1.70533727e+04],\n",
       "       [ 3.43790146e+00, -1.76560043e+04],\n",
       "       [ 3.48891536e+00, -1.82754182e+04],\n",
       "       [ 3.54026278e+00, -1.89119605e+04],\n",
       "       [ 3.59194386e+00, -1.95659825e+04],\n",
       "       [ 3.64395880e+00, -2.02378398e+04],\n",
       "       [ 3.69630775e+00, -2.09278931e+04],\n",
       "       [ 3.74899088e+00, -2.16365079e+04],\n",
       "       [ 3.80200834e+00, -2.23640542e+04],\n",
       "       [ 3.85536029e+00, -2.31109072e+04],\n",
       "       [ 3.90904688e+00, -2.38774470e+04],\n",
       "       [ 3.96306825e+00, -2.46640584e+04],\n",
       "       [ 4.01742455e+00, -2.54711313e+04],\n",
       "       [ 4.07211591e+00, -2.62990607e+04],\n",
       "       [ 4.12714246e+00, -2.71482463e+04],\n",
       "       [ 4.18250434e+00, -2.80190933e+04],\n",
       "       [ 4.23820168e+00, -2.89120117e+04],\n",
       "       [ 4.29423459e+00, -2.98274167e+04],\n",
       "       [ 4.35060321e+00, -3.07657285e+04],\n",
       "       [ 4.40730765e+00, -3.17273728e+04],\n",
       "       [ 4.46434803e+00, -3.27127803e+04],\n",
       "       [ 4.52172444e+00, -3.37223869e+04],\n",
       "       [ 4.57943702e+00, -3.47566340e+04],\n",
       "       [ 4.63748586e+00, -3.58159681e+04],\n",
       "       [ 4.69587106e+00, -3.69008412e+04],\n",
       "       [ 4.75459273e+00, -3.80117105e+04],\n",
       "       [ 4.81365097e+00, -3.91490388e+04],\n",
       "       [ 4.87304588e+00, -4.03132943e+04],\n",
       "       [ 4.93277754e+00, -4.15049505e+04],\n",
       "       [ 4.99284606e+00, -4.27244865e+04],\n",
       "       [ 5.05325151e+00, -4.39723871e+04],\n",
       "       [ 5.11399398e+00, -4.52491424e+04],\n",
       "       [ 5.17507357e+00, -4.65552484e+04],\n",
       "       [ 5.23649036e+00, -4.78912063e+04],\n",
       "       [ 5.29824442e+00, -4.92575233e+04],\n",
       "       [ 5.36033584e+00, -5.06547123e+04],\n",
       "       [ 5.42276469e+00, -5.20832918e+04],\n",
       "       [ 5.48553105e+00, -5.35437860e+04],\n",
       "       [ 5.54863499e+00, -5.50367249e+04],\n",
       "       [ 5.61207659e+00, -5.65626446e+04],\n",
       "       [ 5.67585591e+00, -5.81220867e+04],\n",
       "       [ 5.73997302e+00, -5.97155988e+04],\n",
       "       [ 5.80442799e+00, -6.13437345e+04],\n",
       "       [ 5.86922089e+00, -6.30070533e+04],\n",
       "       [ 5.93435178e+00, -6.47061206e+04],\n",
       "       [ 5.99982073e+00, -6.64415078e+04],\n",
       "       [ 6.06562778e+00, -6.82137925e+04],\n",
       "       [ 6.13177302e+00, -7.00235583e+04],\n",
       "       [ 6.19825648e+00, -7.18713948e+04],\n",
       "       [ 6.26507823e+00, -7.37578979e+04],\n",
       "       [ 6.33223832e+00, -7.56836695e+04],\n",
       "       [ 6.39973681e+00, -7.76493178e+04],\n",
       "       [ 6.46757376e+00, -7.96554572e+04],\n",
       "       [ 6.53574920e+00, -8.17027085e+04],\n",
       "       [ 6.60426319e+00, -8.37916985e+04],\n",
       "       [ 6.67311579e+00, -8.59230605e+04],\n",
       "       [ 6.74230705e+00, -8.80974343e+04],\n",
       "       [ 6.81183700e+00, -9.03154659e+04],\n",
       "       [ 6.88170570e+00, -9.25778076e+04],\n",
       "       [ 6.95191319e+00, -9.48851185e+04],\n",
       "       [ 7.02245951e+00, -9.72380639e+04],\n",
       "       [ 7.09334472e+00, -9.96373157e+04],\n",
       "       [ 7.16456884e+00, -1.02083552e+05],\n",
       "       [ 7.23613193e+00, -1.04577459e+05],\n",
       "       [ 7.30803402e+00, -1.07119727e+05],\n",
       "       [ 7.38027516e+00, -1.09711055e+05],\n",
       "       [ 7.45285538e+00, -1.12352148e+05],\n",
       "       [ 7.52577472e+00, -1.15043718e+05],\n",
       "       [ 7.59903322e+00, -1.17786482e+05],\n",
       "       [ 7.67263091e+00, -1.20581166e+05],\n",
       "       [ 7.74656783e+00, -1.23428503e+05],\n",
       "       [ 7.82084402e+00, -1.26329230e+05],\n",
       "       [ 7.89545951e+00, -1.29284094e+05],\n",
       "       [ 7.97041433e+00, -1.32293847e+05],\n",
       "       [ 8.04570851e+00, -1.35359249e+05],\n",
       "       [ 8.12134210e+00, -1.38481065e+05],\n",
       "       [ 8.19731511e+00, -1.41660070e+05],\n",
       "       [ 8.27362759e+00, -1.44897044e+05],\n",
       "       [ 8.35027955e+00, -1.48192775e+05],\n",
       "       [ 8.42727104e+00, -1.51548056e+05],\n",
       "       [ 8.50460207e+00, -1.54963691e+05],\n",
       "       [ 8.58227269e+00, -1.58440487e+05],\n",
       "       [ 8.66028290e+00, -1.61979261e+05],\n",
       "       [ 8.73863275e+00, -1.65580836e+05],\n",
       "       [ 8.81732226e+00, -1.69246042e+05],\n",
       "       [ 8.89635145e+00, -1.72975718e+05],\n",
       "       [ 8.97572036e+00, -1.76770707e+05],\n",
       "       [ 9.05542900e+00, -1.80631864e+05],\n",
       "       [ 9.13547740e+00, -1.84560048e+05],\n",
       "       [ 9.21586559e+00, -1.88556125e+05],\n",
       "       [ 9.29659358e+00, -1.92620970e+05],\n",
       "       [ 9.37766141e+00, -1.96755466e+05],\n",
       "       [ 9.45906909e+00, -2.00960503e+05],\n",
       "       [ 9.54081665e+00, -2.05236976e+05],\n",
       "       [ 9.62290410e+00, -2.09585792e+05],\n",
       "       [ 9.70533148e+00, -2.14007861e+05],\n",
       "       [ 9.78809879e+00, -2.18504105e+05],\n",
       "       [ 9.87120607e+00, -2.23075451e+05],\n",
       "       [ 9.95465333e+00, -2.27722833e+05],\n",
       "       [ 1.00384406e+01, -2.32447195e+05],\n",
       "       [ 1.01225679e+01, -2.37249488e+05],\n",
       "       [ 1.02070352e+01, -2.42130670e+05],\n",
       "       [ 1.02918426e+01, -2.47091708e+05]])"
      ]
     },
     "execution_count": 96,
     "metadata": {},
     "output_type": "execute_result"
    }
   ],
   "source": [
    "sln"
   ]
  },
  {
   "cell_type": "code",
   "execution_count": 97,
   "metadata": {},
   "outputs": [
    {
     "data": {
      "text/plain": [
       "[<matplotlib.lines.Line2D at 0x7f4a81069390>]"
      ]
     },
     "execution_count": 97,
     "metadata": {},
     "output_type": "execute_result"
    },
    {
     "data": {
      "image/png": "[encoded data removed]",
      "text/plain": [
       "<matplotlib.figure.Figure at 0x7f4a811067b8>"
      ]
     },
     "metadata": {},
     "output_type": "display_data"
    }
   ],
   "source": [
    "plt.plot(r,sln[:,0])\n",
    "#plt.plot(r,z[:,1],'r--',label=r'$\\frac{dy}{dt}=-y+3$')"
   ]
  },
  {
   "cell_type": "markdown",
   "metadata": {},
   "source": [
    "Sería bueno utilizar la nueva función solve_ivp y comparar."
   ]
  },
  {
   "cell_type": "markdown",
   "metadata": {},
   "source": [
    "Falta verificar si la solución numérica es correcta comparando con la solución analítica."
   ]
  }
 ],
 "metadata": {
  "kernelspec": {
   "display_name": "Python 3",
   "language": "python",
   "name": "python3"
  },
  "language_info": {
   "codemirror_mode": {
    "name": "ipython",
    "version": 3
   },
   "file_extension": ".py",
   "mimetype": "text/x-python",
   "name": "python",
   "nbconvert_exporter": "python",
   "pygments_lexer": "ipython3",
   "version": "3.6.4"
  }
 },
 "nbformat": 4,
 "nbformat_minor": 2
}
