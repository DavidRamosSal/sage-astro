{
 "cells": [
  {
   "cell_type": "code",
   "execution_count": 46,
   "metadata": {
    "collapsed": false,
    "deletable": true,
    "editable": true
   },
   "outputs": [],
   "source": [
    "reset ();"
   ]
  },
  {
   "cell_type": "code",
   "execution_count": 47,
   "metadata": {
    "collapsed": true,
    "deletable": true,
    "editable": true
   },
   "outputs": [],
   "source": [
    "%display latex"
   ]
  },
  {
   "cell_type": "code",
   "execution_count": 48,
   "metadata": {
    "collapsed": false,
    "deletable": true,
    "editable": true
   },
   "outputs": [],
   "source": [
    "Man = Manifold(4,'Man',r'\\mathcal{M}') ;"
   ]
  },
  {
   "cell_type": "code",
   "execution_count": 49,
   "metadata": {
    "collapsed": false,
    "deletable": true,
    "editable": true
   },
   "outputs": [],
   "source": [
    "M=var('M');"
   ]
  },
  {
   "cell_type": "code",
   "execution_count": 50,
   "metadata": {
    "collapsed": false,
    "deletable": true,
    "editable": true
   },
   "outputs": [],
   "source": [
    "SC.<t,r,th,ph>=Man.chart(r't r:(0,+oo) th:(0,pi):\\theta ph:(0,2*pi):\\phi');"
   ]
  },
  {
   "cell_type": "code",
   "execution_count": 51,
   "metadata": {
    "collapsed": false,
    "deletable": true,
    "editable": true
   },
   "outputs": [],
   "source": [
    "v=function('v', latex_name=r'\\nu')(t,r);\n",
    "Lambda=function('l', latex_name=r'\\lambda')(t,r);\n",
    "v1=var('v1', latex_name=r'\\nu_{1}');\n",
    "Lambda1=var('l1', latex_name=r'\\lambda_{1}')"
   ]
  },
  {
   "cell_type": "code",
   "execution_count": 52,
   "metadata": {
    "collapsed": false,
    "deletable": true,
    "editable": true
   },
   "outputs": [],
   "source": [
    "g=Man.lorentzian_metric('g');"
   ]
  },
  {
   "cell_type": "code",
   "execution_count": 53,
   "metadata": {
    "collapsed": false,
    "deletable": true,
    "editable": true
   },
   "outputs": [],
   "source": [
    "g[0,0]=exp(v);\n",
    "g[1,1]=-exp(Lambda);\n",
    "g[2,2]=-r^2;\n",
    "g[3,3]=-(r*sin(th))^2;"
   ]
  },
  {
   "cell_type": "code",
   "execution_count": 9,
   "metadata": {
    "collapsed": false,
    "deletable": true,
    "editable": true
   },
   "outputs": [
    {
     "data": {
      "text/html": [
       "<html><script type=\"math/tex; mode=display\">\\newcommand{\\Bold}[1]{\\mathbf{#1}}\\verb|Métrica|\\phantom{\\verb!x!}\\verb|con|\\phantom{\\verb!x!}\\verb|simetría|\\phantom{\\verb!x!}\\verb|esférica|</script></html>"
      ],
      "text/plain": [
       "'M\\xc3\\xa9trica con simetr\\xc3\\xada esf\\xc3\\xa9rica'"
      ]
     },
     "metadata": {},
     "output_type": "display_data"
    },
    {
     "data": {
      "text/html": [
       "<html><script type=\"math/tex; mode=display\">\\newcommand{\\Bold}[1]{\\mathbf{#1}}\\left(\\begin{array}{rrrr}\n",
       "e^{\\left(\\nu\\left(t, r\\right)\\right)} & 0 & 0 & 0 \\\\\n",
       "0 & -e^{\\left(\\lambda\\left(t, r\\right)\\right)} & 0 & 0 \\\\\n",
       "0 & 0 & -r^{2} & 0 \\\\\n",
       "0 & 0 & 0 & -r^{2} \\sin\\left({\\theta}\\right)^{2}\n",
       "\\end{array}\\right)</script></html>"
      ],
      "text/plain": [
       "[   e^(v(t, r))              0              0              0]\n",
       "[             0   -e^(l(t, r))              0              0]\n",
       "[             0              0           -r^2              0]\n",
       "[             0              0              0 -r^2*sin(th)^2]"
      ]
     },
     "metadata": {},
     "output_type": "display_data"
    }
   ],
   "source": [
    "show('Métrica con simetría esférica');\n",
    "show(g[:]);"
   ]
  },
  {
   "cell_type": "code",
   "execution_count": 54,
   "metadata": {
    "collapsed": false,
    "deletable": true,
    "editable": true
   },
   "outputs": [],
   "source": [
    "nab=g.connection();"
   ]
  },
  {
   "cell_type": "code",
   "execution_count": 11,
   "metadata": {
    "collapsed": false,
    "deletable": true,
    "editable": true
   },
   "outputs": [
    {
     "data": {
      "text/html": [
       "<html><script type=\"math/tex; mode=display\">\\newcommand{\\Bold}[1]{\\mathbf{#1}}\\verb|Símbolos|\\phantom{\\verb!x!}\\verb|de|\\phantom{\\verb!x!}\\verb|Christoffel|</script></html>"
      ],
      "text/plain": [
       "'S\\xc3\\xadmbolos de Christoffel'"
      ]
     },
     "metadata": {},
     "output_type": "display_data"
    },
    {
     "data": {
      "text/html": [
       "<html><script type=\"math/tex; mode=display\">\\newcommand{\\Bold}[1]{\\mathbf{#1}}\\begin{array}{lcl} \\Gamma_{ \\phantom{\\, t} \\, t \\, t }^{ \\, t \\phantom{\\, t} \\phantom{\\, t} } & = & \\frac{1}{2} \\, \\frac{\\partial\\,\\nu}{\\partial t} \\\\ \\Gamma_{ \\phantom{\\, t} \\, t \\, r }^{ \\, t \\phantom{\\, t} \\phantom{\\, r} } & = & \\frac{1}{2} \\, \\frac{\\partial\\,\\nu}{\\partial r} \\\\ \\Gamma_{ \\phantom{\\, t} \\, r \\, t }^{ \\, t \\phantom{\\, r} \\phantom{\\, t} } & = & \\frac{1}{2} \\, \\frac{\\partial\\,\\nu}{\\partial r} \\\\ \\Gamma_{ \\phantom{\\, t} \\, r \\, r }^{ \\, t \\phantom{\\, r} \\phantom{\\, r} } & = & \\frac{1}{2} \\, e^{\\left(\\lambda\\left(t, r\\right) - \\nu\\left(t, r\\right)\\right)} \\frac{\\partial\\,\\lambda}{\\partial t} \\\\ \\Gamma_{ \\phantom{\\, r} \\, t \\, t }^{ \\, r \\phantom{\\, t} \\phantom{\\, t} } & = & \\frac{1}{2} \\, e^{\\left(-\\lambda\\left(t, r\\right) + \\nu\\left(t, r\\right)\\right)} \\frac{\\partial\\,\\nu}{\\partial r} \\\\ \\Gamma_{ \\phantom{\\, r} \\, t \\, r }^{ \\, r \\phantom{\\, t} \\phantom{\\, r} } & = & \\frac{1}{2} \\, \\frac{\\partial\\,\\lambda}{\\partial t} \\\\ \\Gamma_{ \\phantom{\\, r} \\, r \\, t }^{ \\, r \\phantom{\\, r} \\phantom{\\, t} } & = & \\frac{1}{2} \\, \\frac{\\partial\\,\\lambda}{\\partial t} \\\\ \\Gamma_{ \\phantom{\\, r} \\, r \\, r }^{ \\, r \\phantom{\\, r} \\phantom{\\, r} } & = & \\frac{1}{2} \\, \\frac{\\partial\\,\\lambda}{\\partial r} \\\\ \\Gamma_{ \\phantom{\\, r} \\, {\\theta} \\, {\\theta} }^{ \\, r \\phantom{\\, {\\theta}} \\phantom{\\, {\\theta}} } & = & -r e^{\\left(-\\lambda\\left(t, r\\right)\\right)} \\\\ \\Gamma_{ \\phantom{\\, r} \\, {\\phi} \\, {\\phi} }^{ \\, r \\phantom{\\, {\\phi}} \\phantom{\\, {\\phi}} } & = & -r e^{\\left(-\\lambda\\left(t, r\\right)\\right)} \\sin\\left({\\theta}\\right)^{2} \\\\ \\Gamma_{ \\phantom{\\, {\\theta}} \\, r \\, {\\theta} }^{ \\, {\\theta} \\phantom{\\, r} \\phantom{\\, {\\theta}} } & = & \\frac{1}{r} \\\\ \\Gamma_{ \\phantom{\\, {\\theta}} \\, {\\theta} \\, r }^{ \\, {\\theta} \\phantom{\\, {\\theta}} \\phantom{\\, r} } & = & \\frac{1}{r} \\\\ \\Gamma_{ \\phantom{\\, {\\theta}} \\, {\\phi} \\, {\\phi} }^{ \\, {\\theta} \\phantom{\\, {\\phi}} \\phantom{\\, {\\phi}} } & = & -\\cos\\left({\\theta}\\right) \\sin\\left({\\theta}\\right) \\\\ \\Gamma_{ \\phantom{\\, {\\phi}} \\, r \\, {\\phi} }^{ \\, {\\phi} \\phantom{\\, r} \\phantom{\\, {\\phi}} } & = & \\frac{1}{r} \\\\ \\Gamma_{ \\phantom{\\, {\\phi}} \\, {\\theta} \\, {\\phi} }^{ \\, {\\phi} \\phantom{\\, {\\theta}} \\phantom{\\, {\\phi}} } & = & \\frac{\\cos\\left({\\theta}\\right)}{\\sin\\left({\\theta}\\right)} \\\\ \\Gamma_{ \\phantom{\\, {\\phi}} \\, {\\phi} \\, r }^{ \\, {\\phi} \\phantom{\\, {\\phi}} \\phantom{\\, r} } & = & \\frac{1}{r} \\\\ \\Gamma_{ \\phantom{\\, {\\phi}} \\, {\\phi} \\, {\\theta} }^{ \\, {\\phi} \\phantom{\\, {\\phi}} \\phantom{\\, {\\theta}} } & = & \\frac{\\cos\\left({\\theta}\\right)}{\\sin\\left({\\theta}\\right)} \\end{array}</script></html>"
      ],
      "text/plain": [
       "Gam^t_t,t = 1/2*d(v)/dt \n",
       "Gam^t_t,r = 1/2*d(v)/dr \n",
       "Gam^t_r,t = 1/2*d(v)/dr \n",
       "Gam^t_r,r = 1/2*e^(l(t, r) - v(t, r))*d(l)/dt \n",
       "Gam^r_t,t = 1/2*e^(-l(t, r) + v(t, r))*d(v)/dr \n",
       "Gam^r_t,r = 1/2*d(l)/dt \n",
       "Gam^r_r,t = 1/2*d(l)/dt \n",
       "Gam^r_r,r = 1/2*d(l)/dr \n",
       "Gam^r_th,th = -r*e^(-l(t, r)) \n",
       "Gam^r_ph,ph = -r*e^(-l(t, r))*sin(th)^2 \n",
       "Gam^th_r,th = 1/r \n",
       "Gam^th_th,r = 1/r \n",
       "Gam^th_ph,ph = -cos(th)*sin(th) \n",
       "Gam^ph_r,ph = 1/r \n",
       "Gam^ph_th,ph = cos(th)/sin(th) \n",
       "Gam^ph_ph,r = 1/r \n",
       "Gam^ph_ph,th = cos(th)/sin(th) "
      ]
     },
     "metadata": {},
     "output_type": "display_data"
    }
   ],
   "source": [
    "show('Símbolos de Christoffel');\n",
    "show(nab.display());"
   ]
  },
  {
   "cell_type": "code",
   "execution_count": 55,
   "metadata": {
    "collapsed": false,
    "deletable": true,
    "editable": true
   },
   "outputs": [],
   "source": [
    "Riem=g.riemann();\n",
    "Riem.set_name('R')\n",
    "Ric=g.ricci();\n",
    "Ric.set_name('R');\n",
    "Rs=g.ricci_scalar();"
   ]
  },
  {
   "cell_type": "code",
   "execution_count": 13,
   "metadata": {
    "collapsed": false,
    "deletable": true,
    "editable": true
   },
   "outputs": [
    {
     "data": {
      "text/html": [
       "<html><script type=\"math/tex; mode=display\">\\newcommand{\\Bold}[1]{\\mathbf{#1}}\\verb|Tensor|\\phantom{\\verb!x!}\\verb|de|\\phantom{\\verb!x!}\\verb|Riemann|</script></html>"
      ],
      "text/plain": [
       "'Tensor de Riemann'"
      ]
     },
     "metadata": {},
     "output_type": "display_data"
    },
    {
     "data": {
      "text/html": [
       "<html><script type=\"math/tex; mode=display\">\\newcommand{\\Bold}[1]{\\mathbf{#1}}\\begin{array}{lcl} R_{ \\phantom{\\, t} \\, r \\, t \\, r }^{ \\, t \\phantom{\\, r} \\phantom{\\, t} \\phantom{\\, r} } & = & \\frac{1}{4} \\, {\\left(e^{\\left(\\lambda\\left(t, r\\right)\\right)} \\left(\\frac{\\partial\\,\\lambda}{\\partial t}\\right)^{2} - e^{\\left(\\lambda\\left(t, r\\right)\\right)} \\frac{\\partial\\,\\lambda}{\\partial t} \\frac{\\partial\\,\\nu}{\\partial t} + e^{\\left(\\nu\\left(t, r\\right)\\right)} \\frac{\\partial\\,\\lambda}{\\partial r} \\frac{\\partial\\,\\nu}{\\partial r} - e^{\\left(\\nu\\left(t, r\\right)\\right)} \\frac{\\partial\\,\\nu}{\\partial r}^{2} + 2 \\, e^{\\left(\\lambda\\left(t, r\\right)\\right)} \\frac{\\partial^2\\,\\lambda}{\\partial t ^ 2} - 2 \\, e^{\\left(\\nu\\left(t, r\\right)\\right)} \\frac{\\partial^2\\,\\nu}{\\partial r ^ 2}\\right)} e^{\\left(-\\nu\\left(t, r\\right)\\right)} \\\\ R_{ \\phantom{\\, t} \\, r \\, r \\, t }^{ \\, t \\phantom{\\, r} \\phantom{\\, r} \\phantom{\\, t} } & = & -\\frac{1}{4} \\, {\\left(e^{\\left(\\lambda\\left(t, r\\right)\\right)} \\left(\\frac{\\partial\\,\\lambda}{\\partial t}\\right)^{2} - e^{\\left(\\lambda\\left(t, r\\right)\\right)} \\frac{\\partial\\,\\lambda}{\\partial t} \\frac{\\partial\\,\\nu}{\\partial t} + e^{\\left(\\nu\\left(t, r\\right)\\right)} \\frac{\\partial\\,\\lambda}{\\partial r} \\frac{\\partial\\,\\nu}{\\partial r} - e^{\\left(\\nu\\left(t, r\\right)\\right)} \\frac{\\partial\\,\\nu}{\\partial r}^{2} + 2 \\, e^{\\left(\\lambda\\left(t, r\\right)\\right)} \\frac{\\partial^2\\,\\lambda}{\\partial t ^ 2} - 2 \\, e^{\\left(\\nu\\left(t, r\\right)\\right)} \\frac{\\partial^2\\,\\nu}{\\partial r ^ 2}\\right)} e^{\\left(-\\nu\\left(t, r\\right)\\right)} \\\\ R_{ \\phantom{\\, t} \\, {\\theta} \\, t \\, {\\theta} }^{ \\, t \\phantom{\\, {\\theta}} \\phantom{\\, t} \\phantom{\\, {\\theta}} } & = & -\\frac{1}{2} \\, r e^{\\left(-\\lambda\\left(t, r\\right)\\right)} \\frac{\\partial\\,\\nu}{\\partial r} \\\\ R_{ \\phantom{\\, t} \\, {\\theta} \\, r \\, {\\theta} }^{ \\, t \\phantom{\\, {\\theta}} \\phantom{\\, r} \\phantom{\\, {\\theta}} } & = & -\\frac{1}{2} \\, r e^{\\left(-\\nu\\left(t, r\\right)\\right)} \\frac{\\partial\\,\\lambda}{\\partial t} \\\\ R_{ \\phantom{\\, t} \\, {\\theta} \\, {\\theta} \\, t }^{ \\, t \\phantom{\\, {\\theta}} \\phantom{\\, {\\theta}} \\phantom{\\, t} } & = & \\frac{1}{2} \\, r e^{\\left(-\\lambda\\left(t, r\\right)\\right)} \\frac{\\partial\\,\\nu}{\\partial r} \\\\ R_{ \\phantom{\\, t} \\, {\\theta} \\, {\\theta} \\, r }^{ \\, t \\phantom{\\, {\\theta}} \\phantom{\\, {\\theta}} \\phantom{\\, r} } & = & \\frac{1}{2} \\, r e^{\\left(-\\nu\\left(t, r\\right)\\right)} \\frac{\\partial\\,\\lambda}{\\partial t} \\\\ R_{ \\phantom{\\, t} \\, {\\phi} \\, t \\, {\\phi} }^{ \\, t \\phantom{\\, {\\phi}} \\phantom{\\, t} \\phantom{\\, {\\phi}} } & = & -\\frac{1}{2} \\, r e^{\\left(-\\lambda\\left(t, r\\right)\\right)} \\sin\\left({\\theta}\\right)^{2} \\frac{\\partial\\,\\nu}{\\partial r} \\\\ R_{ \\phantom{\\, t} \\, {\\phi} \\, r \\, {\\phi} }^{ \\, t \\phantom{\\, {\\phi}} \\phantom{\\, r} \\phantom{\\, {\\phi}} } & = & -\\frac{1}{2} \\, r e^{\\left(-\\nu\\left(t, r\\right)\\right)} \\sin\\left({\\theta}\\right)^{2} \\frac{\\partial\\,\\lambda}{\\partial t} \\\\ R_{ \\phantom{\\, t} \\, {\\phi} \\, {\\phi} \\, t }^{ \\, t \\phantom{\\, {\\phi}} \\phantom{\\, {\\phi}} \\phantom{\\, t} } & = & \\frac{1}{2} \\, r e^{\\left(-\\lambda\\left(t, r\\right)\\right)} \\sin\\left({\\theta}\\right)^{2} \\frac{\\partial\\,\\nu}{\\partial r} \\\\ R_{ \\phantom{\\, t} \\, {\\phi} \\, {\\phi} \\, r }^{ \\, t \\phantom{\\, {\\phi}} \\phantom{\\, {\\phi}} \\phantom{\\, r} } & = & \\frac{1}{2} \\, r e^{\\left(-\\nu\\left(t, r\\right)\\right)} \\sin\\left({\\theta}\\right)^{2} \\frac{\\partial\\,\\lambda}{\\partial t} \\\\ R_{ \\phantom{\\, r} \\, t \\, t \\, r }^{ \\, r \\phantom{\\, t} \\phantom{\\, t} \\phantom{\\, r} } & = & \\frac{1}{4} \\, {\\left(e^{\\left(\\lambda\\left(t, r\\right)\\right)} \\left(\\frac{\\partial\\,\\lambda}{\\partial t}\\right)^{2} - e^{\\left(\\lambda\\left(t, r\\right)\\right)} \\frac{\\partial\\,\\lambda}{\\partial t} \\frac{\\partial\\,\\nu}{\\partial t} + e^{\\left(\\nu\\left(t, r\\right)\\right)} \\frac{\\partial\\,\\lambda}{\\partial r} \\frac{\\partial\\,\\nu}{\\partial r} - e^{\\left(\\nu\\left(t, r\\right)\\right)} \\frac{\\partial\\,\\nu}{\\partial r}^{2} + 2 \\, e^{\\left(\\lambda\\left(t, r\\right)\\right)} \\frac{\\partial^2\\,\\lambda}{\\partial t ^ 2} - 2 \\, e^{\\left(\\nu\\left(t, r\\right)\\right)} \\frac{\\partial^2\\,\\nu}{\\partial r ^ 2}\\right)} e^{\\left(-\\lambda\\left(t, r\\right)\\right)} \\\\ R_{ \\phantom{\\, r} \\, t \\, r \\, t }^{ \\, r \\phantom{\\, t} \\phantom{\\, r} \\phantom{\\, t} } & = & -\\frac{1}{4} \\, {\\left(e^{\\left(\\lambda\\left(t, r\\right)\\right)} \\left(\\frac{\\partial\\,\\lambda}{\\partial t}\\right)^{2} - e^{\\left(\\lambda\\left(t, r\\right)\\right)} \\frac{\\partial\\,\\lambda}{\\partial t} \\frac{\\partial\\,\\nu}{\\partial t} + e^{\\left(\\nu\\left(t, r\\right)\\right)} \\frac{\\partial\\,\\lambda}{\\partial r} \\frac{\\partial\\,\\nu}{\\partial r} - e^{\\left(\\nu\\left(t, r\\right)\\right)} \\frac{\\partial\\,\\nu}{\\partial r}^{2} + 2 \\, e^{\\left(\\lambda\\left(t, r\\right)\\right)} \\frac{\\partial^2\\,\\lambda}{\\partial t ^ 2} - 2 \\, e^{\\left(\\nu\\left(t, r\\right)\\right)} \\frac{\\partial^2\\,\\nu}{\\partial r ^ 2}\\right)} e^{\\left(-\\lambda\\left(t, r\\right)\\right)} \\\\ R_{ \\phantom{\\, r} \\, {\\theta} \\, t \\, {\\theta} }^{ \\, r \\phantom{\\, {\\theta}} \\phantom{\\, t} \\phantom{\\, {\\theta}} } & = & \\frac{1}{2} \\, r e^{\\left(-\\lambda\\left(t, r\\right)\\right)} \\frac{\\partial\\,\\lambda}{\\partial t} \\\\ R_{ \\phantom{\\, r} \\, {\\theta} \\, r \\, {\\theta} }^{ \\, r \\phantom{\\, {\\theta}} \\phantom{\\, r} \\phantom{\\, {\\theta}} } & = & \\frac{1}{2} \\, r e^{\\left(-\\lambda\\left(t, r\\right)\\right)} \\frac{\\partial\\,\\lambda}{\\partial r} \\\\ R_{ \\phantom{\\, r} \\, {\\theta} \\, {\\theta} \\, t }^{ \\, r \\phantom{\\, {\\theta}} \\phantom{\\, {\\theta}} \\phantom{\\, t} } & = & -\\frac{1}{2} \\, r e^{\\left(-\\lambda\\left(t, r\\right)\\right)} \\frac{\\partial\\,\\lambda}{\\partial t} \\\\ R_{ \\phantom{\\, r} \\, {\\theta} \\, {\\theta} \\, r }^{ \\, r \\phantom{\\, {\\theta}} \\phantom{\\, {\\theta}} \\phantom{\\, r} } & = & -\\frac{1}{2} \\, r e^{\\left(-\\lambda\\left(t, r\\right)\\right)} \\frac{\\partial\\,\\lambda}{\\partial r} \\\\ R_{ \\phantom{\\, r} \\, {\\phi} \\, t \\, {\\phi} }^{ \\, r \\phantom{\\, {\\phi}} \\phantom{\\, t} \\phantom{\\, {\\phi}} } & = & \\frac{1}{2} \\, r e^{\\left(-\\lambda\\left(t, r\\right)\\right)} \\sin\\left({\\theta}\\right)^{2} \\frac{\\partial\\,\\lambda}{\\partial t} \\\\ R_{ \\phantom{\\, r} \\, {\\phi} \\, r \\, {\\phi} }^{ \\, r \\phantom{\\, {\\phi}} \\phantom{\\, r} \\phantom{\\, {\\phi}} } & = & \\frac{1}{2} \\, r e^{\\left(-\\lambda\\left(t, r\\right)\\right)} \\sin\\left({\\theta}\\right)^{2} \\frac{\\partial\\,\\lambda}{\\partial r} \\\\ R_{ \\phantom{\\, r} \\, {\\phi} \\, {\\phi} \\, t }^{ \\, r \\phantom{\\, {\\phi}} \\phantom{\\, {\\phi}} \\phantom{\\, t} } & = & -\\frac{1}{2} \\, r e^{\\left(-\\lambda\\left(t, r\\right)\\right)} \\sin\\left({\\theta}\\right)^{2} \\frac{\\partial\\,\\lambda}{\\partial t} \\\\ R_{ \\phantom{\\, r} \\, {\\phi} \\, {\\phi} \\, r }^{ \\, r \\phantom{\\, {\\phi}} \\phantom{\\, {\\phi}} \\phantom{\\, r} } & = & -\\frac{1}{2} \\, r e^{\\left(-\\lambda\\left(t, r\\right)\\right)} \\sin\\left({\\theta}\\right)^{2} \\frac{\\partial\\,\\lambda}{\\partial r} \\\\ R_{ \\phantom{\\, {\\theta}} \\, t \\, t \\, {\\theta} }^{ \\, {\\theta} \\phantom{\\, t} \\phantom{\\, t} \\phantom{\\, {\\theta}} } & = & -\\frac{e^{\\left(-\\lambda\\left(t, r\\right) + \\nu\\left(t, r\\right)\\right)} \\frac{\\partial\\,\\nu}{\\partial r}}{2 \\, r} \\\\ R_{ \\phantom{\\, {\\theta}} \\, t \\, r \\, {\\theta} }^{ \\, {\\theta} \\phantom{\\, t} \\phantom{\\, r} \\phantom{\\, {\\theta}} } & = & -\\frac{\\frac{\\partial\\,\\lambda}{\\partial t}}{2 \\, r} \\\\ R_{ \\phantom{\\, {\\theta}} \\, t \\, {\\theta} \\, t }^{ \\, {\\theta} \\phantom{\\, t} \\phantom{\\, {\\theta}} \\phantom{\\, t} } & = & \\frac{e^{\\left(-\\lambda\\left(t, r\\right) + \\nu\\left(t, r\\right)\\right)} \\frac{\\partial\\,\\nu}{\\partial r}}{2 \\, r} \\\\ R_{ \\phantom{\\, {\\theta}} \\, t \\, {\\theta} \\, r }^{ \\, {\\theta} \\phantom{\\, t} \\phantom{\\, {\\theta}} \\phantom{\\, r} } & = & \\frac{\\frac{\\partial\\,\\lambda}{\\partial t}}{2 \\, r} \\\\ R_{ \\phantom{\\, {\\theta}} \\, r \\, t \\, {\\theta} }^{ \\, {\\theta} \\phantom{\\, r} \\phantom{\\, t} \\phantom{\\, {\\theta}} } & = & -\\frac{\\frac{\\partial\\,\\lambda}{\\partial t}}{2 \\, r} \\\\ R_{ \\phantom{\\, {\\theta}} \\, r \\, r \\, {\\theta} }^{ \\, {\\theta} \\phantom{\\, r} \\phantom{\\, r} \\phantom{\\, {\\theta}} } & = & -\\frac{\\frac{\\partial\\,\\lambda}{\\partial r}}{2 \\, r} \\\\ R_{ \\phantom{\\, {\\theta}} \\, r \\, {\\theta} \\, t }^{ \\, {\\theta} \\phantom{\\, r} \\phantom{\\, {\\theta}} \\phantom{\\, t} } & = & \\frac{\\frac{\\partial\\,\\lambda}{\\partial t}}{2 \\, r} \\\\ R_{ \\phantom{\\, {\\theta}} \\, r \\, {\\theta} \\, r }^{ \\, {\\theta} \\phantom{\\, r} \\phantom{\\, {\\theta}} \\phantom{\\, r} } & = & \\frac{\\frac{\\partial\\,\\lambda}{\\partial r}}{2 \\, r} \\\\ R_{ \\phantom{\\, {\\theta}} \\, {\\phi} \\, {\\theta} \\, {\\phi} }^{ \\, {\\theta} \\phantom{\\, {\\phi}} \\phantom{\\, {\\theta}} \\phantom{\\, {\\phi}} } & = & {\\left(e^{\\left(\\lambda\\left(t, r\\right)\\right)} - 1\\right)} e^{\\left(-\\lambda\\left(t, r\\right)\\right)} \\sin\\left({\\theta}\\right)^{2} \\\\ R_{ \\phantom{\\, {\\theta}} \\, {\\phi} \\, {\\phi} \\, {\\theta} }^{ \\, {\\theta} \\phantom{\\, {\\phi}} \\phantom{\\, {\\phi}} \\phantom{\\, {\\theta}} } & = & -{\\left(e^{\\left(\\lambda\\left(t, r\\right)\\right)} - 1\\right)} e^{\\left(-\\lambda\\left(t, r\\right)\\right)} \\sin\\left({\\theta}\\right)^{2} \\\\ R_{ \\phantom{\\, {\\phi}} \\, t \\, t \\, {\\phi} }^{ \\, {\\phi} \\phantom{\\, t} \\phantom{\\, t} \\phantom{\\, {\\phi}} } & = & -\\frac{e^{\\left(-\\lambda\\left(t, r\\right) + \\nu\\left(t, r\\right)\\right)} \\frac{\\partial\\,\\nu}{\\partial r}}{2 \\, r} \\\\ R_{ \\phantom{\\, {\\phi}} \\, t \\, r \\, {\\phi} }^{ \\, {\\phi} \\phantom{\\, t} \\phantom{\\, r} \\phantom{\\, {\\phi}} } & = & -\\frac{\\frac{\\partial\\,\\lambda}{\\partial t}}{2 \\, r} \\\\ R_{ \\phantom{\\, {\\phi}} \\, t \\, {\\phi} \\, t }^{ \\, {\\phi} \\phantom{\\, t} \\phantom{\\, {\\phi}} \\phantom{\\, t} } & = & \\frac{e^{\\left(-\\lambda\\left(t, r\\right) + \\nu\\left(t, r\\right)\\right)} \\frac{\\partial\\,\\nu}{\\partial r}}{2 \\, r} \\\\ R_{ \\phantom{\\, {\\phi}} \\, t \\, {\\phi} \\, r }^{ \\, {\\phi} \\phantom{\\, t} \\phantom{\\, {\\phi}} \\phantom{\\, r} } & = & \\frac{\\frac{\\partial\\,\\lambda}{\\partial t}}{2 \\, r} \\\\ R_{ \\phantom{\\, {\\phi}} \\, r \\, t \\, {\\phi} }^{ \\, {\\phi} \\phantom{\\, r} \\phantom{\\, t} \\phantom{\\, {\\phi}} } & = & -\\frac{\\frac{\\partial\\,\\lambda}{\\partial t}}{2 \\, r} \\\\ R_{ \\phantom{\\, {\\phi}} \\, r \\, r \\, {\\phi} }^{ \\, {\\phi} \\phantom{\\, r} \\phantom{\\, r} \\phantom{\\, {\\phi}} } & = & -\\frac{\\frac{\\partial\\,\\lambda}{\\partial r}}{2 \\, r} \\\\ R_{ \\phantom{\\, {\\phi}} \\, r \\, {\\phi} \\, t }^{ \\, {\\phi} \\phantom{\\, r} \\phantom{\\, {\\phi}} \\phantom{\\, t} } & = & \\frac{\\frac{\\partial\\,\\lambda}{\\partial t}}{2 \\, r} \\\\ R_{ \\phantom{\\, {\\phi}} \\, r \\, {\\phi} \\, r }^{ \\, {\\phi} \\phantom{\\, r} \\phantom{\\, {\\phi}} \\phantom{\\, r} } & = & \\frac{\\frac{\\partial\\,\\lambda}{\\partial r}}{2 \\, r} \\\\ R_{ \\phantom{\\, {\\phi}} \\, {\\theta} \\, {\\theta} \\, {\\phi} }^{ \\, {\\phi} \\phantom{\\, {\\theta}} \\phantom{\\, {\\theta}} \\phantom{\\, {\\phi}} } & = & -{\\left(e^{\\left(\\lambda\\left(t, r\\right)\\right)} - 1\\right)} e^{\\left(-\\lambda\\left(t, r\\right)\\right)} \\\\ R_{ \\phantom{\\, {\\phi}} \\, {\\theta} \\, {\\phi} \\, {\\theta} }^{ \\, {\\phi} \\phantom{\\, {\\theta}} \\phantom{\\, {\\phi}} \\phantom{\\, {\\theta}} } & = & {\\left(e^{\\left(\\lambda\\left(t, r\\right)\\right)} - 1\\right)} e^{\\left(-\\lambda\\left(t, r\\right)\\right)} \\end{array}</script></html>"
      ],
      "text/plain": [
       "R^t_r,t,r = 1/4*(e^(l(t, r))*(d(l)/dt)^2 - e^(l(t, r))*d(l)/dt*d(v)/dt + e^(v(t, r))*d(l)/dr*d(v)/dr - e^(v(t, r))*d(v)/dr^2 + 2*e^(l(t, r))*d^2(l)/dt^2 - 2*e^(v(t, r))*d^2(v)/dr^2)*e^(-v(t, r)) \n",
       "R^t_r,r,t = -1/4*(e^(l(t, r))*(d(l)/dt)^2 - e^(l(t, r))*d(l)/dt*d(v)/dt + e^(v(t, r))*d(l)/dr*d(v)/dr - e^(v(t, r))*d(v)/dr^2 + 2*e^(l(t, r))*d^2(l)/dt^2 - 2*e^(v(t, r))*d^2(v)/dr^2)*e^(-v(t, r)) \n",
       "R^t_th,t,th = -1/2*r*e^(-l(t, r))*d(v)/dr \n",
       "R^t_th,r,th = -1/2*r*e^(-v(t, r))*d(l)/dt \n",
       "R^t_th,th,t = 1/2*r*e^(-l(t, r))*d(v)/dr \n",
       "R^t_th,th,r = 1/2*r*e^(-v(t, r))*d(l)/dt \n",
       "R^t_ph,t,ph = -1/2*r*e^(-l(t, r))*sin(th)^2*d(v)/dr \n",
       "R^t_ph,r,ph = -1/2*r*e^(-v(t, r))*sin(th)^2*d(l)/dt \n",
       "R^t_ph,ph,t = 1/2*r*e^(-l(t, r))*sin(th)^2*d(v)/dr \n",
       "R^t_ph,ph,r = 1/2*r*e^(-v(t, r))*sin(th)^2*d(l)/dt \n",
       "R^r_t,t,r = 1/4*(e^(l(t, r))*(d(l)/dt)^2 - e^(l(t, r))*d(l)/dt*d(v)/dt + e^(v(t, r))*d(l)/dr*d(v)/dr - e^(v(t, r))*d(v)/dr^2 + 2*e^(l(t, r))*d^2(l)/dt^2 - 2*e^(v(t, r))*d^2(v)/dr^2)*e^(-l(t, r)) \n",
       "R^r_t,r,t = -1/4*(e^(l(t, r))*(d(l)/dt)^2 - e^(l(t, r))*d(l)/dt*d(v)/dt + e^(v(t, r))*d(l)/dr*d(v)/dr - e^(v(t, r))*d(v)/dr^2 + 2*e^(l(t, r))*d^2(l)/dt^2 - 2*e^(v(t, r))*d^2(v)/dr^2)*e^(-l(t, r)) \n",
       "R^r_th,t,th = 1/2*r*e^(-l(t, r))*d(l)/dt \n",
       "R^r_th,r,th = 1/2*r*e^(-l(t, r))*d(l)/dr \n",
       "R^r_th,th,t = -1/2*r*e^(-l(t, r))*d(l)/dt \n",
       "R^r_th,th,r = -1/2*r*e^(-l(t, r))*d(l)/dr \n",
       "R^r_ph,t,ph = 1/2*r*e^(-l(t, r))*sin(th)^2*d(l)/dt \n",
       "R^r_ph,r,ph = 1/2*r*e^(-l(t, r))*sin(th)^2*d(l)/dr \n",
       "R^r_ph,ph,t = -1/2*r*e^(-l(t, r))*sin(th)^2*d(l)/dt \n",
       "R^r_ph,ph,r = -1/2*r*e^(-l(t, r))*sin(th)^2*d(l)/dr \n",
       "R^th_t,t,th = -1/2*e^(-l(t, r) + v(t, r))*d(v)/dr/r \n",
       "R^th_t,r,th = -1/2*d(l)/dt/r \n",
       "R^th_t,th,t = 1/2*e^(-l(t, r) + v(t, r))*d(v)/dr/r \n",
       "R^th_t,th,r = 1/2*d(l)/dt/r \n",
       "R^th_r,t,th = -1/2*d(l)/dt/r \n",
       "R^th_r,r,th = -1/2*d(l)/dr/r \n",
       "R^th_r,th,t = 1/2*d(l)/dt/r \n",
       "R^th_r,th,r = 1/2*d(l)/dr/r \n",
       "R^th_ph,th,ph = (e^(l(t, r)) - 1)*e^(-l(t, r))*sin(th)^2 \n",
       "R^th_ph,ph,th = -(e^(l(t, r)) - 1)*e^(-l(t, r))*sin(th)^2 \n",
       "R^ph_t,t,ph = -1/2*e^(-l(t, r) + v(t, r))*d(v)/dr/r \n",
       "R^ph_t,r,ph = -1/2*d(l)/dt/r \n",
       "R^ph_t,ph,t = 1/2*e^(-l(t, r) + v(t, r))*d(v)/dr/r \n",
       "R^ph_t,ph,r = 1/2*d(l)/dt/r \n",
       "R^ph_r,t,ph = -1/2*d(l)/dt/r \n",
       "R^ph_r,r,ph = -1/2*d(l)/dr/r \n",
       "R^ph_r,ph,t = 1/2*d(l)/dt/r \n",
       "R^ph_r,ph,r = 1/2*d(l)/dr/r \n",
       "R^ph_th,th,ph = -(e^(l(t, r)) - 1)*e^(-l(t, r)) \n",
       "R^ph_th,ph,th = (e^(l(t, r)) - 1)*e^(-l(t, r)) "
      ]
     },
     "metadata": {},
     "output_type": "display_data"
    }
   ],
   "source": [
    "show('Tensor de Riemann');\n",
    "show(Riem.display_comp());"
   ]
  },
  {
   "cell_type": "code",
   "execution_count": 14,
   "metadata": {
    "collapsed": false,
    "deletable": true,
    "editable": true
   },
   "outputs": [
    {
     "data": {
      "text/html": [
       "<html><script type=\"math/tex; mode=display\">\\newcommand{\\Bold}[1]{\\mathbf{#1}}\\verb|Tensor|\\phantom{\\verb!x!}\\verb|de|\\phantom{\\verb!x!}\\verb|Ricci|</script></html>"
      ],
      "text/plain": [
       "'Tensor de Ricci'"
      ]
     },
     "metadata": {},
     "output_type": "display_data"
    },
    {
     "data": {
      "text/html": [
       "<html><script type=\"math/tex; mode=display\">\\newcommand{\\Bold}[1]{\\mathbf{#1}}\\begin{array}{lcl} R_{ \\, t \\, t }^{ \\phantom{\\, t}\\phantom{\\, t} } & = & -\\frac{{\\left(r e^{\\left(\\lambda\\left(t, r\\right)\\right)} \\left(\\frac{\\partial\\,\\lambda}{\\partial t}\\right)^{2} - r e^{\\left(\\lambda\\left(t, r\\right)\\right)} \\frac{\\partial\\,\\lambda}{\\partial t} \\frac{\\partial\\,\\nu}{\\partial t} - r e^{\\left(\\nu\\left(t, r\\right)\\right)} \\left(\\frac{\\partial\\,\\nu}{\\partial r}\\right)^{2} + 2 \\, r e^{\\left(\\lambda\\left(t, r\\right)\\right)} \\frac{\\partial^2\\,\\lambda}{\\partial t ^ 2} - 2 \\, r e^{\\left(\\nu\\left(t, r\\right)\\right)} \\frac{\\partial^2\\,\\nu}{\\partial r ^ 2} + {\\left(r e^{\\left(\\nu\\left(t, r\\right)\\right)} \\frac{\\partial\\,\\lambda}{\\partial r} - 4 \\, e^{\\left(\\nu\\left(t, r\\right)\\right)}\\right)} \\frac{\\partial\\,\\nu}{\\partial r}\\right)} e^{\\left(-\\lambda\\left(t, r\\right)\\right)}}{4 \\, r} \\\\ R_{ \\, t \\, r }^{ \\phantom{\\, t}\\phantom{\\, r} } & = & \\frac{\\frac{\\partial\\,\\lambda}{\\partial t}}{r} \\\\ R_{ \\, r \\, t }^{ \\phantom{\\, r}\\phantom{\\, t} } & = & \\frac{\\frac{\\partial\\,\\lambda}{\\partial t}}{r} \\\\ R_{ \\, r \\, r }^{ \\phantom{\\, r}\\phantom{\\, r} } & = & \\frac{{\\left(r e^{\\left(\\lambda\\left(t, r\\right)\\right)} \\left(\\frac{\\partial\\,\\lambda}{\\partial t}\\right)^{2} - r e^{\\left(\\lambda\\left(t, r\\right)\\right)} \\frac{\\partial\\,\\lambda}{\\partial t} \\frac{\\partial\\,\\nu}{\\partial t} + r e^{\\left(\\nu\\left(t, r\\right)\\right)} \\frac{\\partial\\,\\lambda}{\\partial r} \\frac{\\partial\\,\\nu}{\\partial r} - r e^{\\left(\\nu\\left(t, r\\right)\\right)} \\frac{\\partial\\,\\nu}{\\partial r}^{2} + 2 \\, r e^{\\left(\\lambda\\left(t, r\\right)\\right)} \\frac{\\partial^2\\,\\lambda}{\\partial t ^ 2} - 2 \\, r e^{\\left(\\nu\\left(t, r\\right)\\right)} \\frac{\\partial^2\\,\\nu}{\\partial r ^ 2} + 4 \\, e^{\\left(\\nu\\left(t, r\\right)\\right)} \\frac{\\partial\\,\\lambda}{\\partial r}\\right)} e^{\\left(-\\nu\\left(t, r\\right)\\right)}}{4 \\, r} \\\\ R_{ \\, {\\theta} \\, {\\theta} }^{ \\phantom{\\, {\\theta}}\\phantom{\\, {\\theta}} } & = & \\frac{1}{2} \\, {\\left(r \\frac{\\partial\\,\\lambda}{\\partial r} - r \\frac{\\partial\\,\\nu}{\\partial r} + 2 \\, e^{\\left(\\lambda\\left(t, r\\right)\\right)} - 2\\right)} e^{\\left(-\\lambda\\left(t, r\\right)\\right)} \\\\ R_{ \\, {\\phi} \\, {\\phi} }^{ \\phantom{\\, {\\phi}}\\phantom{\\, {\\phi}} } & = & \\frac{1}{2} \\, {\\left(r \\frac{\\partial\\,\\lambda}{\\partial r} - r \\frac{\\partial\\,\\nu}{\\partial r} + 2 \\, e^{\\left(\\lambda\\left(t, r\\right)\\right)} - 2\\right)} e^{\\left(-\\lambda\\left(t, r\\right)\\right)} \\sin\\left({\\theta}\\right)^{2} \\end{array}</script></html>"
      ],
      "text/plain": [
       "R_t,t = -1/4*(r*e^(l(t, r))*(d(l)/dt)^2 - r*e^(l(t, r))*d(l)/dt*d(v)/dt - r*e^(v(t, r))*(d(v)/dr)^2 + 2*r*e^(l(t, r))*d^2(l)/dt^2 - 2*r*e^(v(t, r))*d^2(v)/dr^2 + (r*e^(v(t, r))*d(l)/dr - 4*e^(v(t, r)))*d(v)/dr)*e^(-l(t, r))/r \n",
       "R_t,r = d(l)/dt/r \n",
       "R_r,t = d(l)/dt/r \n",
       "R_r,r = 1/4*(r*e^(l(t, r))*(d(l)/dt)^2 - r*e^(l(t, r))*d(l)/dt*d(v)/dt + r*e^(v(t, r))*d(l)/dr*d(v)/dr - r*e^(v(t, r))*d(v)/dr^2 + 2*r*e^(l(t, r))*d^2(l)/dt^2 - 2*r*e^(v(t, r))*d^2(v)/dr^2 + 4*e^(v(t, r))*d(l)/dr)*e^(-v(t, r))/r \n",
       "R_th,th = 1/2*(r*d(l)/dr - r*d(v)/dr + 2*e^(l(t, r)) - 2)*e^(-l(t, r)) \n",
       "R_ph,ph = 1/2*(r*d(l)/dr - r*d(v)/dr + 2*e^(l(t, r)) - 2)*e^(-l(t, r))*sin(th)^2 "
      ]
     },
     "metadata": {},
     "output_type": "display_data"
    }
   ],
   "source": [
    "show('Tensor de Ricci');\n",
    "show(Ric.display_comp());"
   ]
  },
  {
   "cell_type": "code",
   "execution_count": 15,
   "metadata": {
    "collapsed": false,
    "deletable": true,
    "editable": true
   },
   "outputs": [
    {
     "data": {
      "text/html": [
       "<html><script type=\"math/tex; mode=display\">\\newcommand{\\Bold}[1]{\\mathbf{#1}}\\verb|Escalar|\\phantom{\\verb!x!}\\verb|de|\\phantom{\\verb!x!}\\verb|curvatura|</script></html>"
      ],
      "text/plain": [
       "'Escalar de curvatura'"
      ]
     },
     "metadata": {},
     "output_type": "display_data"
    },
    {
     "data": {
      "text/html": [
       "<html><script type=\"math/tex; mode=display\">\\newcommand{\\Bold}[1]{\\mathbf{#1}}\\begin{array}{llcl} \\mathrm{r}\\left(g\\right):& \\mathcal{M} & \\longrightarrow & \\mathbb{R} \\\\ & \\left(t, r, {\\theta}, {\\phi}\\right) & \\longmapsto & -\\frac{{\\left(r^{2} e^{\\left(\\lambda\\left(t, r\\right)\\right)} \\left(\\frac{\\partial\\,\\lambda}{\\partial t}\\right)^{2} - r^{2} e^{\\left(\\lambda\\left(t, r\\right)\\right)} \\frac{\\partial\\,\\lambda}{\\partial t} \\frac{\\partial\\,\\nu}{\\partial t} - r^{2} e^{\\left(\\nu\\left(t, r\\right)\\right)} \\left(\\frac{\\partial\\,\\nu}{\\partial r}\\right)^{2} + 2 \\, r^{2} e^{\\left(\\lambda\\left(t, r\\right)\\right)} \\frac{\\partial^2\\,\\lambda}{\\partial t ^ 2} - 2 \\, r^{2} e^{\\left(\\nu\\left(t, r\\right)\\right)} \\frac{\\partial^2\\,\\nu}{\\partial r ^ 2} + 4 \\, r e^{\\left(\\nu\\left(t, r\\right)\\right)} \\frac{\\partial\\,\\lambda}{\\partial r} + 4 \\, {\\left(e^{\\left(\\lambda\\left(t, r\\right)\\right)} - 1\\right)} e^{\\left(\\nu\\left(t, r\\right)\\right)} + {\\left(r^{2} e^{\\left(\\nu\\left(t, r\\right)\\right)} \\frac{\\partial\\,\\lambda}{\\partial r} - 4 \\, r e^{\\left(\\nu\\left(t, r\\right)\\right)}\\right)} \\frac{\\partial\\,\\nu}{\\partial r}\\right)} e^{\\left(-\\lambda\\left(t, r\\right) - \\nu\\left(t, r\\right)\\right)}}{2 \\, r^{2}} \\end{array}</script></html>"
      ],
      "text/plain": [
       "r(g): Man --> R\n",
       "   (t, r, th, ph) |--> -1/2*(r^2*e^(l(t, r))*(d(l)/dt)^2 - r^2*e^(l(t, r))*d(l)/dt*d(v)/dt - r^2*e^(v(t, r))*(d(v)/dr)^2 + 2*r^2*e^(l(t, r))*d^2(l)/dt^2 - 2*r^2*e^(v(t, r))*d^2(v)/dr^2 + 4*r*e^(v(t, r))*d(l)/dr + 4*(e^(l(t, r)) - 1)*e^(v(t, r)) + (r^2*e^(v(t, r))*d(l)/dr - 4*r*e^(v(t, r)))*d(v)/dr)*e^(-l(t, r) - v(t, r))/r^2"
      ]
     },
     "metadata": {},
     "output_type": "display_data"
    }
   ],
   "source": [
    "show('Escalar de curvatura');\n",
    "show(Rs.display());"
   ]
  },
  {
   "cell_type": "code",
   "execution_count": 56,
   "metadata": {
    "collapsed": false,
    "deletable": true,
    "editable": true
   },
   "outputs": [],
   "source": [
    "ET=Ric-(1/2)*g*g.ricci_scalar();\n",
    "ET.set_name('G')"
   ]
  },
  {
   "cell_type": "code",
   "execution_count": 17,
   "metadata": {
    "collapsed": false,
    "deletable": true,
    "editable": true
   },
   "outputs": [
    {
     "data": {
      "text/html": [
       "<html><script type=\"math/tex; mode=display\">\\newcommand{\\Bold}[1]{\\mathbf{#1}}\\verb|Tensor|\\phantom{\\verb!x!}\\verb|de|\\phantom{\\verb!x!}\\verb|Einstein|</script></html>"
      ],
      "text/plain": [
       "'Tensor de Einstein'"
      ]
     },
     "metadata": {},
     "output_type": "display_data"
    },
    {
     "data": {
      "text/html": [
       "<html><script type=\"math/tex; mode=display\">\\newcommand{\\Bold}[1]{\\mathbf{#1}}\\begin{array}{lcl} G_{ \\, t \\, t }^{ \\phantom{\\, t}\\phantom{\\, t} } & = & \\frac{{\\left(r e^{\\left(\\nu\\left(t, r\\right)\\right)} \\frac{\\partial\\,\\lambda}{\\partial r} + {\\left(e^{\\left(\\lambda\\left(t, r\\right)\\right)} - 1\\right)} e^{\\left(\\nu\\left(t, r\\right)\\right)}\\right)} e^{\\left(-\\lambda\\left(t, r\\right)\\right)}}{r^{2}} \\\\ G_{ \\, t \\, r }^{ \\phantom{\\, t}\\phantom{\\, r} } & = & \\frac{\\frac{\\partial\\,\\lambda}{\\partial t}}{r} \\\\ G_{ \\, r \\, t }^{ \\phantom{\\, r}\\phantom{\\, t} } & = & \\frac{\\frac{\\partial\\,\\lambda}{\\partial t}}{r} \\\\ G_{ \\, r \\, r }^{ \\phantom{\\, r}\\phantom{\\, r} } & = & \\frac{r \\frac{\\partial\\,\\nu}{\\partial r} - e^{\\left(\\lambda\\left(t, r\\right)\\right)} + 1}{r^{2}} \\\\ G_{ \\, {\\theta} \\, {\\theta} }^{ \\phantom{\\, {\\theta}}\\phantom{\\, {\\theta}} } & = & -\\frac{1}{4} \\, {\\left(r^{2} e^{\\left(\\lambda\\left(t, r\\right)\\right)} \\left(\\frac{\\partial\\,\\lambda}{\\partial t}\\right)^{2} - r^{2} e^{\\left(\\lambda\\left(t, r\\right)\\right)} \\frac{\\partial\\,\\lambda}{\\partial t} \\frac{\\partial\\,\\nu}{\\partial t} - r^{2} e^{\\left(\\nu\\left(t, r\\right)\\right)} \\left(\\frac{\\partial\\,\\nu}{\\partial r}\\right)^{2} + 2 \\, r^{2} e^{\\left(\\lambda\\left(t, r\\right)\\right)} \\frac{\\partial^2\\,\\lambda}{\\partial t ^ 2} - 2 \\, r^{2} e^{\\left(\\nu\\left(t, r\\right)\\right)} \\frac{\\partial^2\\,\\nu}{\\partial r ^ 2} + 2 \\, r e^{\\left(\\nu\\left(t, r\\right)\\right)} \\frac{\\partial\\,\\lambda}{\\partial r} + {\\left(r^{2} e^{\\left(\\nu\\left(t, r\\right)\\right)} \\frac{\\partial\\,\\lambda}{\\partial r} - 2 \\, r e^{\\left(\\nu\\left(t, r\\right)\\right)}\\right)} \\frac{\\partial\\,\\nu}{\\partial r}\\right)} e^{\\left(-\\lambda\\left(t, r\\right) - \\nu\\left(t, r\\right)\\right)} \\\\ G_{ \\, {\\phi} \\, {\\phi} }^{ \\phantom{\\, {\\phi}}\\phantom{\\, {\\phi}} } & = & -\\frac{1}{4} \\, {\\left(r^{2} e^{\\left(\\lambda\\left(t, r\\right)\\right)} \\left(\\frac{\\partial\\,\\lambda}{\\partial t}\\right)^{2} - r^{2} e^{\\left(\\lambda\\left(t, r\\right)\\right)} \\frac{\\partial\\,\\lambda}{\\partial t} \\frac{\\partial\\,\\nu}{\\partial t} - r^{2} e^{\\left(\\nu\\left(t, r\\right)\\right)} \\left(\\frac{\\partial\\,\\nu}{\\partial r}\\right)^{2} + 2 \\, r^{2} e^{\\left(\\lambda\\left(t, r\\right)\\right)} \\frac{\\partial^2\\,\\lambda}{\\partial t ^ 2} - 2 \\, r^{2} e^{\\left(\\nu\\left(t, r\\right)\\right)} \\frac{\\partial^2\\,\\nu}{\\partial r ^ 2} + 2 \\, r e^{\\left(\\nu\\left(t, r\\right)\\right)} \\frac{\\partial\\,\\lambda}{\\partial r} + {\\left(r^{2} e^{\\left(\\nu\\left(t, r\\right)\\right)} \\frac{\\partial\\,\\lambda}{\\partial r} - 2 \\, r e^{\\left(\\nu\\left(t, r\\right)\\right)}\\right)} \\frac{\\partial\\,\\nu}{\\partial r}\\right)} e^{\\left(-\\lambda\\left(t, r\\right) - \\nu\\left(t, r\\right)\\right)} \\sin\\left({\\theta}\\right)^{2} \\end{array}</script></html>"
      ],
      "text/plain": [
       "G_t,t = (r*e^(v(t, r))*d(l)/dr + (e^(l(t, r)) - 1)*e^(v(t, r)))*e^(-l(t, r))/r^2 \n",
       "G_t,r = d(l)/dt/r \n",
       "G_r,t = d(l)/dt/r \n",
       "G_r,r = (r*d(v)/dr - e^(l(t, r)) + 1)/r^2 \n",
       "G_th,th = -1/4*(r^2*e^(l(t, r))*(d(l)/dt)^2 - r^2*e^(l(t, r))*d(l)/dt*d(v)/dt - r^2*e^(v(t, r))*(d(v)/dr)^2 + 2*r^2*e^(l(t, r))*d^2(l)/dt^2 - 2*r^2*e^(v(t, r))*d^2(v)/dr^2 + 2*r*e^(v(t, r))*d(l)/dr + (r^2*e^(v(t, r))*d(l)/dr - 2*r*e^(v(t, r)))*d(v)/dr)*e^(-l(t, r) - v(t, r)) \n",
       "G_ph,ph = -1/4*(r^2*e^(l(t, r))*(d(l)/dt)^2 - r^2*e^(l(t, r))*d(l)/dt*d(v)/dt - r^2*e^(v(t, r))*(d(v)/dr)^2 + 2*r^2*e^(l(t, r))*d^2(l)/dt^2 - 2*r^2*e^(v(t, r))*d^2(v)/dr^2 + 2*r*e^(v(t, r))*d(l)/dr + (r^2*e^(v(t, r))*d(l)/dr - 2*r*e^(v(t, r)))*d(v)/dr)*e^(-l(t, r) - v(t, r))*sin(th)^2 "
      ]
     },
     "metadata": {},
     "output_type": "display_data"
    }
   ],
   "source": [
    "#show(ET.display());\n",
    "#show(ET[:]);\n",
    "show('Tensor de Einstein');\n",
    "show(ET.display_comp());"
   ]
  },
  {
   "cell_type": "code",
   "execution_count": 57,
   "metadata": {
    "collapsed": false,
    "deletable": true,
    "editable": true
   },
   "outputs": [
    {
     "data": {
      "text/html": [
       "<html><script type=\"math/tex; mode=display\">\\newcommand{\\Bold}[1]{\\mathbf{#1}}\\verb|Componentes|\\phantom{\\verb!x!}\\verb|mixtas|\\phantom{\\verb!x!}\\verb|tensor|\\phantom{\\verb!x!}\\verb|de|\\phantom{\\verb!x!}\\verb|Einstein|</script></html>"
      ],
      "text/plain": [
       "'Componentes mixtas tensor de Einstein'"
      ]
     },
     "metadata": {},
     "output_type": "display_data"
    },
    {
     "data": {
      "text/html": [
       "<html><script type=\"math/tex; mode=display\">\\newcommand{\\Bold}[1]{\\mathbf{#1}}\\begin{array}{lcl} G_{ \\phantom{\\, t} \\, t }^{ \\, t \\phantom{\\, t} } & = & \\frac{{\\left(r \\frac{\\partial\\,\\lambda}{\\partial r} + e^{\\left(\\lambda\\left(t, r\\right)\\right)} - 1\\right)} e^{\\left(-\\lambda\\left(t, r\\right)\\right)}}{r^{2}} \\\\ G_{ \\phantom{\\, t} \\, r }^{ \\, t \\phantom{\\, r} } & = & \\frac{e^{\\left(-\\nu\\left(t, r\\right)\\right)} \\frac{\\partial\\,\\lambda}{\\partial t}}{r} \\\\ G_{ \\phantom{\\, r} \\, t }^{ \\, r \\phantom{\\, t} } & = & -\\frac{e^{\\left(-\\lambda\\left(t, r\\right)\\right)} \\frac{\\partial\\,\\lambda}{\\partial t}}{r} \\\\ G_{ \\phantom{\\, r} \\, r }^{ \\, r \\phantom{\\, r} } & = & -\\frac{{\\left(r \\frac{\\partial\\,\\nu}{\\partial r} - e^{\\left(\\lambda\\left(t, r\\right)\\right)} + 1\\right)} e^{\\left(-\\lambda\\left(t, r\\right)\\right)}}{r^{2}} \\\\ G_{ \\phantom{\\, {\\theta}} \\, {\\theta} }^{ \\, {\\theta} \\phantom{\\, {\\theta}} } & = & \\frac{{\\left(r e^{\\left(\\lambda\\left(t, r\\right)\\right)} \\left(\\frac{\\partial\\,\\lambda}{\\partial t}\\right)^{2} - r e^{\\left(\\lambda\\left(t, r\\right)\\right)} \\frac{\\partial\\,\\lambda}{\\partial t} \\frac{\\partial\\,\\nu}{\\partial t} - r e^{\\left(\\nu\\left(t, r\\right)\\right)} \\left(\\frac{\\partial\\,\\nu}{\\partial r}\\right)^{2} + 2 \\, r e^{\\left(\\lambda\\left(t, r\\right)\\right)} \\frac{\\partial^2\\,\\lambda}{\\partial t ^ 2} - 2 \\, r e^{\\left(\\nu\\left(t, r\\right)\\right)} \\frac{\\partial^2\\,\\nu}{\\partial r ^ 2} + 2 \\, e^{\\left(\\nu\\left(t, r\\right)\\right)} \\frac{\\partial\\,\\lambda}{\\partial r} + {\\left(r e^{\\left(\\nu\\left(t, r\\right)\\right)} \\frac{\\partial\\,\\lambda}{\\partial r} - 2 \\, e^{\\left(\\nu\\left(t, r\\right)\\right)}\\right)} \\frac{\\partial\\,\\nu}{\\partial r}\\right)} e^{\\left(-\\lambda\\left(t, r\\right) - \\nu\\left(t, r\\right)\\right)}}{4 \\, r} \\\\ G_{ \\phantom{\\, {\\phi}} \\, {\\phi} }^{ \\, {\\phi} \\phantom{\\, {\\phi}} } & = & \\frac{{\\left(r e^{\\left(\\lambda\\left(t, r\\right)\\right)} \\left(\\frac{\\partial\\,\\lambda}{\\partial t}\\right)^{2} - r e^{\\left(\\lambda\\left(t, r\\right)\\right)} \\frac{\\partial\\,\\lambda}{\\partial t} \\frac{\\partial\\,\\nu}{\\partial t} - r e^{\\left(\\nu\\left(t, r\\right)\\right)} \\left(\\frac{\\partial\\,\\nu}{\\partial r}\\right)^{2} + 2 \\, r e^{\\left(\\lambda\\left(t, r\\right)\\right)} \\frac{\\partial^2\\,\\lambda}{\\partial t ^ 2} - 2 \\, r e^{\\left(\\nu\\left(t, r\\right)\\right)} \\frac{\\partial^2\\,\\nu}{\\partial r ^ 2} + 2 \\, e^{\\left(\\nu\\left(t, r\\right)\\right)} \\frac{\\partial\\,\\lambda}{\\partial r} + {\\left(r e^{\\left(\\nu\\left(t, r\\right)\\right)} \\frac{\\partial\\,\\lambda}{\\partial r} - 2 \\, e^{\\left(\\nu\\left(t, r\\right)\\right)}\\right)} \\frac{\\partial\\,\\nu}{\\partial r}\\right)} e^{\\left(-\\lambda\\left(t, r\\right) - \\nu\\left(t, r\\right)\\right)}}{4 \\, r} \\end{array}</script></html>"
      ],
      "text/plain": [
       "G^t_t = (r*d(l)/dr + e^(l(t, r)) - 1)*e^(-l(t, r))/r^2 \n",
       "G^t_r = e^(-v(t, r))*d(l)/dt/r \n",
       "G^r_t = -e^(-l(t, r))*d(l)/dt/r \n",
       "G^r_r = -(r*d(v)/dr - e^(l(t, r)) + 1)*e^(-l(t, r))/r^2 \n",
       "G^th_th = 1/4*(r*e^(l(t, r))*(d(l)/dt)^2 - r*e^(l(t, r))*d(l)/dt*d(v)/dt - r*e^(v(t, r))*(d(v)/dr)^2 + 2*r*e^(l(t, r))*d^2(l)/dt^2 - 2*r*e^(v(t, r))*d^2(v)/dr^2 + 2*e^(v(t, r))*d(l)/dr + (r*e^(v(t, r))*d(l)/dr - 2*e^(v(t, r)))*d(v)/dr)*e^(-l(t, r) - v(t, r))/r \n",
       "G^ph_ph = 1/4*(r*e^(l(t, r))*(d(l)/dt)^2 - r*e^(l(t, r))*d(l)/dt*d(v)/dt - r*e^(v(t, r))*(d(v)/dr)^2 + 2*r*e^(l(t, r))*d^2(l)/dt^2 - 2*r*e^(v(t, r))*d^2(v)/dr^2 + 2*e^(v(t, r))*d(l)/dr + (r*e^(v(t, r))*d(l)/dr - 2*e^(v(t, r)))*d(v)/dr)*e^(-l(t, r) - v(t, r))/r "
      ]
     },
     "metadata": {},
     "output_type": "display_data"
    }
   ],
   "source": [
    "gu=g.up(g)\n",
    "ETm=gu['^am']*ET['_mb'];\n",
    "ETm.set_name('G');\n",
    "show('Componentes mixtas tensor de Einstein')\n",
    "show(ETm.display_comp());"
   ]
  },
  {
   "cell_type": "markdown",
   "metadata": {
    "deletable": true,
    "editable": true
   },
   "source": [
    "<h1>Tensor energía-momentum</h1>"
   ]
  },
  {
   "cell_type": "code",
   "execution_count": 58,
   "metadata": {
    "collapsed": false,
    "deletable": true,
    "editable": true
   },
   "outputs": [
    {
     "data": {
      "text/html": [
       "<html><script type=\"math/tex; mode=display\">\\newcommand{\\Bold}[1]{\\mathbf{#1}}T</script></html>"
      ],
      "text/plain": [
       "Tensor field Tdd of type (0,2) on the 4-dimensional differentiable manifold Man"
      ]
     },
     "execution_count": 58,
     "metadata": {},
     "output_type": "execute_result"
    }
   ],
   "source": [
    "Tdd=Man.tensor_field(0,2, name='Tdd', latex_name=r'T'); Tdd"
   ]
  },
  {
   "cell_type": "code",
   "execution_count": 59,
   "metadata": {
    "collapsed": false,
    "deletable": true,
    "editable": true
   },
   "outputs": [],
   "source": [
    "p1=function('p1',latex_name=r'P_{r}')(t,r);\n",
    "p2=function('p2',latex_name=r'P_{\\perp}')(t,r);\n",
    "rho=function('rho')(t,r);\n",
    "q=function('q',latex_name=r'\\hat{q}')(t,r);"
   ]
  },
  {
   "cell_type": "code",
   "execution_count": 60,
   "metadata": {
    "collapsed": false,
    "deletable": true,
    "editable": true
   },
   "outputs": [],
   "source": [
    "Tdd[0,0]=rho;\n",
    "Tdd[1,1]=p1;\n",
    "Tdd[2,2]=p2;\n",
    "Tdd[3,3]=p2;\n",
    "Tdd[0,1]=-q;\n",
    "Tdd[1,0]=-q;"
   ]
  },
  {
   "cell_type": "code",
   "execution_count": 22,
   "metadata": {
    "collapsed": false,
    "deletable": true,
    "editable": true
   },
   "outputs": [
    {
     "data": {
      "text/html": [
       "<html><script type=\"math/tex; mode=display\">\\newcommand{\\Bold}[1]{\\mathbf{#1}}\\verb|Tensor|\\phantom{\\verb!x!}\\verb|de|\\phantom{\\verb!x!}\\verb|Energía-Momentum|\\phantom{\\verb!x!}\\verb|dd|</script></html>"
      ],
      "text/plain": [
       "'Tensor de Energ\\xc3\\xada-Momentum dd'"
      ]
     },
     "metadata": {},
     "output_type": "display_data"
    },
    {
     "data": {
      "text/html": [
       "<html><script type=\"math/tex; mode=display\">\\newcommand{\\Bold}[1]{\\mathbf{#1}}\\left(\\begin{array}{rrrr}\n",
       "\\rho\\left(t, r\\right) & -\\hat{q}\\left(t, r\\right) & 0 & 0 \\\\\n",
       "-\\hat{q}\\left(t, r\\right) & P_{r}\\left(t, r\\right) & 0 & 0 \\\\\n",
       "0 & 0 & P_{\\perp}\\left(t, r\\right) & 0 \\\\\n",
       "0 & 0 & 0 & P_{\\perp}\\left(t, r\\right)\n",
       "\\end{array}\\right)</script></html>"
      ],
      "text/plain": [
       "[rho(t, r)  -q(t, r)         0         0]\n",
       "[ -q(t, r)  p1(t, r)         0         0]\n",
       "[        0         0  p2(t, r)         0]\n",
       "[        0         0         0  p2(t, r)]"
      ]
     },
     "metadata": {},
     "output_type": "display_data"
    }
   ],
   "source": [
    "show('Tensor de Energía-Momentum dd');\n",
    "show(Tdd[:]);"
   ]
  },
  {
   "cell_type": "code",
   "execution_count": 23,
   "metadata": {
    "collapsed": false,
    "deletable": true,
    "editable": true
   },
   "outputs": [
    {
     "data": {
      "text/html": [
       "<html><script type=\"math/tex; mode=display\">\\newcommand{\\Bold}[1]{\\mathbf{#1}}\\begin{array}{lcl} T_{ \\, t \\, t }^{ \\phantom{\\, t}\\phantom{\\, t} } & = & \\rho\\left(t, r\\right) \\\\ T_{ \\, t \\, r }^{ \\phantom{\\, t}\\phantom{\\, r} } & = & -\\hat{q}\\left(t, r\\right) \\\\ T_{ \\, r \\, t }^{ \\phantom{\\, r}\\phantom{\\, t} } & = & -\\hat{q}\\left(t, r\\right) \\\\ T_{ \\, r \\, r }^{ \\phantom{\\, r}\\phantom{\\, r} } & = & P_{r}\\left(t, r\\right) \\\\ T_{ \\, {\\theta} \\, {\\theta} }^{ \\phantom{\\, {\\theta}}\\phantom{\\, {\\theta}} } & = & P_{\\perp}\\left(t, r\\right) \\\\ T_{ \\, {\\phi} \\, {\\phi} }^{ \\phantom{\\, {\\phi}}\\phantom{\\, {\\phi}} } & = & P_{\\perp}\\left(t, r\\right) \\end{array}</script></html>"
      ],
      "text/plain": [
       "Tdd_t,t = rho(t, r) \n",
       "Tdd_t,r = -q(t, r) \n",
       "Tdd_r,t = -q(t, r) \n",
       "Tdd_r,r = p1(t, r) \n",
       "Tdd_th,th = p2(t, r) \n",
       "Tdd_ph,ph = p2(t, r) "
      ]
     },
     "metadata": {},
     "output_type": "display_data"
    }
   ],
   "source": [
    "show(Tdd.display_comp());"
   ]
  },
  {
   "cell_type": "code",
   "execution_count": null,
   "metadata": {
    "collapsed": true
   },
   "outputs": [],
   "source": []
  }
 ],
 "metadata": {
  "kernelspec": {
   "display_name": "SageMath 8.1",
   "language": "",
   "name": "sagemath"
  },
  "language": "python",
  "language_info": {
   "codemirror_mode": {
    "name": "ipython",
    "version": 2
   },
   "file_extension": ".py",
   "mimetype": "text/x-python",
   "name": "python",
   "nbconvert_exporter": "python",
   "pygments_lexer": "ipython2",
   "version": "2.7.14"
  }
 },
 "nbformat": 4,
 "nbformat_minor": 2
}
